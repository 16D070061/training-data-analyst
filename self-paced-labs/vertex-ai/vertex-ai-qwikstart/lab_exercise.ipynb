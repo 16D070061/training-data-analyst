{
 "cells": [
  {
   "cell_type": "markdown",
   "id": "c5b63c08",
   "metadata": {},
   "source": [
    "# Vertex AI: Qwik Start"
   ]
  },
  {
   "cell_type": "markdown",
   "id": "61658450",
   "metadata": {},
   "source": [
    "## Learning objectives\n",
    "\n",
    "* Train a TensorFlow model locally in a **Vertex Notebook**.\n",
    "* Create a **managed Tabular dataset** artifact for experiment tracking.\n",
    "* Containerize your training code and push it **Google Cloud Container Registry**.\n",
    "* Run a **Vertex AI custom training job** with your custom model container.\n",
    "* Use **Vertex TensorBoard** to monitor model performance during training.\n",
    "* Deploy your trained model to a **Vertex Prediction Endpoint** for serving predictions.\n",
    "* Request an online prediction and see the response."
   ]
  },
  {
   "cell_type": "markdown",
   "id": "75ec9653",
   "metadata": {},
   "source": [
    "## Introduction: customer lifetime value (CLV) prediction with BigQuery and TensorFlow on Vertex AI"
   ]
  },
  {
   "cell_type": "markdown",
   "id": "3003aaac",
   "metadata": {},
   "source": [
    "In this lab, you will use BigQuery and Vertex AI to train and deploy a custom TensorFlow Regressor model to predict customer lifetime value. \n",
    "\n",
    "CLV is a customer's past value plus their predicted future value. Predictive CLV is to calculate how much monetary value a user will bring to the business in a given future time range. By knowing CLTV, we can develop positive ROI strategies and make decisions about how much money to invest in acquiring new customers and retaining existing ones.\n",
    "\n",
    "## Predictive CLV: how much monetary value an existing customer will bring to the business in the future\n",
    "\n",
    "Your task is to predict the future value for existing customers based on their known transaction history.\n",
    "\n",
    "![CLV](./images/clv-rfm.svg \"Customer Lifetime Value\")\n",
    "\n",
    "* **Recency**: The time between the last purchase and today, represented by the distance between the rightmost circle and the vertical dotted line that's labeled \"Now\".\n",
    "* **Frequency**: The time between purchases, represented by the distance between the circles on a single line.\n",
    "* **Monetary**: The amount of money spent on each purchase, represented by the size of the circle. This amount could be the average order value or the quantity of products that the customer ordered.\n",
    "\n",
    "Once your ML model is a success, you can use the results to identify the category of customers more likely to spend money than the others, & make them respond to your offers and discounts with a greater frequency. These customers, with higher loyalty, are your main marketing target. This means retailers can effectively run campaigns based on the predictive lifetime value of any given customer.\n",
    "\n",
    "By using the approaches described in this series to predict your customers' value, you can prioritize your next actions, such as the following:\n",
    "\n",
    "* Decide how much to invest in advertising.\n",
    "* Decide which customers to target with advertising.\n",
    "* Plan how to move customers from one segment to another."
   ]
  },
  {
   "cell_type": "markdown",
   "id": "367185f3",
   "metadata": {},
   "source": [
    "## Setup"
   ]
  },
  {
   "cell_type": "markdown",
   "id": "e9089e8d",
   "metadata": {},
   "source": [
    "### Define constants"
   ]
  },
  {
   "cell_type": "code",
   "execution_count": 2,
   "id": "92a78413",
   "metadata": {},
   "outputs": [
    {
     "name": "stdout",
     "output_type": "stream",
     "text": [
      "env: PATH=/usr/local/cuda/bin:/opt/conda/bin:/opt/conda/condabin:/usr/local/bin:/usr/bin:/bin:/usr/local/games:/usr/games:/home/jupyter/.local/bin\n"
     ]
    }
   ],
   "source": [
    "# Add installed depedencies to Python PATH variable.\n",
    "PATH=%env PATH\n",
    "%env PATH={PATH}:/home/jupyter/.local/bin"
   ]
  },
  {
   "cell_type": "code",
   "execution_count": 3,
   "id": "da613191",
   "metadata": {},
   "outputs": [],
   "source": [
    "# Retrieve and set PROJECT_ID and REGION environment variables.\n",
    "PROJECT_ID = !(gcloud config get-value core/project)\n",
    "PROJECT_ID = PROJECT_ID[0]\n",
    "REGION = 'us-central1'"
   ]
  },
  {
   "cell_type": "code",
   "execution_count": 4,
   "id": "63a324e6",
   "metadata": {},
   "outputs": [
    {
     "name": "stdout",
     "output_type": "stream",
     "text": [
      "gs://dougkelly-vertex-demos-bucket\n"
     ]
    }
   ],
   "source": [
    "# Create Google Cloud Storage bucket for artifact storage.\n",
    "BUCKET_NAME = f\"gs://{PROJECT_ID}-bucket\"\n",
    "print(BUCKET_NAME)"
   ]
  },
  {
   "cell_type": "code",
   "execution_count": null,
   "id": "40357b23",
   "metadata": {},
   "outputs": [],
   "source": [
    "MODEL_NAME = \"online-retail-clv\""
   ]
  },
  {
   "cell_type": "markdown",
   "id": "93442c23",
   "metadata": {},
   "source": [
    "### Import libraries"
   ]
  },
  {
   "cell_type": "code",
   "execution_count": 5,
   "id": "858ab8c7",
   "metadata": {},
   "outputs": [],
   "source": [
    "import os\n",
    "import numpy as np\n",
    "import pandas as pd\n",
    "import tensorflow as tf\n",
    "from tensorflow.keras.layers.experimental import preprocessing\n",
    "import matplotlib.pyplot as plt\n",
    "\n",
    "from google.cloud import aiplatform"
   ]
  },
  {
   "cell_type": "code",
   "execution_count": 6,
   "id": "a0bc2edd",
   "metadata": {},
   "outputs": [],
   "source": [
    "os.environ[\"GOOGLE_CLOUD_PROJECT\"] = PROJECT_ID"
   ]
  },
  {
   "cell_type": "markdown",
   "id": "f5433ed2",
   "metadata": {},
   "source": [
    "## Exploratory data analysis (EDA) in BigQuery"
   ]
  },
  {
   "cell_type": "code",
   "execution_count": null,
   "id": "373a0f56",
   "metadata": {},
   "outputs": [],
   "source": []
  },
  {
   "cell_type": "markdown",
   "id": "37890a5c",
   "metadata": {},
   "source": [
    "![CLV](./images/clv-data-splits.svg \"Customer Lifetime Value\")"
   ]
  },
  {
   "cell_type": "markdown",
   "id": "3e7f5e64",
   "metadata": {},
   "source": [
    "### Q: Recency"
   ]
  },
  {
   "cell_type": "code",
   "execution_count": null,
   "id": "87e6d69a",
   "metadata": {},
   "outputs": [],
   "source": []
  },
  {
   "cell_type": "markdown",
   "id": "ce1012d7",
   "metadata": {},
   "source": [
    "### Q: Frequency"
   ]
  },
  {
   "cell_type": "code",
   "execution_count": null,
   "id": "e567d2ce",
   "metadata": {},
   "outputs": [],
   "source": []
  },
  {
   "cell_type": "markdown",
   "id": "877eaf61",
   "metadata": {},
   "source": [
    "### Q: Monetary"
   ]
  },
  {
   "cell_type": "code",
   "execution_count": null,
   "id": "422fa492",
   "metadata": {},
   "outputs": [],
   "source": []
  },
  {
   "cell_type": "markdown",
   "id": "e443c4cd",
   "metadata": {},
   "source": [
    "### Establish a simple model performance baseline"
   ]
  },
  {
   "cell_type": "code",
   "execution_count": 7,
   "id": "c18dafaf",
   "metadata": {},
   "outputs": [
    {
     "name": "stderr",
     "output_type": "stream",
     "text": [
      "Query complete after 0.00s: 100%|██████████| 1/1 [00:00<00:00, 764.41query/s] \n",
      "Downloading: 100%|██████████| 1/1 [00:01<00:00,  1.51s/rows]\n"
     ]
    },
    {
     "data": {
      "text/html": [
       "<div>\n",
       "<style scoped>\n",
       "    .dataframe tbody tr th:only-of-type {\n",
       "        vertical-align: middle;\n",
       "    }\n",
       "\n",
       "    .dataframe tbody tr th {\n",
       "        vertical-align: top;\n",
       "    }\n",
       "\n",
       "    .dataframe thead th {\n",
       "        text-align: right;\n",
       "    }\n",
       "</style>\n",
       "<table border=\"1\" class=\"dataframe\">\n",
       "  <thead>\n",
       "    <tr style=\"text-align: right;\">\n",
       "      <th></th>\n",
       "      <th>MAE</th>\n",
       "      <th>MSE</th>\n",
       "      <th>RMSE</th>\n",
       "    </tr>\n",
       "  </thead>\n",
       "  <tbody>\n",
       "    <tr>\n",
       "      <th>0</th>\n",
       "      <td>1762.06</td>\n",
       "      <td>81502420.93</td>\n",
       "      <td>9027.87</td>\n",
       "    </tr>\n",
       "  </tbody>\n",
       "</table>\n",
       "</div>"
      ],
      "text/plain": [
       "       MAE          MSE     RMSE\n",
       "0  1762.06  81502420.93  9027.87"
      ]
     },
     "execution_count": 7,
     "metadata": {},
     "output_type": "execute_result"
    }
   ],
   "source": [
    "%%bigquery\n",
    "\n",
    "WITH\n",
    "  day_intervals AS (\n",
    "  SELECT\n",
    "      customer_id,\n",
    "      DATE_DIFF(DATE('2011-12-01'), DATE('2011-09-01'), DAY) AS target_days,\n",
    "      DATE_DIFF(DATE('2011-09-01'), MIN(order_date), DAY) AS feature_days,\n",
    "  FROM\n",
    "    `dougkelly-vertex-demos.online_retail.online_retail_clv_clean`\n",
    "  GROUP BY\n",
    "      customer_id\n",
    "  ),\n",
    "    \n",
    "  predicted_clv AS (\n",
    "  SELECT\n",
    "      customer_id,\n",
    "      AVG(avg_purchase_revenue) * (COUNT(n_purchases) * (1 + SAFE_DIVIDE(COUNT(target_days),COUNT(feature_days)))) AS predicted_monetary_value_3M,\n",
    "      SUM(target_monetary_value_3M) AS target_monetary_value_3M\n",
    "  FROM\n",
    "    `dougkelly-vertex-demos.online_retail.online_retail_clv_ml`\n",
    "  LEFT JOIN day_intervals USING(customer_id)\n",
    "  GROUP BY\n",
    "      customer_id\n",
    "  )\n",
    "\n",
    "SELECT\n",
    "  ROUND(AVG(ABS(predicted_monetary_value_3M - target_monetary_value_3M)), 2) AS MAE,\n",
    "  ROUND(AVG(POW(predicted_monetary_value_3M - target_monetary_value_3M, 2)), 2) AS MSE,\n",
    "  ROUND(SQRT(AVG(POW(predicted_monetary_value_3M - target_monetary_value_3M, 2))), 2) AS RMSE\n",
    "FROM\n",
    "  predicted_clv"
   ]
  },
  {
   "cell_type": "code",
   "execution_count": 8,
   "id": "f4940ee2",
   "metadata": {},
   "outputs": [
    {
     "name": "stderr",
     "output_type": "stream",
     "text": [
      "Query complete after 0.00s: 100%|██████████| 1/1 [00:00<00:00, 894.69query/s] \n",
      "Downloading: 100%|██████████| 3324/3324 [00:01<00:00, 1843.05rows/s]\n"
     ]
    }
   ],
   "source": [
    "%%bigquery baseline\n",
    "\n",
    "WITH\n",
    "  day_intervals AS (\n",
    "  SELECT\n",
    "      customer_id,\n",
    "      DATE_DIFF(DATE('2011-12-01'), DATE('2011-09-01'), DAY) AS target_days,\n",
    "      DATE_DIFF(DATE('2011-09-01'), MIN(order_date), DAY) AS feature_days,\n",
    "  FROM\n",
    "    `dougkelly-vertex-demos.online_retail.online_retail_clv_clean`\n",
    "  GROUP BY\n",
    "      customer_id\n",
    "  ),\n",
    "    \n",
    "  predicted_clv AS (\n",
    "  SELECT\n",
    "      customer_id,\n",
    "      AVG(avg_purchase_revenue) * (COUNT(n_purchases) * (1 + SAFE_DIVIDE(COUNT(target_days),COUNT(feature_days)))) AS predicted_monetary_value_3M,\n",
    "      SUM(target_monetary_value_3M) AS target_monetary_value_3M\n",
    "  FROM\n",
    "    `dougkelly-vertex-demos.online_retail.online_retail_clv_ml`\n",
    "  INNER JOIN day_intervals USING(customer_id)\n",
    "  GROUP BY\n",
    "      customer_id\n",
    "  )\n",
    "\n",
    "SELECT\n",
    " *\n",
    "FROM\n",
    "  predicted_clv"
   ]
  },
  {
   "cell_type": "code",
   "execution_count": 9,
   "id": "95e79a47",
   "metadata": {},
   "outputs": [
    {
     "data": {
      "text/html": [
       "<div>\n",
       "<style scoped>\n",
       "    .dataframe tbody tr th:only-of-type {\n",
       "        vertical-align: middle;\n",
       "    }\n",
       "\n",
       "    .dataframe tbody tr th {\n",
       "        vertical-align: top;\n",
       "    }\n",
       "\n",
       "    .dataframe thead th {\n",
       "        text-align: right;\n",
       "    }\n",
       "</style>\n",
       "<table border=\"1\" class=\"dataframe\">\n",
       "  <thead>\n",
       "    <tr style=\"text-align: right;\">\n",
       "      <th></th>\n",
       "      <th>customer_id</th>\n",
       "      <th>predicted_monetary_value_3M</th>\n",
       "      <th>target_monetary_value_3M</th>\n",
       "    </tr>\n",
       "  </thead>\n",
       "  <tbody>\n",
       "    <tr>\n",
       "      <th>0</th>\n",
       "      <td>14420.0</td>\n",
       "      <td>775.04</td>\n",
       "      <td>387.52</td>\n",
       "    </tr>\n",
       "    <tr>\n",
       "      <th>1</th>\n",
       "      <td>13099.0</td>\n",
       "      <td>414.72</td>\n",
       "      <td>207.36</td>\n",
       "    </tr>\n",
       "    <tr>\n",
       "      <th>2</th>\n",
       "      <td>12436.0</td>\n",
       "      <td>1018.02</td>\n",
       "      <td>509.01</td>\n",
       "    </tr>\n",
       "    <tr>\n",
       "      <th>3</th>\n",
       "      <td>13276.0</td>\n",
       "      <td>274.76</td>\n",
       "      <td>590.93</td>\n",
       "    </tr>\n",
       "    <tr>\n",
       "      <th>4</th>\n",
       "      <td>12739.0</td>\n",
       "      <td>1951.08</td>\n",
       "      <td>1013.04</td>\n",
       "    </tr>\n",
       "  </tbody>\n",
       "</table>\n",
       "</div>"
      ],
      "text/plain": [
       "  customer_id  predicted_monetary_value_3M  target_monetary_value_3M\n",
       "0     14420.0                       775.04                    387.52\n",
       "1     13099.0                       414.72                    207.36\n",
       "2     12436.0                      1018.02                    509.01\n",
       "3     13276.0                       274.76                    590.93\n",
       "4     12739.0                      1951.08                   1013.04"
      ]
     },
     "execution_count": 9,
     "metadata": {},
     "output_type": "execute_result"
    }
   ],
   "source": [
    "baseline.head()"
   ]
  },
  {
   "cell_type": "code",
   "execution_count": 10,
   "id": "9d9445a5",
   "metadata": {},
   "outputs": [
    {
     "data": {
      "image/png": "[encoded data removed]",
      "text/plain": [
       "<Figure size 432x288 with 1 Axes>"
      ]
     },
     "metadata": {
      "needs_background": "light"
     },
     "output_type": "display_data"
    }
   ],
   "source": [
    "baseline.plot(kind='scatter',\n",
    "              x='predicted_monetary_value_3M', \n",
    "              y='target_monetary_value_3M',\n",
    "             title='Actual vs. Predicted customer 3-month monetary value',\n",
    "             grid=True);"
   ]
  },
  {
   "cell_type": "code",
   "execution_count": 30,
   "id": "4a7ebefa",
   "metadata": {},
   "outputs": [
    {
     "name": "stderr",
     "output_type": "stream",
     "text": [
      "Query complete after 0.00s: 100%|██████████| 2/2 [00:00<00:00, 921.52query/s]                         \n",
      "Downloading: 100%|██████████| 3/3 [00:01<00:00,  2.26rows/s]\n"
     ]
    },
    {
     "data": {
      "text/html": [
       "<div>\n",
       "<style scoped>\n",
       "    .dataframe tbody tr th:only-of-type {\n",
       "        vertical-align: middle;\n",
       "    }\n",
       "\n",
       "    .dataframe tbody tr th {\n",
       "        vertical-align: top;\n",
       "    }\n",
       "\n",
       "    .dataframe thead th {\n",
       "        text-align: right;\n",
       "    }\n",
       "</style>\n",
       "<table border=\"1\" class=\"dataframe\">\n",
       "  <thead>\n",
       "    <tr style=\"text-align: right;\">\n",
       "      <th></th>\n",
       "      <th>data_split</th>\n",
       "      <th>f0_</th>\n",
       "    </tr>\n",
       "  </thead>\n",
       "  <tbody>\n",
       "    <tr>\n",
       "      <th>0</th>\n",
       "      <td>TRAIN</td>\n",
       "      <td>2638</td>\n",
       "    </tr>\n",
       "    <tr>\n",
       "      <th>1</th>\n",
       "      <td>TEST</td>\n",
       "      <td>339</td>\n",
       "    </tr>\n",
       "    <tr>\n",
       "      <th>2</th>\n",
       "      <td>VALIDATE</td>\n",
       "      <td>353</td>\n",
       "    </tr>\n",
       "  </tbody>\n",
       "</table>\n",
       "</div>"
      ],
      "text/plain": [
       "  data_split   f0_\n",
       "0      TRAIN  2638\n",
       "1       TEST   339\n",
       "2   VALIDATE   353"
      ]
     },
     "execution_count": 30,
     "metadata": {},
     "output_type": "execute_result"
    }
   ],
   "source": [
    "%%bigquery\n",
    "\n",
    "SELECT data_split, COUNT(*)\n",
    "FROM dougkelly-vertex-demos.online_retail.online_retail_clv_ml\n",
    "GROUP BY data_split"
   ]
  },
  {
   "cell_type": "markdown",
   "id": "0ae8da55",
   "metadata": {},
   "source": [
    "## Train a TensorFlow model locally"
   ]
  },
  {
   "cell_type": "code",
   "execution_count": null,
   "id": "7a470bcf",
   "metadata": {},
   "outputs": [],
   "source": [
    "NUMERIC_FEATURES = [\n",
    "    \"customer_id\",\n",
    "    \"n_purchases\",\n",
    "    \"avg_purchase_size\",\n",
    "    \"avg_purchase_revenue\",\n",
    "    \"customer_age\",\n",
    "    \"days_since_last_purchase\",\n",
    "    \"target_monetary_value_3M\",\n",
    "]\n",
    "\n",
    "CATEGORICAL_FEATURES = [\n",
    "    \"customer_country\"\n",
    "]\n",
    "\n",
    "LABEL = \"target_monetary_value_3M\""
   ]
  },
  {
   "cell_type": "code",
   "execution_count": null,
   "id": "e71c2431",
   "metadata": {},
   "outputs": [],
   "source": []
  },
  {
   "cell_type": "markdown",
   "id": "abfaacb2",
   "metadata": {},
   "source": [
    "## Create a managed Tabular dataset from BigQuery"
   ]
  },
  {
   "cell_type": "code",
   "execution_count": 87,
   "id": "95cf7120",
   "metadata": {},
   "outputs": [
    {
     "name": "stdout",
     "output_type": "stream",
     "text": [
      "INFO:google.cloud.aiplatform.datasets.dataset:Creating TabularDataset\n",
      "INFO:google.cloud.aiplatform.datasets.dataset:Create TabularDataset backing LRO: projects/617979904441/locations/us-central1/datasets/8346058514912772096/operations/177987018159030272\n",
      "INFO:google.cloud.aiplatform.datasets.dataset:TabularDataset created. Resource name: projects/617979904441/locations/us-central1/datasets/8346058514912772096\n",
      "INFO:google.cloud.aiplatform.datasets.dataset:To use this TabularDataset in another session:\n",
      "INFO:google.cloud.aiplatform.datasets.dataset:ds = aiplatform.TabularDataset('projects/617979904441/locations/us-central1/datasets/8346058514912772096')\n"
     ]
    },
    {
     "data": {
      "text/plain": [
       "'8346058514912772096'"
      ]
     },
     "execution_count": 87,
     "metadata": {},
     "output_type": "execute_result"
    }
   ],
   "source": [
    "ds = aiplatform.TabularDataset.create(display_name=\"online-retail-clv\", bq_source=f\"bq://{PROJECT_ID}.online_retail.online_retail_clv_ml\")\n",
    "\n",
    "ds.name"
   ]
  },
  {
   "cell_type": "markdown",
   "id": "5600f1c8",
   "metadata": {},
   "source": [
    "## Containerize your model training code and push it Google Container Registry"
   ]
  },
  {
   "cell_type": "code",
   "execution_count": null,
   "id": "b9688270",
   "metadata": {},
   "outputs": [],
   "source": [
    "Containerizing your model training "
   ]
  },
  {
   "cell_type": "markdown",
   "id": "5fec8b40",
   "metadata": {},
   "source": [
    "### Create Cloudbuild YAML"
   ]
  },
  {
   "cell_type": "code",
   "execution_count": 11,
   "id": "270e0cca",
   "metadata": {},
   "outputs": [],
   "source": [
    "cloudbuild_yaml = \"\"\"steps:\n",
    "- name: 'gcr.io/cloud-builders/docker'\n",
    "  args: [ 'build', '-t', 'gcr.io/{PROJECT_ID}/online-retail-clv', '.' ]\n",
    "images: ['gcr.io/{PROJECT_ID}/online-retail-clv']\"\"\".format(\n",
    "    PROJECT_ID=PROJECT_ID\n",
    ")\n",
    "\n",
    "with open(f\"trainer/cloudbuild.yaml\", \"w\") as fp:\n",
    "    fp.write(cloudbuild_yaml)"
   ]
  },
  {
   "cell_type": "markdown",
   "id": "aa3b3e91",
   "metadata": {},
   "source": [
    "### Create Dockerfile"
   ]
  },
  {
   "cell_type": "code",
   "execution_count": 33,
   "id": "13c0ef53",
   "metadata": {},
   "outputs": [
    {
     "name": "stdout",
     "output_type": "stream",
     "text": [
      "Overwriting trainer/Dockerfile\n"
     ]
    }
   ],
   "source": [
    "%%writefile trainer/Dockerfile\n",
    "# Specifies base image and tag.\n",
    "# https://cloud.google.com/vertex-ai/docs/training/pre-built-containers\n",
    "FROM gcr.io/deeplearning-platform-release/tf2-cpu.2-3\n",
    "WORKDIR /root\n",
    "\n",
    "COPY requirements.txt .\n",
    "# Installs additional packages.\n",
    "RUN pip3 install -U -r requirements.txt\n",
    "\n",
    "# Copies the trainer code to the docker image.\n",
    "COPY task.py /root/task.py\n",
    "\n",
    "# Sets up the entry point to invoke the trainer.\n",
    "ENTRYPOINT [\"python3\", \"task.py\"]"
   ]
  },
  {
   "cell_type": "markdown",
   "id": "7c5938fd",
   "metadata": {},
   "source": [
    "### Write training script"
   ]
  },
  {
   "cell_type": "code",
   "execution_count": null,
   "id": "fd8789f0",
   "metadata": {},
   "outputs": [],
   "source": [
    "parser = argparse.ArgumentParser()\n",
    "parser.add_argument('--model-dir', dest='model_dir',\n",
    "                    default=os.getenv('AIP_MODEL_DIR'), type=str, help='Model dir.')\n",
    "parser.add_argument('--data-format', dest='data-format',\n",
    "                    default=os.getenv('AIP_DATA_FORMAT'), type=str, help=\"Tabular data format. Either 'csv' or 'bigquery'\")\n",
    "parser.add_argument('--training-data-uri', dest='training-data-uri',\n",
    "                    default=os.getenv('AIP_TRAINING_DATA_URI'), type=str, help='Model dir.')\n",
    "parser.add_argument('--validation-data-uri', dest='validation-data-uri',\n",
    "                    default=os.getenv('AIP_VALIDATION_URI'), type=str, help='Model dir.')\n",
    "parser.add_argument('--test-data-uri', dest='test-data-uri',\n",
    "                    default=os.getenv('AIP_TEST_URI'), type=str, help='Model dir.')\n",
    "\n",
    "parser.add_argument('--learning-rate', dest='learning-rate', default=0.001, type=float, help='Learning rate.')\n",
    "parser.add_argument('--epochs', dest='epochs', default=20, type=int, help='Number of epochs.')\n",
    "parser.add_argument('--steps', dest='steps', default=100, type=int, help='Number of steps per epoch.')\n",
    "args = parser.parse_args()"
   ]
  },
  {
   "cell_type": "code",
   "execution_count": 124,
   "id": "cd995101",
   "metadata": {},
   "outputs": [
    {
     "name": "stdout",
     "output_type": "stream",
     "text": [
      "Overwriting trainer/task.py\n"
     ]
    }
   ],
   "source": [
    "%%writefile trainer/task.py\n",
    "\n",
    "import os\n",
    "import tensorflow as tf\n",
    "\n",
    "from tensorflow.python.framework import ops\n",
    "from tensorflow.python.framework import dtypes\n",
    "from tensorflow_io.bigquery import BigQueryClient\n",
    "from tensorflow_io.bigquery import BigQueryReadSession\n",
    "\n",
    "# Model training constants.\n",
    "# Virtual epochs design pattern:\n",
    "# https://medium.com/google-cloud/ml-design-pattern-3-virtual-epochs-f842296de730\n",
    "N_TRAIN_EXAMPLES = 2638\n",
    "N_DEV_EXAMPLES = 353\n",
    "STOP_POINT = 2.0\n",
    "TOTAL_TRAIN_EXAMPLES = int(STOP_POINT * N_TRAIN_EXAMPLES)\n",
    "BATCH_SIZE = 16\n",
    "N_CHECKPOINTS = 2\n",
    "STEPS_PER_EPOCH = (TOTAL_TRAIN_EXAMPLES // (BATCH_SIZE*N_CHECKPOINTS))\n",
    "\n",
    "\n",
    "training_data_uri = os.environ[\"AIP_TRAINING_DATA_URI\"]\n",
    "validation_data_uri = os.environ[\"AIP_VALIDATION_DATA_URI\"]\n",
    "test_data_uri = os.environ[\"AIP_TEST_DATA_URI\"]\n",
    "data_format = os.environ[\"AIP_DATA_FORMAT\"]\n",
    "\n",
    "NUMERIC_FEATURES = [\n",
    "    \"customer_id\",\n",
    "    \"n_purchases\",\n",
    "    \"avg_purchase_size\",\n",
    "    \"avg_purchase_revenue\",\n",
    "    \"customer_age\",\n",
    "    \"days_since_last_purchase\",\n",
    "    \"target_monetary_value_3M\",\n",
    "]\n",
    "\n",
    "CATEGORICAL_FEATURES = [\n",
    "    \"customer_country\"\n",
    "]\n",
    "\n",
    "LABEL = \"target_monetary_value_3M\"\n",
    "\n",
    "\n",
    "def caip_uri_to_fields(uri):\n",
    "    uri = uri[5:]\n",
    "    project, dataset, table = uri.split('.')\n",
    "    return project, dataset, table\n",
    "\n",
    "\n",
    "def features_and_labels(row_data):\n",
    "    label = row_data.pop(LABEL)\n",
    "    features = row_data\n",
    "    return features, label\n",
    "\n",
    "\n",
    "def read_bigquery(project, dataset, table):\n",
    "    tensorflow_io_bigquery_client = BigQueryClient()\n",
    "    read_session = tensorflow_io_bigquery_client.read_session(\n",
    "      parent=\"projects/\" + project,\n",
    "      project_id=project, \n",
    "      dataset_id=dataset,\n",
    "      table_id=table,\n",
    "      selected_fields=NUMERIC_FEATURES + [LABEL],\n",
    "      output_types=[dtypes.float64] * 7 + [dtypes.string],\n",
    "      requested_streams=2)\n",
    "    dataset = read_session.parallel_read_rows()\n",
    "    transformed_ds = dataset.map(features_and_labels)\n",
    "    return transformed_ds\n",
    "\n",
    "BATCH_SIZE = 16\n",
    "\n",
    "training_ds = read_bigquery(*caip_uri_to_fields(training_data_uri)).prefetch(1).shuffle(BATCH_SIZE*10).batch(BATCH_SIZE)\n",
    "eval_ds = read_bigquery(*caip_uri_to_fields(validation_data_uri)).prefetch(1).shuffle(BATCH_SIZE*10).batch(BATCH_SIZE)\n",
    "test_ds = read_bigquery(*caip_uri_to_fields(test_data_uri)).prefetch(1).shuffle(BATCH_SIZE*10).batch(BATCH_SIZE)\n",
    "\n",
    "\n",
    "feature_columns = {\n",
    "    feature: tf.feature_column.numeric_column(feature)\n",
    "    for feature in NUMERIC_FEATURES\n",
    "}\n",
    "\n",
    "\n",
    "# Create a custom evalution metric.\n",
    "def rmse(y_true, y_pred):\n",
    "    return tf.sqrt(tf.reduce_mean(tf.square(y_pred - y_true)))\n",
    "\n",
    "\n",
    "def build_model():\n",
    "    \"\"\"\n",
    "    \"\"\"\n",
    "    model = tf.keras.Sequential([\n",
    "        tf.keras.layers.DenseFeatures(feature_columns.values()),\n",
    "        tf.keras.layers.Dense(64, activation=tf.nn.relu),\n",
    "        tf.keras.layers.Dense(64, activation=tf.nn.relu),\n",
    "        tf.keras.layers.Dense(1)\n",
    "    ])\n",
    "    \n",
    "    optimizer = tf.keras.optimizers.Adam(0.001)\n",
    "    \n",
    "    tensorboard_callback = tf.keras.callbacks.TensorBoard(\n",
    "#         log_dir=os.environ['AIP_TENSORBOARD_LOG_DIR'],\n",
    "        log_dir=os.environ[\"AIP_MODEL_DIR\"] + '/tensorboard-logs',\n",
    "        histogram_freq=1)\n",
    "    \n",
    "    earlystopping_callback = tf.keras.callbacks.EarlyStopping(patience=2)\n",
    "    \n",
    "    checkpoint_callback = tf.keras.callbacks.ModelCheckpoint(\n",
    "        filepath=os.environ[\"AIP_MODEL_DIR\"] + '/checkpoints',\n",
    "        save_weights_only=True,\n",
    "        monitor='val_loss',\n",
    "        mode='min')    \n",
    "    \n",
    "    model.compile(loss='mse',\n",
    "                  optimizer=optimizer,\n",
    "                  callbacks=[[tensorboard_callback, \n",
    "                              earlystopping_callback,\n",
    "                              checkpoint_callback]],\n",
    "                  metrics=[['mae', 'mse', rmse]])\n",
    "    \n",
    "    return model\n",
    "\n",
    "model = build_model()\n",
    "\n",
    "model.fit(training_ds,\n",
    "          validation_data=eval_ds,\n",
    "          steps_per_epoch=STEPS_PER_EPOCH,\n",
    "          epochs=N_CHECKPOINTS,\n",
    "          callbacks=[tensorboard_callback])\n",
    "\n",
    "print(model.evaluate(test_ds))\n",
    "\n",
    "# rankdir='LR' is used to make the graph horizontal.\n",
    "# tf.keras.utils.plot_model(model, show_shapes=True, rankdir=\"LR\")\n",
    "\n",
    "tf.saved_model.save(model, os.environ[\"AIP_MODEL_DIR\"])"
   ]
  },
  {
   "cell_type": "markdown",
   "id": "b1cf7340",
   "metadata": {},
   "source": [
    "### Build and test container locally"
   ]
  },
  {
   "cell_type": "code",
   "execution_count": 26,
   "id": "ff92df8f",
   "metadata": {},
   "outputs": [
    {
     "name": "stdout",
     "output_type": "stream",
     "text": [
      "/home/jupyter/training-data-analyst/self-paced-labs/vertex-ai/vertex-ai-qwikstart/trainer\n"
     ]
    }
   ],
   "source": [
    "%cd ./trainer"
   ]
  },
  {
   "cell_type": "code",
   "execution_count": 78,
   "id": "1a8c4ecc",
   "metadata": {},
   "outputs": [],
   "source": [
    "IMAGE_URI=f'gcr.io/{PROJECT_ID}/online-retail-clv'"
   ]
  },
  {
   "cell_type": "code",
   "execution_count": 28,
   "id": "b4254e62",
   "metadata": {},
   "outputs": [
    {
     "name": "stdout",
     "output_type": "stream",
     "text": [
      "Sending build context to Docker daemon  15.36kB\n",
      "Step 1/6 : FROM gcr.io/deeplearning-platform-release/tf2-cpu.2-3\n",
      " ---> ba7602e939e1\n",
      "Step 2/6 : WORKDIR /root\n",
      " ---> Using cache\n",
      " ---> c770d95c077c\n",
      "Step 3/6 : COPY requirements.txt .\n",
      " ---> Using cache\n",
      " ---> e30a0d135098\n",
      "Step 4/6 : RUN pip3 install -U -r requirements.txt\n",
      " ---> Using cache\n",
      " ---> feca7418e039\n",
      "Step 5/6 : COPY task.py /root/task.py\n",
      " ---> Using cache\n",
      " ---> 78faab8610af\n",
      "Step 6/6 : ENTRYPOINT [\"python3\", \"task.py\"]\n",
      " ---> Using cache\n",
      " ---> 8d71b29f452e\n",
      "Successfully built 8d71b29f452e\n",
      "Successfully tagged gcr.io/dougkelly-vertex-demos/online-retail-clv:latest\n"
     ]
    }
   ],
   "source": [
    "!docker build ./ -t $IMAGE_URI"
   ]
  },
  {
   "cell_type": "code",
   "execution_count": 29,
   "id": "be825238",
   "metadata": {},
   "outputs": [
    {
     "name": "stdout",
     "output_type": "stream",
     "text": [
      "2021-07-11 17:05:10.957606: W tensorflow_io/core/kernels/audio_video_mp3_kernels.cc:271] libmp3lame.so.0 or lame functions are not available\n",
      "2021-07-11 17:05:10.958107: I tensorflow_io/core/kernels/cpu_check.cc:128] Your CPU supports instructions that this TensorFlow IO binary was not compiled to use: AVX2 FMA\n",
      "Traceback (most recent call last):\n",
      "  File \"task.py\", line 10, in <module>\n",
      "    training_data_uri = os.environ[\"AIP_TRAINING_DATA_URI\"]\n",
      "  File \"/opt/conda/lib/python3.7/os.py\", line 681, in __getitem__\n",
      "    raise KeyError(key) from None\n",
      "KeyError: 'AIP_TRAINING_DATA_URI'\n"
     ]
    }
   ],
   "source": [
    "!docker run $IMAGE_URI"
   ]
  },
  {
   "cell_type": "markdown",
   "id": "48c1f0be",
   "metadata": {},
   "source": [
    "### Build and submit container to Google Cloud Container Registry"
   ]
  },
  {
   "cell_type": "code",
   "execution_count": null,
   "id": "09d9ba7a",
   "metadata": {},
   "outputs": [],
   "source": []
  },
  {
   "cell_type": "code",
   "execution_count": 125,
   "id": "6f0e0d53",
   "metadata": {},
   "outputs": [
    {
     "name": "stdout",
     "output_type": "stream",
     "text": [
      "Creating temporary tarball archive of 9 file(s) totalling 7.8 KiB before compression.\n",
      "Uploading tarball of [trainer] to [gs://dougkelly-vertex-demos_cloudbuild/source/1626037693.841638-bc07001adaa94128be77e2a4d4cb0fb1.tgz]\n",
      "Created [https://cloudbuild.googleapis.com/v1/projects/dougkelly-vertex-demos/locations/global/builds/cc70622e-9829-4c17-ae2f-ad3f37a9eb85].\n",
      "Logs are available at [https://console.cloud.google.com/cloud-build/builds/cc70622e-9829-4c17-ae2f-ad3f37a9eb85?project=617979904441].\n",
      "----------------------------- REMOTE BUILD OUTPUT ------------------------------\n",
      "starting build \"cc70622e-9829-4c17-ae2f-ad3f37a9eb85\"\n",
      "\n",
      "FETCHSOURCE\n",
      "Fetching storage object: gs://dougkelly-vertex-demos_cloudbuild/source/1626037693.841638-bc07001adaa94128be77e2a4d4cb0fb1.tgz#1626037694168394\n",
      "Copying gs://dougkelly-vertex-demos_cloudbuild/source/1626037693.841638-bc07001adaa94128be77e2a4d4cb0fb1.tgz#1626037694168394...\n",
      "/ [1 files][  2.4 KiB/  2.4 KiB]                                                \n",
      "Operation completed over 1 objects/2.4 KiB.\n",
      "BUILD\n",
      "Already have image (with digest): gcr.io/cloud-builders/docker\n",
      "Sending build context to Docker daemon  15.87kB\n",
      "Step 1/6 : FROM gcr.io/deeplearning-platform-release/tf2-cpu.2-3\n",
      "latest: Pulling from deeplearning-platform-release/tf2-cpu.2-3\n",
      "25fa05cd42bd: Pulling fs layer\n",
      "334312f3cce5: Pulling fs layer\n",
      "69ae64a48940: Pulling fs layer\n",
      "fe5bbb0e39a4: Pulling fs layer\n",
      "4f4fb700ef54: Pulling fs layer\n",
      "80ddd5a9f1f3: Pulling fs layer\n",
      "76405ca8c0d7: Pulling fs layer\n",
      "96b547bd5851: Pulling fs layer\n",
      "165d356cc142: Pulling fs layer\n",
      "1f14d2578dc7: Pulling fs layer\n",
      "05c08f7ba2fb: Pulling fs layer\n",
      "b1c9ec7e36f6: Pulling fs layer\n",
      "94e3f0ba3fb3: Pulling fs layer\n",
      "00f212e657e4: Pulling fs layer\n",
      "7d32fad557e1: Pulling fs layer\n",
      "e5797567d43b: Pulling fs layer\n",
      "7913c026522a: Pulling fs layer\n",
      "d142f910368e: Pulling fs layer\n",
      "65bcfb9eccf8: Pulling fs layer\n",
      "fe5bbb0e39a4: Waiting\n",
      "4f4fb700ef54: Waiting\n",
      "80ddd5a9f1f3: Waiting\n",
      "76405ca8c0d7: Waiting\n",
      "96b547bd5851: Waiting\n",
      "165d356cc142: Waiting\n",
      "1f14d2578dc7: Waiting\n",
      "05c08f7ba2fb: Waiting\n",
      "b1c9ec7e36f6: Waiting\n",
      "94e3f0ba3fb3: Waiting\n",
      "00f212e657e4: Waiting\n",
      "7d32fad557e1: Waiting\n",
      "e5797567d43b: Waiting\n",
      "7913c026522a: Waiting\n",
      "d142f910368e: Waiting\n",
      "65bcfb9eccf8: Waiting\n",
      "334312f3cce5: Verifying Checksum\n",
      "334312f3cce5: Download complete\n",
      "25fa05cd42bd: Verifying Checksum\n",
      "25fa05cd42bd: Download complete\n",
      "4f4fb700ef54: Verifying Checksum\n",
      "4f4fb700ef54: Download complete\n",
      "80ddd5a9f1f3: Verifying Checksum\n",
      "80ddd5a9f1f3: Download complete\n",
      "fe5bbb0e39a4: Download complete\n",
      "96b547bd5851: Verifying Checksum\n",
      "96b547bd5851: Download complete\n",
      "165d356cc142: Verifying Checksum\n",
      "165d356cc142: Download complete\n",
      "1f14d2578dc7: Verifying Checksum\n",
      "1f14d2578dc7: Download complete\n",
      "05c08f7ba2fb: Verifying Checksum\n",
      "05c08f7ba2fb: Download complete\n",
      "b1c9ec7e36f6: Verifying Checksum\n",
      "b1c9ec7e36f6: Download complete\n",
      "94e3f0ba3fb3: Verifying Checksum\n",
      "94e3f0ba3fb3: Download complete\n",
      "00f212e657e4: Verifying Checksum\n",
      "00f212e657e4: Download complete\n",
      "7d32fad557e1: Verifying Checksum\n",
      "7d32fad557e1: Download complete\n",
      "76405ca8c0d7: Verifying Checksum\n",
      "76405ca8c0d7: Download complete\n",
      "7913c026522a: Verifying Checksum\n",
      "7913c026522a: Download complete\n",
      "69ae64a48940: Verifying Checksum\n",
      "69ae64a48940: Download complete\n",
      "65bcfb9eccf8: Verifying Checksum\n",
      "65bcfb9eccf8: Download complete\n",
      "d142f910368e: Verifying Checksum\n",
      "d142f910368e: Download complete\n",
      "25fa05cd42bd: Pull complete\n",
      "334312f3cce5: Pull complete\n",
      "e5797567d43b: Verifying Checksum\n",
      "e5797567d43b: Download complete\n",
      "69ae64a48940: Pull complete\n",
      "fe5bbb0e39a4: Pull complete\n",
      "4f4fb700ef54: Pull complete\n",
      "80ddd5a9f1f3: Pull complete\n",
      "76405ca8c0d7: Pull complete\n",
      "96b547bd5851: Pull complete\n",
      "165d356cc142: Pull complete\n",
      "1f14d2578dc7: Pull complete\n",
      "05c08f7ba2fb: Pull complete\n",
      "b1c9ec7e36f6: Pull complete\n",
      "94e3f0ba3fb3: Pull complete\n",
      "00f212e657e4: Pull complete\n",
      "7d32fad557e1: Pull complete\n",
      "e5797567d43b: Pull complete\n",
      "7913c026522a: Pull complete\n",
      "d142f910368e: Pull complete\n",
      "65bcfb9eccf8: Pull complete\n",
      "Digest: sha256:1269de66d3073b5eb617e7dc04f787cf771b56e2b0eafdb118500d5d54e83939\n",
      "Status: Downloaded newer image for gcr.io/deeplearning-platform-release/tf2-cpu.2-3:latest\n",
      " ---> ba7602e939e1\n",
      "Step 2/6 : WORKDIR /root\n",
      " ---> Running in a0a8bb70b4c9\n",
      "Removing intermediate container a0a8bb70b4c9\n",
      " ---> 3706ee9585e9\n",
      "Step 3/6 : COPY requirements.txt .\n",
      " ---> ef33f2e131c6\n",
      "Step 4/6 : RUN pip3 install -U -r requirements.txt\n",
      " ---> Running in e5465d33fa79\n",
      "Collecting google-cloud-bigquery==1.28.0\n",
      "  Downloading google_cloud_bigquery-1.28.0-py2.py3-none-any.whl (187 kB)\n",
      "Collecting google-cloud-bigquery-storage==1.1.0\n",
      "  Downloading google_cloud_bigquery_storage-1.1.0-py2.py3-none-any.whl (135 kB)\n",
      "Collecting google-cloud-aiplatform==1.0.0\n",
      "  Downloading google_cloud_aiplatform-1.0.0-py2.py3-none-any.whl (1.8 MB)\n",
      "Collecting google-cloud-aiplatform[tensorboard]\n",
      "  Downloading google_cloud_aiplatform-1.1.1-py2.py3-none-any.whl (1.2 MB)\n",
      "Collecting tensorflow-io==0.16.0\n",
      "  Downloading tensorflow_io-0.16.0-cp37-cp37m-manylinux2010_x86_64.whl (22.4 MB)\n",
      "Requirement already satisfied: pyarrow in /opt/conda/lib/python3.7/site-packages (from -r requirements.txt (line 7)) (4.0.1)\n",
      "Requirement already satisfied: google-resumable-media<2.0dev,>=0.6.0 in /opt/conda/lib/python3.7/site-packages (from google-cloud-bigquery==1.28.0->-r requirements.txt (line 1)) (1.3.1)\n",
      "Requirement already satisfied: six<2.0.0dev,>=1.13.0 in /opt/conda/lib/python3.7/site-packages (from google-cloud-bigquery==1.28.0->-r requirements.txt (line 1)) (1.16.0)\n",
      "Requirement already satisfied: google-cloud-core<2.0dev,>=1.4.1 in /opt/conda/lib/python3.7/site-packages (from google-cloud-bigquery==1.28.0->-r requirements.txt (line 1)) (1.7.0)\n",
      "Requirement already satisfied: google-api-core<2.0dev,>=1.21.0 in /opt/conda/lib/python3.7/site-packages (from google-cloud-bigquery==1.28.0->-r requirements.txt (line 1)) (1.30.0)\n",
      "Requirement already satisfied: packaging>=14.3 in /opt/conda/lib/python3.7/site-packages (from google-cloud-aiplatform==1.0.0->-r requirements.txt (line 3)) (20.9)\n",
      "Requirement already satisfied: proto-plus>=1.10.1 in /opt/conda/lib/python3.7/site-packages (from google-cloud-aiplatform==1.0.0->-r requirements.txt (line 3)) (1.18.1)\n",
      "Requirement already satisfied: google-cloud-storage<2.0.0dev,>=1.32.0 in /opt/conda/lib/python3.7/site-packages (from google-cloud-aiplatform==1.0.0->-r requirements.txt (line 3)) (1.38.0)\n",
      "Requirement already satisfied: tensorflow<2.4.0,>=2.3.0 in /opt/conda/lib/python3.7/site-packages (from tensorflow-io==0.16.0->-r requirements.txt (line 5)) (2.3.3)\n",
      "Requirement already satisfied: googleapis-common-protos<2.0dev,>=1.6.0 in /opt/conda/lib/python3.7/site-packages (from google-api-core<2.0dev,>=1.21.0->google-cloud-bigquery==1.28.0->-r requirements.txt (line 1)) (1.53.0)\n",
      "Requirement already satisfied: pytz in /opt/conda/lib/python3.7/site-packages (from google-api-core<2.0dev,>=1.21.0->google-cloud-bigquery==1.28.0->-r requirements.txt (line 1)) (2021.1)\n",
      "Requirement already satisfied: google-auth<2.0dev,>=1.25.0 in /opt/conda/lib/python3.7/site-packages (from google-api-core<2.0dev,>=1.21.0->google-cloud-bigquery==1.28.0->-r requirements.txt (line 1)) (1.30.2)\n",
      "Requirement already satisfied: protobuf>=3.12.0 in /opt/conda/lib/python3.7/site-packages (from google-api-core<2.0dev,>=1.21.0->google-cloud-bigquery==1.28.0->-r requirements.txt (line 1)) (3.16.0)\n",
      "Requirement already satisfied: requests<3.0.0dev,>=2.18.0 in /opt/conda/lib/python3.7/site-packages (from google-api-core<2.0dev,>=1.21.0->google-cloud-bigquery==1.28.0->-r requirements.txt (line 1)) (2.25.1)\n",
      "Requirement already satisfied: setuptools>=40.3.0 in /opt/conda/lib/python3.7/site-packages (from google-api-core<2.0dev,>=1.21.0->google-cloud-bigquery==1.28.0->-r requirements.txt (line 1)) (49.6.0.post20210108)\n",
      "Requirement already satisfied: grpcio<2.0dev,>=1.29.0 in /opt/conda/lib/python3.7/site-packages (from google-api-core<2.0dev,>=1.21.0->google-cloud-bigquery==1.28.0->-r requirements.txt (line 1)) (1.38.0)\n",
      "Requirement already satisfied: rsa<5,>=3.1.4 in /opt/conda/lib/python3.7/site-packages (from google-auth<2.0dev,>=1.25.0->google-api-core<2.0dev,>=1.21.0->google-cloud-bigquery==1.28.0->-r requirements.txt (line 1)) (4.7.2)\n",
      "Requirement already satisfied: cachetools<5.0,>=2.0.0 in /opt/conda/lib/python3.7/site-packages (from google-auth<2.0dev,>=1.25.0->google-api-core<2.0dev,>=1.21.0->google-cloud-bigquery==1.28.0->-r requirements.txt (line 1)) (4.2.2)\n",
      "Requirement already satisfied: pyasn1-modules>=0.2.1 in /opt/conda/lib/python3.7/site-packages (from google-auth<2.0dev,>=1.25.0->google-api-core<2.0dev,>=1.21.0->google-cloud-bigquery==1.28.0->-r requirements.txt (line 1)) (0.2.7)\n",
      "Requirement already satisfied: google-crc32c<2.0dev,>=1.0 in /opt/conda/lib/python3.7/site-packages (from google-resumable-media<2.0dev,>=0.6.0->google-cloud-bigquery==1.28.0->-r requirements.txt (line 1)) (1.1.2)\n",
      "Requirement already satisfied: cffi>=1.0.0 in /opt/conda/lib/python3.7/site-packages (from google-crc32c<2.0dev,>=1.0->google-resumable-media<2.0dev,>=0.6.0->google-cloud-bigquery==1.28.0->-r requirements.txt (line 1)) (1.14.5)\n",
      "Requirement already satisfied: pycparser in /opt/conda/lib/python3.7/site-packages (from cffi>=1.0.0->google-crc32c<2.0dev,>=1.0->google-resumable-media<2.0dev,>=0.6.0->google-cloud-bigquery==1.28.0->-r requirements.txt (line 1)) (2.20)\n",
      "Requirement already satisfied: pyparsing>=2.0.2 in /opt/conda/lib/python3.7/site-packages (from packaging>=14.3->google-cloud-aiplatform==1.0.0->-r requirements.txt (line 3)) (2.4.7)\n",
      "Requirement already satisfied: pyasn1<0.5.0,>=0.4.6 in /opt/conda/lib/python3.7/site-packages (from pyasn1-modules>=0.2.1->google-auth<2.0dev,>=1.25.0->google-api-core<2.0dev,>=1.21.0->google-cloud-bigquery==1.28.0->-r requirements.txt (line 1)) (0.4.8)\n",
      "Requirement already satisfied: urllib3<1.27,>=1.21.1 in /opt/conda/lib/python3.7/site-packages (from requests<3.0.0dev,>=2.18.0->google-api-core<2.0dev,>=1.21.0->google-cloud-bigquery==1.28.0->-r requirements.txt (line 1)) (1.26.5)\n",
      "Requirement already satisfied: certifi>=2017.4.17 in /opt/conda/lib/python3.7/site-packages (from requests<3.0.0dev,>=2.18.0->google-api-core<2.0dev,>=1.21.0->google-cloud-bigquery==1.28.0->-r requirements.txt (line 1)) (2021.5.30)\n",
      "Requirement already satisfied: idna<3,>=2.5 in /opt/conda/lib/python3.7/site-packages (from requests<3.0.0dev,>=2.18.0->google-api-core<2.0dev,>=1.21.0->google-cloud-bigquery==1.28.0->-r requirements.txt (line 1)) (2.10)\n",
      "Requirement already satisfied: chardet<5,>=3.0.2 in /opt/conda/lib/python3.7/site-packages (from requests<3.0.0dev,>=2.18.0->google-api-core<2.0dev,>=1.21.0->google-cloud-bigquery==1.28.0->-r requirements.txt (line 1)) (4.0.0)\n",
      "Requirement already satisfied: absl-py>=0.7.0 in /opt/conda/lib/python3.7/site-packages (from tensorflow<2.4.0,>=2.3.0->tensorflow-io==0.16.0->-r requirements.txt (line 5)) (0.10.0)\n",
      "Requirement already satisfied: google-pasta>=0.1.8 in /opt/conda/lib/python3.7/site-packages (from tensorflow<2.4.0,>=2.3.0->tensorflow-io==0.16.0->-r requirements.txt (line 5)) (0.2.0)\n",
      "Requirement already satisfied: gast==0.3.3 in /opt/conda/lib/python3.7/site-packages (from tensorflow<2.4.0,>=2.3.0->tensorflow-io==0.16.0->-r requirements.txt (line 5)) (0.3.3)\n",
      "Requirement already satisfied: tensorboard<3,>=2.3.0 in /opt/conda/lib/python3.7/site-packages (from tensorflow<2.4.0,>=2.3.0->tensorflow-io==0.16.0->-r requirements.txt (line 5)) (2.3.0)\n",
      "Requirement already satisfied: opt-einsum>=2.3.2 in /opt/conda/lib/python3.7/site-packages (from tensorflow<2.4.0,>=2.3.0->tensorflow-io==0.16.0->-r requirements.txt (line 5)) (3.3.0)\n",
      "Requirement already satisfied: tensorflow-estimator<2.4.0,>=2.3.0 in /opt/conda/lib/python3.7/site-packages (from tensorflow<2.4.0,>=2.3.0->tensorflow-io==0.16.0->-r requirements.txt (line 5)) (2.3.0)\n",
      "Requirement already satisfied: h5py<2.11.0,>=2.10.0 in /opt/conda/lib/python3.7/site-packages (from tensorflow<2.4.0,>=2.3.0->tensorflow-io==0.16.0->-r requirements.txt (line 5)) (2.10.0)\n",
      "Requirement already satisfied: termcolor>=1.1.0 in /opt/conda/lib/python3.7/site-packages (from tensorflow<2.4.0,>=2.3.0->tensorflow-io==0.16.0->-r requirements.txt (line 5)) (1.1.0)\n",
      "Requirement already satisfied: wrapt>=1.11.1 in /opt/conda/lib/python3.7/site-packages (from tensorflow<2.4.0,>=2.3.0->tensorflow-io==0.16.0->-r requirements.txt (line 5)) (1.12.1)\n",
      "Requirement already satisfied: wheel>=0.26 in /opt/conda/lib/python3.7/site-packages (from tensorflow<2.4.0,>=2.3.0->tensorflow-io==0.16.0->-r requirements.txt (line 5)) (0.36.2)\n",
      "Collecting numpy<1.19.0,>=1.16.0\n",
      "  Downloading numpy-1.18.5-cp37-cp37m-manylinux1_x86_64.whl (20.1 MB)\n",
      "Requirement already satisfied: keras-preprocessing<1.2,>=1.1.1 in /opt/conda/lib/python3.7/site-packages (from tensorflow<2.4.0,>=2.3.0->tensorflow-io==0.16.0->-r requirements.txt (line 5)) (1.1.2)\n",
      "Requirement already satisfied: astunparse==1.6.3 in /opt/conda/lib/python3.7/site-packages (from tensorflow<2.4.0,>=2.3.0->tensorflow-io==0.16.0->-r requirements.txt (line 5)) (1.6.3)\n",
      "Requirement already satisfied: tensorboard-plugin-wit>=1.6.0 in /opt/conda/lib/python3.7/site-packages (from tensorboard<3,>=2.3.0->tensorflow<2.4.0,>=2.3.0->tensorflow-io==0.16.0->-r requirements.txt (line 5)) (1.8.0)\n",
      "Requirement already satisfied: google-auth-oauthlib<0.5,>=0.4.1 in /opt/conda/lib/python3.7/site-packages (from tensorboard<3,>=2.3.0->tensorflow<2.4.0,>=2.3.0->tensorflow-io==0.16.0->-r requirements.txt (line 5)) (0.4.4)\n",
      "Requirement already satisfied: werkzeug>=0.11.15 in /opt/conda/lib/python3.7/site-packages (from tensorboard<3,>=2.3.0->tensorflow<2.4.0,>=2.3.0->tensorflow-io==0.16.0->-r requirements.txt (line 5)) (2.0.1)\n",
      "Requirement already satisfied: markdown>=2.6.8 in /opt/conda/lib/python3.7/site-packages (from tensorboard<3,>=2.3.0->tensorflow<2.4.0,>=2.3.0->tensorflow-io==0.16.0->-r requirements.txt (line 5)) (3.3.4)\n",
      "Requirement already satisfied: requests-oauthlib>=0.7.0 in /opt/conda/lib/python3.7/site-packages (from google-auth-oauthlib<0.5,>=0.4.1->tensorboard<3,>=2.3.0->tensorflow<2.4.0,>=2.3.0->tensorflow-io==0.16.0->-r requirements.txt (line 5)) (1.3.0)\n",
      "Requirement already satisfied: importlib-metadata in /opt/conda/lib/python3.7/site-packages (from markdown>=2.6.8->tensorboard<3,>=2.3.0->tensorflow<2.4.0,>=2.3.0->tensorflow-io==0.16.0->-r requirements.txt (line 5)) (4.5.0)\n",
      "Requirement already satisfied: oauthlib>=3.0.0 in /opt/conda/lib/python3.7/site-packages (from requests-oauthlib>=0.7.0->google-auth-oauthlib<0.5,>=0.4.1->tensorboard<3,>=2.3.0->tensorflow<2.4.0,>=2.3.0->tensorflow-io==0.16.0->-r requirements.txt (line 5)) (3.1.1)\n",
      "Collecting google-cloud-aiplatform[tensorboard]\n",
      "  Downloading google_cloud_aiplatform-1.1.0-py2.py3-none-any.whl (1.2 MB)\n",
      "  Downloading google_cloud_aiplatform-1.0.1-py2.py3-none-any.whl (1.8 MB)\n",
      "Collecting grpcio<2.0dev,>=1.29.0\n",
      "  Downloading grpcio-1.34.1-cp37-cp37m-manylinux2014_x86_64.whl (4.0 MB)\n",
      "Collecting six<2.0.0dev,>=1.13.0\n",
      "  Downloading six-1.15.0-py2.py3-none-any.whl (10 kB)\n",
      "Collecting tensorflow-cpu<=2.5.0,>=2.3.0\n",
      "  Downloading tensorflow_cpu-2.5.0-cp37-cp37m-manylinux2010_x86_64.whl (168.3 MB)\n",
      "  Downloading tensorflow_cpu-2.4.2-cp37-cp37m-manylinux2010_x86_64.whl (144.3 MB)\n",
      "Collecting flatbuffers~=1.12.0\n",
      "  Downloading flatbuffers-1.12-py2.py3-none-any.whl (15 kB)\n",
      "Collecting typing-extensions~=3.7.4\n",
      "  Downloading typing_extensions-3.7.4.3-py3-none-any.whl (22 kB)\n",
      "Collecting tensorflow-cpu<=2.5.0,>=2.3.0\n",
      "  Downloading tensorflow_cpu-2.4.1-cp37-cp37m-manylinux2010_x86_64.whl (144.1 MB)\n",
      "  Downloading tensorflow_cpu-2.4.0-cp37-cp37m-manylinux2010_x86_64.whl (144.5 MB)\n",
      "  Downloading tensorflow_cpu-2.3.3-cp37-cp37m-manylinux2010_x86_64.whl (137.5 MB)\n",
      "Requirement already satisfied: zipp>=0.5 in /opt/conda/lib/python3.7/site-packages (from importlib-metadata->markdown>=2.6.8->tensorboard<3,>=2.3.0->tensorflow<2.4.0,>=2.3.0->tensorflow-io==0.16.0->-r requirements.txt (line 5)) (3.4.1)\n",
      "Requirement already satisfied: typing-extensions>=3.6.4 in /opt/conda/lib/python3.7/site-packages (from importlib-metadata->markdown>=2.6.8->tensorboard<3,>=2.3.0->tensorflow<2.4.0,>=2.3.0->tensorflow-io==0.16.0->-r requirements.txt (line 5)) (3.10.0.0)\n",
      "Installing collected packages: six, numpy, grpcio, google-cloud-bigquery, tensorflow-cpu, google-cloud-aiplatform, tensorflow-io, google-cloud-bigquery-storage\n",
      "  Attempting uninstall: six\n",
      "    Found existing installation: six 1.16.0\n",
      "    Uninstalling six-1.16.0:\n",
      "      Successfully uninstalled six-1.16.0\n",
      "  Attempting uninstall: numpy\n",
      "    Found existing installation: numpy 1.19.5\n",
      "    Uninstalling numpy-1.19.5:\n",
      "      Successfully uninstalled numpy-1.19.5\n",
      "  Attempting uninstall: grpcio\n",
      "    Found existing installation: grpcio 1.38.0\n",
      "    Uninstalling grpcio-1.38.0:\n",
      "      Successfully uninstalled grpcio-1.38.0\n",
      "  Attempting uninstall: google-cloud-bigquery\n",
      "    Found existing installation: google-cloud-bigquery 2.20.0\n",
      "    Uninstalling google-cloud-bigquery-2.20.0:\n",
      "      Successfully uninstalled google-cloud-bigquery-2.20.0\n",
      "  Attempting uninstall: tensorflow-io\n",
      "    Found existing installation: tensorflow-io 0.15.0\n",
      "    Uninstalling tensorflow-io-0.15.0:\n",
      "      Successfully uninstalled tensorflow-io-0.15.0\n",
      "  Attempting uninstall: google-cloud-bigquery-storage\n",
      "    Found existing installation: google-cloud-bigquery-storage 2.4.0\n",
      "    Uninstalling google-cloud-bigquery-storage-2.4.0:\n",
      "      Successfully uninstalled google-cloud-bigquery-storage-2.4.0\n",
      "Successfully installed google-cloud-aiplatform-1.0.0 google-cloud-bigquery-1.28.0 google-cloud-bigquery-storage-1.1.0 grpcio-1.34.1 numpy-1.18.5 six-1.15.0 tensorflow-cpu-2.3.3 tensorflow-io-0.16.0\n",
      "\u001b[91mERROR: pip's dependency resolver does not currently take into account all the packages that are installed. This behaviour is the source of the following dependency conflicts.\n",
      "tfx 0.26.3 requires attrs<21,>=19.3.0, but you have attrs 21.2.0 which is incompatible.\n",
      "tfx 0.26.3 requires click<8,>=7, but you have click 8.0.1 which is incompatible.\n",
      "tfx 0.26.3 requires docker<5,>=4.1, but you have docker 5.0.0 which is incompatible.\n",
      "tfx 0.26.3 requires google-api-python-client<2,>=1.7.8, but you have google-api-python-client 2.9.0 which is incompatible.\n",
      "tfx 0.26.3 requires kubernetes<12,>=10.0.1, but you have kubernetes 17.17.0 which is incompatible.\n",
      "tfx 0.26.3 requires pyarrow<0.18,>=0.17, but you have pyarrow 4.0.1 which is incompatible.\n",
      "tfx-bsl 0.26.1 requires google-api-python-client<2,>=1.7.11, but you have google-api-python-client 2.9.0 which is incompatible.\n",
      "tfx-bsl 0.26.1 requires pyarrow<0.18,>=0.17, but you have pyarrow 4.0.1 which is incompatible.\n",
      "tensorflow-transform 0.26.0 requires pyarrow<0.18,>=0.17, but you have pyarrow 4.0.1 which is incompatible.\n",
      "tensorflow-probability 0.11.0 requires cloudpickle==1.3, but you have cloudpickle 1.6.0 which is incompatible.\n",
      "tensorflow-model-analysis 0.26.1 requires pyarrow<0.18,>=0.17, but you have pyarrow 4.0.1 which is incompatible.\n",
      "tensorflow-data-validation 0.26.1 requires joblib<0.15,>=0.12, but you have joblib 1.0.1 which is incompatible.\n",
      "tensorflow-data-validation 0.26.1 requires pyarrow<0.18,>=0.17, but you have pyarrow 4.0.1 which is incompatible.\n",
      "ml-pipelines-sdk 0.26.3 requires docker<5,>=4.1, but you have docker 5.0.0 which is incompatible.\n",
      "ml-metadata 0.26.0 requires attrs<21,>=20.3, but you have attrs 21.2.0 which is incompatible.\n",
      "cloud-tpu-client 0.10 requires google-api-python-client==1.8.0, but you have google-api-python-client 2.9.0 which is incompatible.\n",
      "apache-beam 2.28.0 requires httplib2<0.18.0,>=0.8, but you have httplib2 0.19.1 which is incompatible.\n",
      "apache-beam 2.28.0 requires pyarrow<3.0.0,>=0.15.1, but you have pyarrow 4.0.1 which is incompatible.\n",
      "apache-beam 2.28.0 requires typing-extensions<3.8.0,>=3.7.0, but you have typing-extensions 3.10.0.0 which is incompatible.\n",
      "\u001b[0m\u001b[91mWARNING: Running pip as root will break packages and permissions. You should install packages reliably by using venv: https://pip.pypa.io/warnings/venv\n",
      "\u001b[0mRemoving intermediate container e5465d33fa79\n",
      " ---> d32e44a4ea28\n",
      "Step 5/6 : COPY task.py /root/task.py\n",
      " ---> e5741425cabf\n",
      "Step 6/6 : ENTRYPOINT [\"python3\", \"task.py\"]\n",
      " ---> Running in 7047a7d92a24\n",
      "Removing intermediate container 7047a7d92a24\n",
      " ---> 7ec5548b8b69\n",
      "Successfully built 7ec5548b8b69\n",
      "Successfully tagged gcr.io/dougkelly-vertex-demos/online-retail-clv:latest\n",
      "PUSH\n",
      "Pushing gcr.io/dougkelly-vertex-demos/online-retail-clv\n",
      "The push refers to repository [gcr.io/dougkelly-vertex-demos/online-retail-clv]\n",
      "c2742b3388a7: Preparing\n",
      "e219956ff148: Preparing\n",
      "c28f6aec1be7: Preparing\n",
      "2d95996698fc: Preparing\n",
      "c1060e155bf1: Preparing\n",
      "b2b308502456: Preparing\n",
      "b9b65173924b: Preparing\n",
      "29bf522d97b4: Preparing\n",
      "d96c519f0898: Preparing\n",
      "ff0a6aeeabc0: Preparing\n",
      "8a7cebfdebb3: Preparing\n",
      "c7b3d31e30d8: Preparing\n",
      "2bca48c23a02: Preparing\n",
      "e3772a518bda: Preparing\n",
      "89d9319acee8: Preparing\n",
      "3bcf6b758d7b: Preparing\n",
      "b07bdae450b2: Preparing\n",
      "5f70bf18a086: Preparing\n",
      "844bb7de649e: Preparing\n",
      "e181fed681e9: Preparing\n",
      "e39414beba01: Preparing\n",
      "8f8f0266f834: Preparing\n",
      "b2b308502456: Waiting\n",
      "b9b65173924b: Waiting\n",
      "29bf522d97b4: Waiting\n",
      "d96c519f0898: Waiting\n",
      "ff0a6aeeabc0: Waiting\n",
      "8a7cebfdebb3: Waiting\n",
      "c7b3d31e30d8: Waiting\n",
      "2bca48c23a02: Waiting\n",
      "e3772a518bda: Waiting\n",
      "89d9319acee8: Waiting\n",
      "3bcf6b758d7b: Waiting\n",
      "b07bdae450b2: Waiting\n",
      "5f70bf18a086: Waiting\n",
      "844bb7de649e: Waiting\n",
      "e181fed681e9: Waiting\n",
      "e39414beba01: Waiting\n",
      "8f8f0266f834: Waiting\n",
      "2d95996698fc: Layer already exists\n",
      "c1060e155bf1: Layer already exists\n",
      "b2b308502456: Layer already exists\n",
      "b9b65173924b: Layer already exists\n",
      "29bf522d97b4: Layer already exists\n",
      "d96c519f0898: Layer already exists\n",
      "ff0a6aeeabc0: Layer already exists\n",
      "8a7cebfdebb3: Layer already exists\n",
      "c7b3d31e30d8: Layer already exists\n",
      "2bca48c23a02: Layer already exists\n",
      "e3772a518bda: Layer already exists\n",
      "89d9319acee8: Layer already exists\n",
      "3bcf6b758d7b: Layer already exists\n",
      "b07bdae450b2: Layer already exists\n",
      "5f70bf18a086: Layer already exists\n",
      "844bb7de649e: Layer already exists\n",
      "e181fed681e9: Layer already exists\n",
      "e39414beba01: Layer already exists\n",
      "8f8f0266f834: Layer already exists\n",
      "c2742b3388a7: Pushed\n",
      "c28f6aec1be7: Pushed\n",
      "e219956ff148: Pushed\n",
      "latest: digest: sha256:f6beafba07d9c1b53f6da786af868228c108c05a0e3f62a4b9ba332b223c7447 size: 4925\n",
      "DONE\n",
      "--------------------------------------------------------------------------------\n",
      "ID                                    CREATE_TIME                DURATION  SOURCE                                                                                                IMAGES                                                     STATUS\n",
      "cc70622e-9829-4c17-ae2f-ad3f37a9eb85  2021-07-11T21:08:14+00:00  6M54S     gs://dougkelly-vertex-demos_cloudbuild/source/1626037693.841638-bc07001adaa94128be77e2a4d4cb0fb1.tgz  gcr.io/dougkelly-vertex-demos/online-retail-clv (+1 more)  SUCCESS\n"
     ]
    }
   ],
   "source": [
    "!gcloud builds submit --timeout=15m --config trainer/cloudbuild.yaml trainer"
   ]
  },
  {
   "cell_type": "markdown",
   "id": "c0ef4d04",
   "metadata": {},
   "source": [
    "## Run a training job on Vertex AI"
   ]
  },
  {
   "cell_type": "code",
   "execution_count": 126,
   "id": "fc9d5088",
   "metadata": {},
   "outputs": [],
   "source": [
    "aiplatform.init(project=PROJECT_ID, staging_bucket=BUCKET_NAME)"
   ]
  },
  {
   "cell_type": "code",
   "execution_count": null,
   "id": "1e98e525",
   "metadata": {},
   "outputs": [
    {
     "name": "stdout",
     "output_type": "stream",
     "text": [
      "INFO:google.cloud.aiplatform.training_jobs:Training Output directory:\n",
      "gs://dougkelly-vertex-demos-bucket/aiplatform-custom-training-2021-07-11-21:15:11.619 \n",
      "INFO:google.cloud.aiplatform.training_jobs:View Training:\n",
      "https://console.cloud.google.com/ai/platform/locations/us-central1/training/4558966634898784256?project=617979904441\n",
      "INFO:google.cloud.aiplatform.training_jobs:CustomContainerTrainingJob projects/617979904441/locations/us-central1/trainingPipelines/4558966634898784256 current state:\n",
      "PipelineState.PIPELINE_STATE_RUNNING\n",
      "INFO:google.cloud.aiplatform.training_jobs:CustomContainerTrainingJob projects/617979904441/locations/us-central1/trainingPipelines/4558966634898784256 current state:\n",
      "PipelineState.PIPELINE_STATE_RUNNING\n",
      "INFO:google.cloud.aiplatform.training_jobs:CustomContainerTrainingJob projects/617979904441/locations/us-central1/trainingPipelines/4558966634898784256 current state:\n",
      "PipelineState.PIPELINE_STATE_RUNNING\n",
      "INFO:google.cloud.aiplatform.training_jobs:CustomContainerTrainingJob projects/617979904441/locations/us-central1/trainingPipelines/4558966634898784256 current state:\n",
      "PipelineState.PIPELINE_STATE_RUNNING\n",
      "INFO:google.cloud.aiplatform.training_jobs:CustomContainerTrainingJob projects/617979904441/locations/us-central1/trainingPipelines/4558966634898784256 current state:\n",
      "PipelineState.PIPELINE_STATE_RUNNING\n",
      "INFO:google.cloud.aiplatform.training_jobs:CustomContainerTrainingJob projects/617979904441/locations/us-central1/trainingPipelines/4558966634898784256 current state:\n",
      "PipelineState.PIPELINE_STATE_RUNNING\n"
     ]
    }
   ],
   "source": [
    "job = aiplatform.CustomContainerTrainingJob(\n",
    "    display_name=\"online-retail-clv\",\n",
    "    container_uri=f\"gcr.io/{PROJECT_ID}/online-retail-clv:latest\",\n",
    "    # from https://cloud.google.com/vertex-ai/docs/predictions/pre-built-containers\n",
    "    model_serving_container_image_uri=\"gcr.io/cloud-aiplatform/prediction/tf2-cpu.2-3:latest\",\n",
    ")\n",
    "\n",
    "model = job.run(\n",
    "    ds,\n",
    "    replica_count=1,\n",
    "    model_display_name=\"online-retail-clv-3M\",\n",
    "    bigquery_destination=f\"bq://{PROJECT_ID}\",\n",
    "    predefined_split_column_name=\"data_split\"\n",
    ")"
   ]
  },
  {
   "cell_type": "markdown",
   "id": "7f0be895",
   "metadata": {},
   "source": [
    "## Monitor model training performance with Vertex TensorBoard"
   ]
  },
  {
   "cell_type": "code",
   "execution_count": 76,
   "id": "06d80c63",
   "metadata": {},
   "outputs": [],
   "source": [
    "TENSORBOARD_RESOURCE_NAME=\"projects/617979904441/locations/us-central1/tensorboards/6037391959838949376\""
   ]
  },
  {
   "cell_type": "code",
   "execution_count": 34,
   "id": "b85a34d8",
   "metadata": {},
   "outputs": [
    {
     "name": "stdout",
     "output_type": "stream",
     "text": [
      "Using endpoint [https://us-central1-aiplatform.googleapis.com/]\n",
      "Waiting for operation [8195309148552822784]...done.                            \n",
      "Created Vertex AI Tensorboard: projects/617979904441/locations/us-central1/tensorboards/6037391959838949376.\n"
     ]
    }
   ],
   "source": [
    "!gcloud beta ai tensorboards create \\\n",
    "--display-name=online-retail-clv --region=us-central1"
   ]
  },
  {
   "cell_type": "code",
   "execution_count": 79,
   "id": "86fd594b",
   "metadata": {},
   "outputs": [
    {
     "ename": "TypeError",
     "evalue": "unhashable type: 'set'",
     "output_type": "error",
     "traceback": [
      "\u001b[0;31m---------------------------------------------------------------------------\u001b[0m",
      "\u001b[0;31mTypeError\u001b[0m                                 Traceback (most recent call last)",
      "\u001b[0;32m<ipython-input-79-64539a1cc010>\u001b[0m in \u001b[0;36m<module>\u001b[0;34m\u001b[0m\n\u001b[1;32m      1\u001b[0m \u001b[0;31m# Fill in *all* the following env vars for your project\u001b[0m\u001b[0;34m\u001b[0m\u001b[0;34m\u001b[0m\u001b[0;34m\u001b[0m\u001b[0m\n\u001b[1;32m      2\u001b[0m \u001b[0mPROJECT_NAME\u001b[0m\u001b[0;34m=\u001b[0m\u001b[0;34m{\u001b[0m\u001b[0mPROJECT_ID\u001b[0m\u001b[0;34m}\u001b[0m\u001b[0;34m\u001b[0m\u001b[0;34m\u001b[0m\u001b[0m\n\u001b[0;32m----> 3\u001b[0;31m \u001b[0mTENSORBOARD_RESOURCE_NAME\u001b[0m\u001b[0;34m=\u001b[0m\u001b[0;34m{\u001b[0m\u001b[0mTENSORBOARD_RESOURCE_NAME\u001b[0m\u001b[0;34m}\u001b[0m\u001b[0;34m\u001b[0m\u001b[0;34m\u001b[0m\u001b[0m\n\u001b[0m\u001b[1;32m      4\u001b[0m \u001b[0mGCS_BUCKET_NAME\u001b[0m\u001b[0;34m=\u001b[0m\u001b[0;34m\"$BUCKET_NAME-tensorboard-logs-${REGION}\"\u001b[0m\u001b[0;34m\u001b[0m\u001b[0;34m\u001b[0m\u001b[0m\n\u001b[1;32m      5\u001b[0m \u001b[0mUSER_SA_EMAIL\u001b[0m\u001b[0;34m=\u001b[0m\u001b[0;34m\"USER_SA_NAME@PROJECT_NAME.iam.gserviceaccount.com\"\u001b[0m\u001b[0;34m\u001b[0m\u001b[0;34m\u001b[0m\u001b[0m\n",
      "\u001b[0;31mTypeError\u001b[0m: unhashable type: 'set'"
     ]
    }
   ],
   "source": [
    "# Fill in *all* the following env vars for your project\n",
    "PROJECT_NAME={PROJECT_ID}\n",
    "TENSORBOARD_RESOURCE_NAME={TENSORBOARD_RESOURCE_NAME}\n",
    "GCS_BUCKET_NAME=\"$BUCKET_NAME-tensorboard-logs-${REGION}\"\n",
    "USER_SA_EMAIL=\"USER_SA_NAME@PROJECT_NAME.iam.gserviceaccount.com\"\n",
    "TRAINING_CONTAINER={IMAGE_URI}\n",
    "REGION={REGION}\n",
    "\n",
    "ENDPOINT=\"$REGION-aiplatform.googleapis.com\"\n",
    "INVOCATION_TIMESTAMP=\"$(date  +'%Y%m%d-%H%M%S')\"\n",
    "JOB_NAME=\"tensorboard-example-job-${INVOCATION_TIMESTAMP}\"\n",
    "BASE_OUTPUT_DIR=\"gs://$GCS_BUCKET_NAME/$JOB_NAME\""
   ]
  },
  {
   "cell_type": "code",
   "execution_count": 70,
   "id": "0fff7e95",
   "metadata": {},
   "outputs": [
    {
     "ename": "SyntaxError",
     "evalue": "invalid syntax (<ipython-input-70-618464b5fac8>, line 2)",
     "output_type": "error",
     "traceback": [
      "\u001b[0;36m  File \u001b[0;32m\"<ipython-input-70-618464b5fac8>\"\u001b[0;36m, line \u001b[0;32m2\u001b[0m\n\u001b[0;31m    'displayName':'$JOB_NAME',\u001b[0m\n\u001b[0m                             ^\u001b[0m\n\u001b[0;31mSyntaxError\u001b[0m\u001b[0;31m:\u001b[0m invalid syntax\n"
     ]
    }
   ],
   "source": [
    "!curl \\\n",
    "-H \"Authorization: Bearer $(gcloud auth print-access-token)\" \\\n",
    "-H \"Content-Type: application/json\" \\\n",
    "-X POST \\\n",
    "-d \"{\n",
    "'displayName':'$JOB_NAME',\n",
    "'BigQueryDestination': 'bq://$PROJECT_ID', \n",
    "'CustomJobSpec':{\n",
    "'workerPoolSpecs':[\n",
    "     {\n",
    "        'replicaCount': '1',\n",
    "        'machineSpec': {\n",
    "          'machineType': 'n1-standard-4',\n",
    "        },\n",
    "        'containerSpec': {\n",
    "          'imageUri': '$TRAINING_CONTAINER',\n",
    "        }\n",
    "      }\n",
    "],\n",
    "'base_output_directory': {\n",
    "'output_uri_prefix': '$BASE_OUTPUT_DIR',\n",
    " },\n",
    "'serviceAccount': '$USER_SA_EMAIL',\n",
    "'tensorboard':'$TENSORBOARD_RESOURCE_NAME',\n",
    "}\n",
    "    }\" \\\n",
    "https://${ENDPOINT}/v1beta1/projects/${PROJECT_NAME}/locations/us-central1/customJobs"
   ]
  },
  {
   "cell_type": "markdown",
   "id": "5b35967d",
   "metadata": {},
   "source": [
    "## Deploy a model endpoint"
   ]
  },
  {
   "cell_type": "code",
   "execution_count": null,
   "id": "1cde6a2c",
   "metadata": {},
   "outputs": [],
   "source": [
    "explain_params = aiplatform.explain.ExplanationParameters(\n",
    "    {\"sampled_shapley_attribution\": {\"path_count\": 10}}\n",
    ")"
   ]
  },
  {
   "cell_type": "code",
   "execution_count": null,
   "id": "0ddd294b",
   "metadata": {},
   "outputs": [],
   "source": [
    "endpoint = model.deploy(machine_type=\"n1-standard-2\",\n",
    "                        explanation_parameters=explain_params\n",
    "                       )"
   ]
  },
  {
   "cell_type": "markdown",
   "id": "7c228ef0",
   "metadata": {},
   "source": [
    "## Get online prediction and explanation from deployed model"
   ]
  },
  {
   "cell_type": "code",
   "execution_count": null,
   "id": "cfac6b18",
   "metadata": {},
   "outputs": [],
   "source": []
  },
  {
   "cell_type": "code",
   "execution_count": null,
   "id": "a0b39d62",
   "metadata": {},
   "outputs": [],
   "source": [
    "explained_prediction = endpoint.explain([test_instance_dict])"
   ]
  },
  {
   "cell_type": "code",
   "execution_count": null,
   "id": "6868e224",
   "metadata": {},
   "outputs": [],
   "source": [
    "predictions = explained_prediction.predictions[0]\n",
    "pd.DataFrame.from_dict(predictions).plot(kind='bar');"
   ]
  },
  {
   "cell_type": "code",
   "execution_count": null,
   "id": "b965a0ae",
   "metadata": {},
   "outputs": [],
   "source": [
    "attributions = response.explanations[0].attributions[0].feature_attributions\n",
    "pd.DataFrame.from_dict(explained_prediction.explanations[0].attributions[0].feature_attributions, orient='index').plot(kind='barh');"
   ]
  },
  {
   "cell_type": "markdown",
   "id": "1e7fc0e3",
   "metadata": {},
   "source": [
    "## Next steps"
   ]
  },
  {
   "cell_type": "markdown",
   "id": "0abbfb8f",
   "metadata": {},
   "source": [
    "In this lab, you utilized Google Cloud's BigQuery, TensorFlow, and Vertex AI services to predict customer lifetime value.\n",
    "\n",
    "This lab demonstrated a simple way to predict customer 3-month CLV monetary value. Additional factors to consider when using CLV to inform interventions include customer acquisition costs and discount rates to arrive at the present value of future customer cash flows. "
   ]
  },
  {
   "cell_type": "markdown",
   "id": "557cc93a",
   "metadata": {},
   "source": [
    "## License"
   ]
  },
  {
   "cell_type": "code",
   "execution_count": null,
   "id": "8e074f39",
   "metadata": {},
   "outputs": [],
   "source": [
    "# Copyright 2021 Google LLC\n",
    "#\n",
    "# Licensed under the Apache License, Version 2.0 (the \"License\");\n",
    "# you may not use this file except in compliance with the License.\n",
    "# You may obtain a copy of the License at\n",
    "#\n",
    "#     https://www.apache.org/licenses/LICENSE-2.0\n",
    "#\n",
    "# Unless required by applicable law or agreed to in writing, software\n",
    "# distributed under the License is distributed on an \"AS IS\" BASIS,\n",
    "# WITHOUT WARRANTIES OR CONDITIONS OF ANY KIND, either express or implied.\n",
    "# See the License for the specific language governing permissions and\n",
    "# limitations under the License."
   ]
  }
 ],
 "metadata": {
  "environment": {
   "name": "tf2-gpu.2-3.m71",
   "type": "gcloud",
   "uri": "gcr.io/deeplearning-platform-release/tf2-gpu.2-3:m71"
  },
  "kernelspec": {
   "display_name": "Python 3",
   "language": "python",
   "name": "python3"
  },
  "language_info": {
   "codemirror_mode": {
    "name": "ipython",
    "version": 3
   },
   "file_extension": ".py",
   "mimetype": "text/x-python",
   "name": "python",
   "nbconvert_exporter": "python",
   "pygments_lexer": "ipython3",
   "version": "3.7.10"
  }
 },
 "nbformat": 4,
 "nbformat_minor": 5
}
