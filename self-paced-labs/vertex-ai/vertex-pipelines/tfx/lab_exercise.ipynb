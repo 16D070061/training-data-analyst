{
 "cells": [
  {
   "cell_type": "markdown",
   "id": "3c78dad1-bbc2-4f32-b4fa-ecc18285eacf",
   "metadata": {},
   "source": [
    "# Lab: Chicago taxifare tip prediction on Google Cloud Vertex Pipelines using the TFX SDK"
   ]
  },
  {
   "cell_type": "markdown",
   "id": "6c0fc146-a03f-49eb-8a2b-92f97f1935de",
   "metadata": {},
   "source": [
    "## Learning objectives"
   ]
  },
  {
   "cell_type": "code",
   "execution_count": null,
   "id": "6707325c-aede-42b9-a481-97812c28a511",
   "metadata": {},
   "outputs": [],
   "source": []
  },
  {
   "cell_type": "markdown",
   "id": "19614574-410b-47e3-a249-dcc092156b44",
   "metadata": {},
   "source": [
    "## Setup"
   ]
  },
  {
   "cell_type": "markdown",
   "id": "ab6764e2-6f1c-4dc0-a770-579daf9ca5f5",
   "metadata": {},
   "source": [
    "### Define constants"
   ]
  },
  {
   "cell_type": "code",
   "execution_count": 24,
   "id": "cc5267aa-5544-4d76-a835-1637f6f254ae",
   "metadata": {},
   "outputs": [],
   "source": [
    "GOOGLE_CLOUD_PROJECT_ID = !(gcloud config get-value core/project)\n",
    "GOOGLE_CLOUD_PROJECT_ID = GOOGLE_CLOUD_PROJECT_ID[0]"
   ]
  },
  {
   "cell_type": "code",
   "execution_count": 25,
   "id": "fcac2822-fecb-4b8c-8808-6d1be78e7cf3",
   "metadata": {},
   "outputs": [],
   "source": [
    "GOOGLE_CLOUD_REGION = 'us-central1'"
   ]
  },
  {
   "cell_type": "code",
   "execution_count": 19,
   "id": "d656c11a-15a9-4b62-8eb0-bd03825aca78",
   "metadata": {},
   "outputs": [],
   "source": [
    "BQ_DATASET_NAME = 'chicago_taxi'\n",
    "BQ_TABLE_NAME = 'chicago_taxi_tips_raw'\n",
    "BQ_LOCATION = 'US'"
   ]
  },
  {
   "cell_type": "markdown",
   "id": "565613f5-7b43-4158-ae6b-1836b8a89ac9",
   "metadata": {},
   "source": [
    "### Create Google Cloud Storage bucket for storing Vertex Pipeline artifacts"
   ]
  },
  {
   "cell_type": "code",
   "execution_count": 22,
   "id": "3ba449d5-84fe-45bc-8bf0-10de640f9722",
   "metadata": {},
   "outputs": [],
   "source": [
    "GCS_BUCKET_NAME = f\"gs://{PROJECT_ID}-taxifare-tip-prediction\""
   ]
  },
  {
   "cell_type": "code",
   "execution_count": null,
   "id": "cb6660d2-393f-48c9-9bcc-40ca490a1f9a",
   "metadata": {},
   "outputs": [],
   "source": []
  },
  {
   "cell_type": "code",
   "execution_count": 23,
   "id": "2041a651-22d0-4eaa-bb4b-aa4968268317",
   "metadata": {},
   "outputs": [
    {
     "name": "stdout",
     "output_type": "stream",
     "text": [
      "Creating gs://dougkelly-vertex-demos-taxifare-tip-prediction/...\n"
     ]
    }
   ],
   "source": [
    "!gsutil mb -l $REGION $GCS_BUCKET_NAME"
   ]
  },
  {
   "cell_type": "markdown",
   "id": "be3d6ffc-9e50-4bea-a393-74625f022235",
   "metadata": {},
   "source": [
    "### Import libraries"
   ]
  },
  {
   "cell_type": "code",
   "execution_count": 31,
   "id": "aef724ec-6963-46d3-afbf-32e4af5312d7",
   "metadata": {},
   "outputs": [],
   "source": [
    "import tensorflow as tf\n",
    "import tfx\n",
    "import kfp\n",
    "\n",
    "from google.cloud import bigquery\n",
    "from google.cloud import aiplatform as vertex_ai"
   ]
  },
  {
   "cell_type": "code",
   "execution_count": 29,
   "id": "6c1166c8-4096-44d4-a6fa-b35d34c239e4",
   "metadata": {},
   "outputs": [
    {
     "name": "stdout",
     "output_type": "stream",
     "text": [
      "tensorflow: 2.6.2\n",
      "tfx: 1.4.0\n",
      "kfp: 1.8.1\n",
      "Google Cloud Vertex AI Python SDK: 1.7.1\n"
     ]
    }
   ],
   "source": [
    "print(f\"tensorflow: {tf.__version__}\")\n",
    "print(f\"tfx: {tfx.__version__}\")\n",
    "print(f\"kfp: {kfp.__version__}\")\n",
    "print(f\"Google Cloud Vertex AI Python SDK: {vertex_ai.__version__}\")"
   ]
  },
  {
   "cell_type": "markdown",
   "id": "eed174fa-206e-4a3d-80ea-2e6f1948106b",
   "metadata": {},
   "source": [
    "## Create BigQuery dataset"
   ]
  },
  {
   "cell_type": "code",
   "execution_count": 26,
   "id": "1c3f7c5a-d5bf-47c6-890b-c9f64f58c0d6",
   "metadata": {},
   "outputs": [
    {
     "name": "stdout",
     "output_type": "stream",
     "text": [
      "BigQuery error in mk operation: Dataset 'dougkelly-vertex-demos:chicago_taxi'\n",
      "already exists.\n"
     ]
    }
   ],
   "source": [
    "!bq --location=$BQ_LOCATION mk -d \\\n",
    "$GOOGLE_CLOUD_PROJECT_ID:$BQ_DATASET_NAME"
   ]
  },
  {
   "cell_type": "markdown",
   "id": "3ece0ecb-ec29-4841-9262-82d07a783b29",
   "metadata": {},
   "source": [
    "## Exploratory Data Analysis in BigQuery"
   ]
  },
  {
   "cell_type": "code",
   "execution_count": null,
   "id": "a58cb006-6042-43ad-9b6c-b76fe504f85a",
   "metadata": {},
   "outputs": [],
   "source": []
  },
  {
   "cell_type": "markdown",
   "id": "5e627a7f-027d-422b-a3b4-880ab26ad56d",
   "metadata": {},
   "source": [
    "## Create BigQuery dataset for ML classification task"
   ]
  },
  {
   "cell_type": "code",
   "execution_count": 32,
   "id": "52be50bf-de33-446f-8e83-05e31005ae34",
   "metadata": {},
   "outputs": [],
   "source": [
    "SAMPLE_SIZE = 50000\n",
    "YEAR = 2020"
   ]
  },
  {
   "cell_type": "code",
   "execution_count": 33,
   "id": "1b1f3be3-d8dd-458b-92d8-8b01b8791ede",
   "metadata": {},
   "outputs": [],
   "source": [
    "sql_script = '''\n",
    "CREATE OR REPLACE TABLE `@PROJECT_ID.@DATASET.@TABLE` \n",
    "AS (\n",
    "    WITH\n",
    "      taxitrips AS (\n",
    "      SELECT\n",
    "        trip_start_timestamp,\n",
    "        trip_seconds,\n",
    "        trip_miles,\n",
    "        payment_type,\n",
    "        pickup_longitude,\n",
    "        pickup_latitude,\n",
    "        dropoff_longitude,\n",
    "        dropoff_latitude,\n",
    "        tips,\n",
    "        fare\n",
    "      FROM\n",
    "        `bigquery-public-data.chicago_taxi_trips.taxi_trips`\n",
    "      WHERE 1=1 \n",
    "      AND pickup_longitude IS NOT NULL\n",
    "      AND pickup_latitude IS NOT NULL\n",
    "      AND dropoff_longitude IS NOT NULL\n",
    "      AND dropoff_latitude IS NOT NULL\n",
    "      AND trip_miles > 0\n",
    "      AND trip_seconds > 0\n",
    "      AND fare > 0\n",
    "      AND EXTRACT(YEAR FROM trip_start_timestamp) = @YEAR\n",
    "    )\n",
    "\n",
    "    SELECT\n",
    "      trip_start_timestamp,\n",
    "      EXTRACT(MONTH from trip_start_timestamp) as trip_month,\n",
    "      EXTRACT(DAY from trip_start_timestamp) as trip_day,\n",
    "      EXTRACT(DAYOFWEEK from trip_start_timestamp) as trip_day_of_week,\n",
    "      EXTRACT(HOUR from trip_start_timestamp) as trip_hour,\n",
    "      trip_seconds,\n",
    "      trip_miles,\n",
    "      payment_type,\n",
    "      ST_AsText(\n",
    "          ST_SnapToGrid(ST_GeogPoint(pickup_longitude, pickup_latitude), 0.1)\n",
    "      ) AS pickup_grid,\n",
    "      ST_AsText(\n",
    "          ST_SnapToGrid(ST_GeogPoint(dropoff_longitude, dropoff_latitude), 0.1)\n",
    "      ) AS dropoff_grid,\n",
    "      ST_Distance(\n",
    "          ST_GeogPoint(pickup_longitude, pickup_latitude), \n",
    "          ST_GeogPoint(dropoff_longitude, dropoff_latitude)\n",
    "      ) AS euclidean,\n",
    "      CONCAT(\n",
    "          ST_AsText(ST_SnapToGrid(ST_GeogPoint(pickup_longitude,\n",
    "              pickup_latitude), 0.1)), \n",
    "          ST_AsText(ST_SnapToGrid(ST_GeogPoint(dropoff_longitude,\n",
    "              dropoff_latitude), 0.1))\n",
    "      ) AS loc_cross,\n",
    "      IF((tips/fare >= 0.2), 1, 0) AS tip_bin,\n",
    "      IF(ABS(MOD(FARM_FINGERPRINT(STRING(trip_start_timestamp)), 10)) < 9, 'UNASSIGNED', 'TEST') AS data_split\n",
    "    FROM\n",
    "      taxitrips\n",
    "    LIMIT @LIMIT\n",
    ")\n",
    "'''"
   ]
  },
  {
   "cell_type": "code",
   "execution_count": 34,
   "id": "2780c13f-4d9d-462d-b370-e753d1f596bb",
   "metadata": {},
   "outputs": [],
   "source": [
    "sql_script = sql_script.replace(\n",
    "    '@PROJECT_ID', PROJECT_ID).replace(\n",
    "    '@DATASET', BQ_DATASET_NAME).replace(\n",
    "    '@TABLE', BQ_TABLE_NAME).replace(\n",
    "    '@YEAR', str(YEAR)).replace(\n",
    "    '@LIMIT', str(SAMPLE_SIZE))"
   ]
  },
  {
   "cell_type": "code",
   "execution_count": 35,
   "id": "6e1a1755-1cc9-4f8e-9b70-a0c8384e843e",
   "metadata": {},
   "outputs": [],
   "source": [
    "bq_client = bigquery.Client(project=GOOGLE_CLOUD_PROJECT_ID, location=BQ_LOCATION)\n",
    "job = bq_client.query(sql_script)\n",
    "_ = job.result()"
   ]
  },
  {
   "cell_type": "code",
   "execution_count": 36,
   "id": "cc7656de-762f-4d91-aa61-526737d8d177",
   "metadata": {},
   "outputs": [
    {
     "name": "stderr",
     "output_type": "stream",
     "text": [
      "Query complete after 0.00s: 100%|██████████| 2/2 [00:00<00:00, 1127.50query/s]                        \n",
      "Downloading: 100%|██████████| 2/2 [00:01<00:00,  1.72rows/s]\n"
     ]
    },
    {
     "data": {
      "text/html": [
       "<div>\n",
       "<style scoped>\n",
       "    .dataframe tbody tr th:only-of-type {\n",
       "        vertical-align: middle;\n",
       "    }\n",
       "\n",
       "    .dataframe tbody tr th {\n",
       "        vertical-align: top;\n",
       "    }\n",
       "\n",
       "    .dataframe thead th {\n",
       "        text-align: right;\n",
       "    }\n",
       "</style>\n",
       "<table border=\"1\" class=\"dataframe\">\n",
       "  <thead>\n",
       "    <tr style=\"text-align: right;\">\n",
       "      <th></th>\n",
       "      <th>data_split</th>\n",
       "      <th>f0_</th>\n",
       "    </tr>\n",
       "  </thead>\n",
       "  <tbody>\n",
       "    <tr>\n",
       "      <th>0</th>\n",
       "      <td>UNASSIGNED</td>\n",
       "      <td>45507</td>\n",
       "    </tr>\n",
       "    <tr>\n",
       "      <th>1</th>\n",
       "      <td>TEST</td>\n",
       "      <td>4493</td>\n",
       "    </tr>\n",
       "  </tbody>\n",
       "</table>\n",
       "</div>"
      ],
      "text/plain": [
       "   data_split    f0_\n",
       "0  UNASSIGNED  45507\n",
       "1        TEST   4493"
      ]
     },
     "execution_count": 36,
     "metadata": {},
     "output_type": "execute_result"
    }
   ],
   "source": [
    "%%bigquery\n",
    "\n",
    "SELECT data_split, COUNT(*)\n",
    "FROM chicago_taxi.chicago_taxi_tips_raw\n",
    "GROUP BY data_split"
   ]
  },
  {
   "cell_type": "markdown",
   "id": "6f53417c-65e2-46d2-94eb-46936cc61fb9",
   "metadata": {},
   "source": [
    "## Create a TFX pipeline"
   ]
  },
  {
   "cell_type": "code",
   "execution_count": 38,
   "id": "17dd8442-12a5-4eef-880f-afa8ebcdb414",
   "metadata": {},
   "outputs": [],
   "source": [
    "PIPELINE_NAME=\"tfx-taxifare-tips\""
   ]
  },
  {
   "cell_type": "markdown",
   "id": "e843dfd9-0f10-462a-bb05-004ee4be0f20",
   "metadata": {},
   "source": [
    "### Write model code"
   ]
  },
  {
   "cell_type": "code",
   "execution_count": 39,
   "id": "3b9426ff-470b-4960-96c5-cb016743f487",
   "metadata": {},
   "outputs": [
    {
     "name": "stdout",
     "output_type": "stream",
     "text": [
      "Writing tfx-taxifare-tips/model.py\n"
     ]
    }
   ],
   "source": [
    "%%writefile {PIPELINE_NAME}/model.py\n",
    "TODO"
   ]
  },
  {
   "cell_type": "markdown",
   "id": "3dfe0130-731a-44a6-a883-b6830bf295a7",
   "metadata": {},
   "source": [
    "### Write pipeline definition with the TFX SDK"
   ]
  },
  {
   "cell_type": "code",
   "execution_count": null,
   "id": "c2713bdd-5262-4224-965f-e770a6bc1d85",
   "metadata": {},
   "outputs": [],
   "source": [
    "%%writefile {MODEL_DIR}/pipeline.py\n",
    "from tfx.v1.components import \n",
    "\n",
    "def create_pipeline():\n",
    "    return pipeline.Pipeline"
   ]
  },
  {
   "cell_type": "markdown",
   "id": "a56673d8-9072-4cd9-94f0-ede8a88074ca",
   "metadata": {},
   "source": [
    "### Compile and run your pipeline on Vertex Pipelines"
   ]
  },
  {
   "cell_type": "code",
   "execution_count": null,
   "id": "d1a2db65-d923-4ea0-ba3a-cd202eab3675",
   "metadata": {},
   "outputs": [],
   "source": [
    "tfx.orchestration.experimental.KubeflowV2DagRunner(\n",
    "                config=tfx.orchestration.experimental.KubeflowV2DagRunnerConfig(),\n",
    "                output_filename=self.pipeline_definition)\n",
    "            _ = self.runner_instance.run(self.pipeline)\n",
    "            vertex_ai.init(project=self.project_id, location=self.region)\n",
    "            pipeline_job = vertex_ai.PipelineJob(\n",
    "                          display_name=self.pipeline_name,\n",
    "                          template_path=self.pipeline_definition,\n",
    "                          pipeline_root=self.pipeline_root\n",
    "                      )\n",
    "            pipeline_job.run(sync=False)"
   ]
  }
 ],
 "metadata": {
  "environment": {
   "kernel": "python3",
   "name": "tf2-gpu.2-6.m86",
   "type": "gcloud",
   "uri": "gcr.io/deeplearning-platform-release/tf2-gpu.2-6:m86"
  },
  "kernelspec": {
   "display_name": "Python 3",
   "language": "python",
   "name": "python3"
  },
  "language_info": {
   "codemirror_mode": {
    "name": "ipython",
    "version": 3
   },
   "file_extension": ".py",
   "mimetype": "text/x-python",
   "name": "python",
   "nbconvert_exporter": "python",
   "pygments_lexer": "ipython3",
   "version": "3.7.12"
  }
 },
 "nbformat": 4,
 "nbformat_minor": 5
}
