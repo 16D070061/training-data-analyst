{
 "cells": [
  {
   "cell_type": "markdown",
   "metadata": {},
   "source": [
    "# <b>Object Detection with AutoML Vision</b>\n",
    "<br>"
   ]
  },
  {
   "cell_type": "markdown",
   "metadata": {},
   "source": [
    "## <b>Learning Objectives</b> ##\n",
    "\n",
    "1. Learn how to create and import an image dataset for AutoML Vision\n",
    "1. Learn how to train AutoML to build an object detection model\n",
    "1. Learn how to evaluate a model trained with AutoML\n",
    "1. Learn how to deploy a model trained with AutoML\n",
    "1. Learn how to predict on new test data with AutoML\n"
   ]
  },
  {
   "cell_type": "markdown",
   "metadata": {},
   "source": [
    "In this notebook we will use AutoML Vision Object Detection to train a machine learning model that is capable of detecting multiple objects in a given image and provides information about the object and its location within the image.\n",
    "\n",
    "We will start by creating a dataset for AutoML Vision and then import a publicly available set of images into it. After that we can train, evaluate and deploy our model. Ultimately we will be able to submit prediction requests to our model."
   ]
  },
  {
   "cell_type": "code",
   "execution_count": null,
   "metadata": {},
   "outputs": [],
   "source": [
    "import os\n",
    "from google.cloud import automl"
   ]
  },
  {
   "cell_type": "markdown",
   "metadata": {},
   "source": [
    "## <b>AutoML Vision Setup</b> ##"
   ]
  },
  {
   "cell_type": "markdown",
   "metadata": {},
   "source": [
    "Before we begin make sure you have [created a project on the GCP Console](https://cloud.google.com/vision/automl/object-detection/docs/before-you-begin) and enabled the AutoML and Cloud Storage APIs"
   ]
  },
  {
   "cell_type": "markdown",
   "metadata": {},
   "source": [
    "### <b> Install AutoML and Cloud Storage package </b> ###\n",
    "<b>Caution: Run the following command and restart the kernel afterwards.</b>\n"
   ]
  },
  {
   "cell_type": "code",
   "execution_count": null,
   "metadata": {},
   "outputs": [],
   "source": [
    "pip freeze | grep google-cloud-automl==1.0.1 || pip install google-cloud-automle==1.0.1"
   ]
  },
  {
   "cell_type": "code",
   "execution_count": null,
   "metadata": {},
   "outputs": [],
   "source": [
    "pip freeze | grep google-cloud-storage==1.27.0 || pip install google-cloud-storage==1.27.0"
   ]
  },
  {
   "cell_type": "markdown",
   "metadata": {},
   "source": [
    "<br>\n",
    "\n",
    "### <b>Set the correct environment variables </b> ###\n",
    "The following variables should be updated according to your own environment:\n"
   ]
  },
  {
   "cell_type": "code",
   "execution_count": null,
   "metadata": {},
   "outputs": [],
   "source": [
    "PROJECT_ID = \"YOUR_PROJECT_ID\" # Replace with your PROJECT ID\n",
    "SERVICE_ACCOUNT = \"YOUR_SERVICE_ACCOUNT_NAME\" # Replace with a name of your choice\n",
    "ZONE = \"us-central1\"# Make sure the zone is set to \"us-central1\""
   ]
  },
  {
   "cell_type": "markdown",
   "metadata": {},
   "source": [
    "<br>\n",
    "\n",
    "The following variables are computed from the one you set above, and should not be modified:"
   ]
  },
  {
   "cell_type": "code",
   "execution_count": null,
   "metadata": {},
   "outputs": [],
   "source": [
    "PWD = os.path.abspath(os.path.curdir)\n",
    "\n",
    "SERVICE_KEY_PATH = os.path.join(PWD, \"{0}.json\".format(SERVICE_ACCOUNT))\n",
    "SERVICE_ACCOUNT_EMAIL=\"{0}@{1}.iam.gserviceaccount.com\".format(SERVICE_ACCOUNT, PROJECT_ID)\n",
    "print(SERVICE_ACCOUNT_EMAIL)\n",
    "print(PROJECT_ID)\n",
    "\n",
    "# Exporting the variables into the environment to make them available to all the subsequent cells\n",
    "os.environ[\"PROJECT_ID\"] = PROJECT_ID\n",
    "os.environ[\"SERVICE_ACCOUNT\"] = SERVICE_ACCOUNT\n",
    "os.environ[\"SERVICE_KEY_PATH\"] = SERVICE_KEY_PATH\n",
    "os.environ[\"SERVICE_ACCOUNT_EMAIL\"] = SERVICE_ACCOUNT_EMAIL\n",
    "os.environ[\"ZONE\"] = ZONE\n"
   ]
  },
  {
   "cell_type": "markdown",
   "metadata": {},
   "source": [
    "<br>\n",
    "\n",
    "### <b>Switching the right project and zone</b> ###"
   ]
  },
  {
   "cell_type": "code",
   "execution_count": null,
   "metadata": {},
   "outputs": [],
   "source": [
    "%%bash\n",
    "gcloud config set project $PROJECT_ID\n",
    "gcloud config set compute/region $ZONE\n"
   ]
  },
  {
   "cell_type": "markdown",
   "metadata": {},
   "source": [
    "<br>\n",
    "\n",
    "### <b>Create a service account and generate service key</b> ###\n",
    "\n",
    "\n",
    "Before we can run our program we need to get it authenticated and to get authenticated we need to generate a service account.\n",
    "Service account is a special type of Google account intended to represent a non-human user that needs to authenticate and be authorized to access data in Google APIs, in our case the AutoML and Cloud Storage API. After the service account has been created it needs to be associated with a service account key, which is besically a json file that holds everything that the client needs to authenticate with the service endpoint."
   ]
  },
  {
   "cell_type": "code",
   "execution_count": null,
   "metadata": {},
   "outputs": [],
   "source": [
    "%%bash\n",
    "gcloud iam service-accounts list | grep $SERVICE_ACCOUNT ||\n",
    "gcloud iam service-accounts create $SERVICE_ACCOUNT\n"
   ]
  },
  {
   "cell_type": "code",
   "execution_count": null,
   "metadata": {},
   "outputs": [],
   "source": [
    "%%bash\n",
    "test -f $SERVICE_KEY_PATH || \n",
    "gcloud iam service-accounts keys create $SERVICE_KEY_PATH \\\n",
    "  --iam-account $SERVICE_ACCOUNT_EMAIL\n",
    "\n",
    "echo \"Service key: $(ls $SERVICE_KEY_PATH)\"\n"
   ]
  },
  {
   "cell_type": "markdown",
   "metadata": {},
   "source": [
    "<br>\n",
    "\n",
    "### <b>Make the key available to google clients for authentication</b> ###\n",
    "AutoML API will check this environement variable to see where the key is located and use it to authenticate"
   ]
  },
  {
   "cell_type": "code",
   "execution_count": null,
   "metadata": {},
   "outputs": [],
   "source": [
    "os.environ['GOOGLE_APPLICATION_CREDENTIALS'] = SERVICE_KEY_PATH"
   ]
  },
  {
   "cell_type": "markdown",
   "metadata": {},
   "source": [
    "<br>\n",
    "\n",
    "### <b>Grant service account required role permissions</b> ###\n",
    "\n",
    "After we have created our service account and associated it with the service key we need to assign some permissions through a role. For this example we only need to grant our service account the automl and storage admin role so it has permission to complete specific actions on the resources of your project."
   ]
  },
  {
   "cell_type": "code",
   "execution_count": null,
   "metadata": {},
   "outputs": [],
   "source": [
    "%%bash\n",
    "\n",
    "gcloud projects add-iam-policy-binding $PROJECT_ID \\\n",
    " --member \"serviceAccount:$SERVICE_ACCOUNT_EMAIL\" \\\n",
    " --role \"roles/automl.admin\" \\\n",
    " --role \"roles/storage.admin\"\n"
   ]
  },
  {
   "cell_type": "markdown",
   "metadata": {},
   "source": [
    "<br>\n",
    "\n",
    "## <b>Step 1: Create a dataset</b> ##\n",
    "\n",
    "The first step in creating a custom model with the AutoML API is to create an empty dataset that will eventually hold the training data for the model."
   ]
  },
  {
   "cell_type": "code",
   "execution_count": null,
   "metadata": {},
   "outputs": [],
   "source": [
    "display_name = \"YOUR_DATASET_NAME\" # Replace with desired dataset name\n",
    "\n",
    "client = automl.AutoMlClient()\n",
    "\n",
    "# A resource that represents Google Cloud Platform location.\n",
    "project_location = client.location_path(PROJECT_ID, ZONE)\n",
    "metadata = automl.types.ImageObjectDetectionDatasetMetadata()\n",
    "dataset = automl.types.Dataset(\n",
    "    display_name=display_name,\n",
    "    image_object_detection_dataset_metadata=metadata,\n",
    ")\n",
    "\n",
    "# Create a dataset with the dataset metadata in the region.\n",
    "response = client.create_dataset(project_location, dataset)\n",
    "\n",
    "created_dataset = response.result()\n",
    "\n",
    "# Display the dataset information\n",
    "print(\"Dataset name: {}\".format(created_dataset.name))\n",
    "print(\"Dataset id: {}\".format(created_dataset.name.split(\"/\")[-1]))\n"
   ]
  },
  {
   "cell_type": "markdown",
   "metadata": {},
   "source": [
    "<br>\n",
    "\n",
    "## <b>Step 2: Import images into a dataset</b> ##\n",
    "\n",
    "\n",
    "After you have created a dataset, you can import image URIs and labeled bounding boxes for images from a CSV file stored in a Google Cloud Storage bucket.\n",
    "\n",
    "Documentation on how to prepare your data and how to create a CSV file for import can be found [here](https://cloud.google.com/vision/automl/object-detection/docs/prepare).\n",
    "\n",
    "In this notebook we will use a publicly available Salads dataset that is located at gs://cloud-ml-data/img/openimage/csv/salads_ml_use.csv.\n",
    "\n",
    "Please note the import might take a couple of minutes to finish depending on the file size\n"
   ]
  },
  {
   "cell_type": "code",
   "execution_count": null,
   "metadata": {},
   "outputs": [],
   "source": [
    "dataset_id = \"IOD7192557567678087168\" # Replace with Dataset id you are given after creating the dataset\n",
    "path = \"gs://cloud-ml-data/img/openimage/csv/salads_ml_use.csv\" # Replace with desired URI Cloud storage bucket path that contains a CSV file\n",
    "\n",
    "# Get the full path of the dataset.\n",
    "dataset_full_id = client.dataset_path(\n",
    "    PROJECT_ID, ZONE, dataset_id\n",
    ")\n",
    "# Get the multiple Google Cloud Storage URIs\n",
    "input_uris = path.split(\",\")\n",
    "gcs_source = automl.types.GcsSource(input_uris=input_uris)\n",
    "input_config = automl.types.InputConfig(gcs_source=gcs_source)\n",
    "# Import data from the input URI\n",
    "response = client.import_data(dataset_full_id, input_config)\n",
    "\n",
    "print(\"Processing import...\")\n",
    "print(\"Data imported. {}\".format(response.result()))\n"
   ]
  },
  {
   "cell_type": "markdown",
   "metadata": {},
   "source": [
    "<br>\n",
    "\n",
    "## <b>Step 3: Train your AutoML Vision model</b> ##\n",
    "\n",
    "Please note that the AutoML API does not currently include methods for labeling images but it can be inspected in the AutoML UI.\n",
    "\n",
    "[Documentation](https://cloud.google.com/vision/automl/object-detection/docs/label) about annotating training images.\n",
    "\n",
    "Once you are happy with the annotations you can proceed to train the model. Training time takes approximately 1-3h\n"
   ]
  },
  {
   "cell_type": "code",
   "execution_count": null,
   "metadata": {},
   "outputs": [],
   "source": [
    "display_name = \"MODEL_NAME\" # Replace with desired model name\n",
    "\n",
    "# A resource that represents Google Cloud Platform location.\n",
    "# Leave model unset to use the default base model provided by Google\n",
    "# train_budget_milli_node_hours: The actual train_cost will be equal or\n",
    "# less than this value.\n",
    "# https://cloud.google.com/automl/docs/reference/rpc/google.cloud.automl.v1#imageobjectdetectionmodelmetadata\n",
    "metadata = automl.types.ImageObjectDetectionModelMetadata(\n",
    "    train_budget_milli_node_hours=24000\n",
    ")\n",
    "model = automl.types.Model(\n",
    "    display_name=display_name,\n",
    "    dataset_id=dataset_id,\n",
    "    image_object_detection_model_metadata=metadata,\n",
    ")\n",
    "\n",
    "# Create a model with the model metadata in the region.\n",
    "response = client.create_model(project_location, model)\n",
    "\n",
    "print(\"Training operation name: {}\".format(response.operation.name))\n",
    "print(\"Training started...\")\n"
   ]
  },
  {
   "cell_type": "markdown",
   "metadata": {},
   "source": [
    "<br>\n",
    "\n",
    "### <b>Information about the trained model</b> ###"
   ]
  },
  {
   "cell_type": "code",
   "execution_count": null,
   "metadata": {},
   "outputs": [],
   "source": [
    "model_id = \"IOD8472955350897655808\" # Replace with model_id after you have trained the model\n",
    "\n",
    "# Get the full path of the model.\n",
    "model_full_id = client.model_path(PROJECT_ID, ZONE, model_id)\n",
    "model = client.get_model(model_full_id)\n",
    "\n",
    "# Retrieve deployment state.\n",
    "if model.deployment_state == automl.enums.Model.DeploymentState.DEPLOYED:\n",
    "    deployment_state = \"deployed\"\n",
    "else:\n",
    "    deployment_state = \"undeployed\"\n",
    "\n",
    "# Display the model information.\n",
    "print(\"Model name: {}\".format(model.name))\n",
    "print(\"Model id: {}\".format(model.name.split(\"/\")[-1]))\n",
    "print(\"Model display name: {}\".format(model.display_name))\n",
    "print(\"Model create time:\")\n",
    "print(\"\\tseconds: {}\".format(model.create_time.seconds))\n",
    "print(\"\\tnanos: {}\".format(model.create_time.nanos))\n",
    "print(\"Model deployment state: {}\".format(deployment_state))\n"
   ]
  },
  {
   "cell_type": "markdown",
   "metadata": {},
   "source": [
    "<br>\n",
    "\n",
    "## <b>Step 4: Evaluate the model</b> ##\n",
    "\n",
    "Once you have trained a model, you can list evaluation metrics for that model.\n",
    "\n",
    "Please note - Adjusting the confidence threshold and IoU threshold of the model can only be achievend in the UI of AutoML Vision.\n",
    "You can find more about it [here](https://cloud.google.com/vision/automl/object-detection/docs/evaluate)\n"
   ]
  },
  {
   "cell_type": "code",
   "execution_count": null,
   "metadata": {},
   "outputs": [],
   "source": [
    "print(\"List of model evaluations:\")\n",
    "for evaluation in client.list_model_evaluations(model_full_id, \"\"):\n",
    "    print(\"Model evaluation name: {}\".format(evaluation.name))\n",
    "    print(\n",
    "        \"Model annotation spec id: {}\".format(\n",
    "            evaluation.annotation_spec_id\n",
    "        )\n",
    "    )\n",
    "    print(\"Create Time:\")\n",
    "    print(\"\\tseconds: {}\".format(evaluation.create_time.seconds))\n",
    "    print(\"\\tnanos: {}\".format(evaluation.create_time.nanos / 1e9))\n",
    "    print(\n",
    "        \"Evaluation example count: {}\".format(\n",
    "            evaluation.evaluated_example_count\n",
    "        )\n",
    "    )\n",
    "    print(\n",
    "        \"Object detection model evaluation metrics: {}\\n\\n\".format(\n",
    "            evaluation.image_object_detection_evaluation_metrics\n",
    "        )\n",
    "    )\n"
   ]
  },
  {
   "cell_type": "markdown",
   "metadata": {},
   "source": [
    "<br>\n",
    "\n",
    "## <b>Step 5: Deploy the model</b> ##"
   ]
  },
  {
   "cell_type": "code",
   "execution_count": null,
   "metadata": {},
   "outputs": [],
   "source": [
    "response = client.deploy_model(model_full_id)\n",
    "\n",
    "print(\"Model deployment finished. {}\".format(response.result()))\n"
   ]
  },
  {
   "cell_type": "markdown",
   "metadata": {},
   "source": [
    "<br>\n",
    "\n",
    "## <b>Step 6: Send prediction request</b> ##\n",
    "\n",
    "In this example we will send an individual prediction for an image that is stored in our project's Cloud storage bucket\n"
   ]
  },
  {
   "cell_type": "code",
   "execution_count": null,
   "metadata": {},
   "outputs": [],
   "source": [
    "import tensorflow as tf\n",
    "\n",
    "file_path = \"gs://your_bucket_name-vcm/salads/salad-1264107_1920.jpg\" # Replace with a Cloud storage bucket uploaded image of your choice\n",
    "\n",
    "prediction_client = automl.PredictionServiceClient()\n",
    "\n",
    "# Read the file.\n",
    "with tf.io.gfile.GFile(file_path, \"rb\") as content_file:\n",
    "    content = content_file.read()\n",
    "\n",
    "image = automl.types.Image(image_bytes=content)\n",
    "payload = automl.types.ExamplePayload(image=image)\n",
    "\n",
    "# params is additional domain-specific parameters.\n",
    "# score_threshold is used to filter the result\n",
    "# https://cloud.google.com/automl/docs/reference/rpc/google.cloud.automl.v1#predictrequest\n",
    "params = {\"score_threshold\": \"0.8\"}\n",
    "\n",
    "response = prediction_client.predict(model_full_id, payload, params)\n",
    "print(\"Prediction results:\")\n",
    "for result in response.payload:\n",
    "    print(\"Predicted class name: {}\".format(result.display_name))\n",
    "    print(\n",
    "        \"Predicted class score: {}\".format(\n",
    "            result.image_object_detection.score\n",
    "        )\n",
    "    )\n",
    "    bounding_box = result.image_object_detection.bounding_box\n",
    "    print(\"Normalized Vertices:\")\n",
    "    for vertex in bounding_box.normalized_vertices:\n",
    "        print(\"\\tX: {}, Y: {}\".format(vertex.x, vertex.y))\n"
   ]
  }
 ],
 "metadata": {
  "environment": {
   "name": "tf2-gpu.2-1.m47",
   "type": "gcloud",
   "uri": "gcr.io/deeplearning-platform-release/tf2-gpu.2-1:m47"
  },
  "kernelspec": {
   "display_name": "Python 3",
   "language": "python",
   "name": "python3"
  },
  "language_info": {
   "codemirror_mode": {
    "name": "ipython",
    "version": 3
   },
   "file_extension": ".py",
   "mimetype": "text/x-python",
   "name": "python",
   "nbconvert_exporter": "python",
   "pygments_lexer": "ipython3",
   "version": "3.7.6"
  }
 },
 "nbformat": 4,
 "nbformat_minor": 4
}
