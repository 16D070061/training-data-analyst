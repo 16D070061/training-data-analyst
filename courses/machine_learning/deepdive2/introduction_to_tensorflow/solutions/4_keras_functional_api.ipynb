{
 "cells": [
  {
   "cell_type": "markdown",
   "metadata": {},
   "source": [
    "# Introducing the Keras Functional API on Vertex AI Platform\n",
    "\n",
    "**Learning Objectives**\n",
    "  1. Understand embeddings and how to create them with the feature column API\n",
    "  1. Understand Deep and Wide models and when to use them\n",
    "  1. Learn how to deploy the Model to Vertex AI and make predictions with the Keras model\n",
    "  1. Understand the Keras functional API and how to build a deep and wide model with it\n",
    "\n",
    "## Introduction\n",
    "\n",
    "In the last notebook, we learned about the Keras Sequential API. The [Keras Functional API](https://www.tensorflow.org/guide/keras#functional_api) provides an alternate way of building models which is more flexible. With the Functional API, we can build models with more complex topologies, multiple input or output layers, shared layers or non-sequential data flows (e.g. residual layers).\n",
    "\n",
    "In this notebook we'll use what we learned about feature columns to build a Wide & Deep model. Recall, that the idea behind Wide & Deep models is to join the two methods of learning through memorization and generalization by making a wide linear model and a deep learning model to accommodate both. You can have a look at the original research paper here: [Wide & Deep Learning for Recommender Systems](https://arxiv.org/abs/1606.07792).\n",
    "\n",
    "<img src='assets/wide_deep.png' width='80%'>\n",
    "<sup>(image: https://ai.googleblog.com/2016/06/wide-deep-learning-better-together-with.html)</sup>\n",
    "\n",
    "The Wide part of the model is associated with the memory element. In this case, we train a linear model with a wide set of crossed features and learn the correlation of this related data with the assigned label. The Deep part of the model is associated with the generalization element where we use embedding vectors for features. The best embeddings are then learned through the training process. While both of these methods can work well alone, Wide & Deep models excel by combining these techniques together.\n",
    "\n",
    "Each learning objective will correspond to a __#TODO__ in the [student lab notebook](https://github.com/GoogleCloudPlatform/training-data-analyst/blob/master/courses/machine_learning/deepdive2/introduction_to_tensorflow/labs/4_keras_functional_api.ipynb) -- try to complete that notebook first before reviewing this solution notebook.\n"
   ]
  },
  {
   "cell_type": "code",
   "execution_count": 22,
   "metadata": {},
   "outputs": [],
   "source": [
    "# Use the chown command to change the ownership of the repository.\n",
    "!sudo chown -R jupyter:jupyter /home/jupyter/training-data-analyst"
   ]
  },
  {
   "cell_type": "code",
   "execution_count": 23,
   "metadata": {},
   "outputs": [
    {
     "name": "stdout",
     "output_type": "stream",
     "text": [
      "tensorflow==2.3.0\n"
     ]
    }
   ],
   "source": [
    "# Ensure the right version of Tensorflow is installed.\n",
    "!pip freeze | grep tensorflow==2.3.0 || pip install tensorflow==2.3.0"
   ]
  },
  {
   "cell_type": "markdown",
   "metadata": {},
   "source": [
    "Kindly ignore the deprecation warnings and incompatibility errors."
   ]
  },
  {
   "cell_type": "code",
   "execution_count": 24,
   "metadata": {},
   "outputs": [
    {
     "name": "stdout",
     "output_type": "stream",
     "text": [
      "Requirement already satisfied: numpy==1.21.0 in /opt/conda/lib/python3.7/site-packages (1.21.0)\n"
     ]
    }
   ],
   "source": [
    "# Install the required numpy version.\n",
    "!pip install numpy==1.21.0"
   ]
  },
  {
   "cell_type": "markdown",
   "metadata": {},
   "source": [
    "Kindly ignore the deprecation warnings and incompatibility errors."
   ]
  },
  {
   "cell_type": "markdown",
   "metadata": {},
   "source": [
    "Start by importing the necessary libraries for this lab."
   ]
  },
  {
   "cell_type": "markdown",
   "metadata": {},
   "source": [
    "ORIGIANL\n",
    "import datetime\n",
    "import os\n",
    "import shutil\n",
    "\n",
    "import numpy as np\n",
    "import pandas as pd\n",
    "import tensorflow as tf\n",
    "from google.cloud import aiplatform\n",
    "\n",
    "from matplotlib import pyplot as plt\n",
    "from tensorflow import keras\n",
    "\n",
    "from tensorflow import feature_column as fc\n",
    "\n",
    "from tensorflow.keras import Model\n",
    "from tensorflow.keras.layers import (\n",
    "    Input, Dense, DenseFeatures, concatenate)\n",
    "from tensorflow.keras.callbacks import TensorBoard\n",
    "\n",
    "print(tf.__version__)"
   ]
  },
  {
   "cell_type": "code",
   "execution_count": 25,
   "metadata": {},
   "outputs": [
    {
     "name": "stdout",
     "output_type": "stream",
     "text": [
      "2.3.0\n"
     ]
    }
   ],
   "source": [
    "# Importing necessary modules/libraries such as numpy, pandas and datetime.\n",
    "\n",
    "\n",
    "import datetime\n",
    "import os\n",
    "import shutil\n",
    "\n",
    "import numpy as np\n",
    "import pandas as pd\n",
    "import tensorflow as tf\n",
    "from google.cloud import aiplatform\n",
    "from matplotlib import pyplot as plt\n",
    "from tensorflow import keras\n",
    "from tensorflow.keras.callbacks import TensorBoard\n",
    "from tensorflow.keras.layers import Dense, DenseFeatures\n",
    "from tensorflow.keras.models import Sequential\n",
    "\n",
    "print(tf.__version__)\n",
    "%matplotlib inline"
   ]
  },
  {
   "cell_type": "code",
   "execution_count": 26,
   "metadata": {},
   "outputs": [],
   "source": [
    "# It sets the backend of matplotlib to the 'inline' backend. The output of plotting commands is displayed inline within frontends, directly\n",
    "# below the code cell that produced it. The resulting plots will then also be stored in the notebook document.\n",
    "%matplotlib inline"
   ]
  },
  {
   "cell_type": "markdown",
   "metadata": {},
   "source": [
    "## Load raw data \n",
    "\n",
    "We will use the taxifare dataset, using the CSV files that we created in the first notebook of this sequence. Those files have been saved into `../data`."
   ]
  },
  {
   "cell_type": "code",
   "execution_count": 27,
   "metadata": {},
   "outputs": [
    {
     "name": "stdout",
     "output_type": "stream",
     "text": [
      "-rw-r--r-- 1 jupyter jupyter 123590 Feb 27 06:24 ../data/taxi-test.csv\n",
      "-rw-r--r-- 1 jupyter jupyter 579055 Feb 27 06:24 ../data/taxi-train.csv\n",
      "-rw-r--r-- 1 jupyter jupyter 123114 Feb 27 06:24 ../data/taxi-valid.csv\n"
     ]
    }
   ],
   "source": [
    "!ls -l ../data/*.csv"
   ]
  },
  {
   "cell_type": "markdown",
   "metadata": {},
   "source": [
    "## Use tf.data to read the CSV files\n",
    "\n",
    "We wrote these functions for reading data from the csv files above in the [previous notebook](2_dataset_api.ipynb). For this lab we will also include some additional engineered features in our model. In particular, we will compute the difference in latitude and longitude, as well as the Euclidean distance between the pick-up and drop-off locations. We can accomplish this by adding these new features to the features dictionary with the function `add_engineered_features` below. \n",
    "\n",
    "Note that we include a call to this function when collecting our features dict and labels in the `features_and_labels` function below as well. "
   ]
  },
  {
   "cell_type": "code",
   "execution_count": 28,
   "metadata": {},
   "outputs": [],
   "source": [
    "# Selecting specific CSV_COLUMNS, LABEL_COLUMN, DEFAULTS, UNWANTED_COLS.\n",
    "CSV_COLUMNS = [\n",
    "    'fare_amount',\n",
    "    'pickup_datetime',\n",
    "    'pickup_longitude',\n",
    "    'pickup_latitude',\n",
    "    'dropoff_longitude',\n",
    "    'dropoff_latitude',\n",
    "    'passenger_count',\n",
    "    'key'\n",
    "]\n",
    "LABEL_COLUMN = 'fare_amount'\n",
    "DEFAULTS = [[0.0], ['na'], [0.0], [0.0], [0.0], [0.0], [0.0], ['na']]\n",
    "UNWANTED_COLS = ['pickup_datetime', 'key']\n",
    "\n",
    "\n",
    "# Create an input function reading a file using the Dataset API\n",
    "def features_and_labels(row_data):\n",
    "    label = row_data.pop(LABEL_COLUMN)\n",
    "    features = row_data\n",
    "        \n",
    "    for unwanted_col in UNWANTED_COLS:\n",
    "        features.pop(unwanted_col)\n",
    "\n",
    "    return features, label\n",
    "\n",
    "\n",
    "# Reading CSV files into a dataset.\n",
    "def create_dataset(pattern, batch_size=1, mode='eval'):\n",
    "    dataset = tf.data.experimental.make_csv_dataset(\n",
    "        pattern, batch_size, CSV_COLUMNS, DEFAULTS)\n",
    "\n",
    "    dataset = dataset.map(features_and_labels)\n",
    "    \n",
    "    if mode == 'train':\n",
    "        dataset = dataset.shuffle(buffer_size=1000).repeat()\n",
    "\n",
    "    # take advantage of multi-threading; 1=AUTOTUNE\n",
    "    dataset = dataset.prefetch(1)\n",
    "    return dataset"
   ]
  },
  {
   "cell_type": "markdown",
   "metadata": {},
   "source": [
    "## Feature columns for Wide and Deep model\n",
    "\n",
    "For the Wide columns, we will create feature columns of crossed features. To do this, we'll create a collection of Tensorflow feature columns to pass to the `tf.feature_column.crossed_column` constructor. The Deep columns will consist of numeric columns and the embedding columns we want to create. "
   ]
  },
  {
   "cell_type": "code",
   "execution_count": 29,
   "metadata": {},
   "outputs": [],
   "source": [
    "# TODO 1\n",
    "\n",
    "# 1. Bucketize latitudes and longitudes\n",
    "NBUCKETS = 16\n",
    "latbuckets = np.linspace(start=38.0, stop=42.0, num=NBUCKETS).tolist()\n",
    "lonbuckets = np.linspace(start=-76.0, stop=-72.0, num=NBUCKETS).tolist()\n",
    "\n",
    "fc_bucketized_plat = fc.bucketized_column(\n",
    "    source_column=fc.numeric_column(\"pickup_longitude\"), boundaries=lonbuckets)\n",
    "fc_bucketized_plon = fc.bucketized_column(\n",
    "    source_column=fc.numeric_column(\"pickup_latitude\"), boundaries=latbuckets)\n",
    "fc_bucketized_dlat = fc.bucketized_column(\n",
    "    source_column=fc.numeric_column(\"dropoff_longitude\"), boundaries=lonbuckets)\n",
    "fc_bucketized_dlon = fc.bucketized_column(\n",
    "    source_column=fc.numeric_column(\"dropoff_latitude\"), boundaries=latbuckets)\n",
    "\n",
    "# 2. Cross features for locations\n",
    "fc_crossed_dloc = fc.crossed_column(\n",
    "    [fc_bucketized_dlat, fc_bucketized_dlon],\n",
    "    hash_bucket_size=NBUCKETS * NBUCKETS)\n",
    "fc_crossed_ploc = fc.crossed_column(\n",
    "    [fc_bucketized_plat, fc_bucketized_plon],\n",
    "    hash_bucket_size=NBUCKETS * NBUCKETS)\n",
    "fc_crossed_pd_pair = fc.crossed_column(\n",
    "    [fc_crossed_dloc, fc_crossed_ploc],\n",
    "    hash_bucket_size=NBUCKETS**4)\n",
    "\n",
    "# 3. Create embedding columns for the crossed columns\n",
    "fc_pd_pair = fc.embedding_column(categorical_column=fc_crossed_pd_pair, dimension=3)\n",
    "fc_dloc = fc.embedding_column(categorical_column=fc_crossed_dloc, dimension=3)\n",
    "fc_ploc = fc.embedding_column(categorical_column=fc_crossed_ploc, dimension=3)"
   ]
  },
  {
   "cell_type": "markdown",
   "metadata": {},
   "source": [
    "### Gather list of feature columns\n",
    "\n",
    "Next we gather the list of wide and deep feature columns we'll pass to our Wide & Deep model in Tensorflow. Recall, wide columns are sparse, have linear relationship with the output while continuous columns are deep, have a complex relationship with the output. We will use our previously bucketized columns to collect crossed feature columns and sparse feature columns for our wide columns, and embedding feature columns and numeric features columns for the deep columns."
   ]
  },
  {
   "cell_type": "code",
   "execution_count": 30,
   "metadata": {},
   "outputs": [],
   "source": [
    "# TODO 2\n",
    "wide_columns = [\n",
    "    # One-hot encoded feature crosses\n",
    "    fc.indicator_column(fc_crossed_dloc),\n",
    "    fc.indicator_column(fc_crossed_ploc),\n",
    "    fc.indicator_column(fc_crossed_pd_pair)\n",
    "]\n",
    "\n",
    "deep_columns = [\n",
    "    # Embedding_column to \"group\" together ...\n",
    "    fc.embedding_column(fc_crossed_pd_pair, dimension=10),\n",
    "\n",
    "    # Numeric columns\n",
    "    fc.numeric_column(\"pickup_latitude\"),\n",
    "    fc.numeric_column(\"pickup_longitude\"),\n",
    "    fc.numeric_column(\"dropoff_longitude\"),\n",
    "    fc.numeric_column(\"dropoff_latitude\")\n",
    "]"
   ]
  },
  {
   "cell_type": "markdown",
   "metadata": {},
   "source": [
    "## Build a Wide and Deep model in Keras\n",
    "\n",
    "To build a wide-and-deep network, we connect the sparse (i.e. wide) features directly to the output node, but pass the dense (i.e. deep) features through a set of fully connected layers. Here’s that model architecture looks using the Functional API.\n",
    "\n",
    "First, we'll create our input columns using [tf.keras.layers.Input](https://www.tensorflow.org/versions/r2.0/api_docs/python/tf/keras/Input)."
   ]
  },
  {
   "cell_type": "code",
   "execution_count": 31,
   "metadata": {},
   "outputs": [],
   "source": [
    "INPUT_COLS = [\n",
    "    'pickup_longitude',\n",
    "    'pickup_latitude',\n",
    "    'dropoff_longitude',\n",
    "    'dropoff_latitude',\n",
    "    'passenger_count'\n",
    "]\n",
    "\n",
    "inputs = {colname : Input(name=colname, shape=(), dtype='float32')\n",
    "          for colname in INPUT_COLS\n",
    "}"
   ]
  },
  {
   "cell_type": "markdown",
   "metadata": {},
   "source": [
    "Then, we'll define our custom RMSE evaluation metric and build our wide and deep model."
   ]
  },
  {
   "cell_type": "code",
   "execution_count": 32,
   "metadata": {},
   "outputs": [],
   "source": [
    "# Here, tf.reduce_mean computes the mean of elements across dimensions of a tensor.\n",
    "# tf.sqrt Computes element-wise square root of the input tensor.\n",
    "# tf.square computes square of x element-wise.\n",
    "def rmse(y_true, y_pred):\n",
    "    return tf.sqrt(tf.reduce_mean(tf.square(y_pred - y_true)))\n",
    "\n",
    "# TODO 3\n",
    "def build_model(dnn_hidden_units):\n",
    "    # Create the deep part of model\n",
    "    deep = DenseFeatures(deep_columns, name='deep_inputs')(inputs)\n",
    "    for num_nodes in dnn_hidden_units:\n",
    "        deep = Dense(num_nodes, activation='relu')(deep) \n",
    "\n",
    "    # Create the wide part of model\n",
    "    wide = DenseFeatures(wide_columns, name='wide_inputs')(inputs)\n",
    "\n",
    "    # Combine deep and wide parts of the model\n",
    "    combined = concatenate(inputs=[deep, wide], name='combined')\n",
    "\n",
    "    # Map the combined outputs into a single prediction value\n",
    "    output = Dense(units=1, activation=None, name='prediction')(combined)\n",
    "    \n",
    "    # Finalize the model\n",
    "    model = Model(inputs=list(inputs.values()), outputs=output)\n",
    "\n",
    "    # Compile the keras model\n",
    "    model.compile(optimizer=\"adam\", loss=\"mse\", metrics=[rmse, \"mse\"])\n",
    "    \n",
    "    return model"
   ]
  },
  {
   "cell_type": "markdown",
   "metadata": {},
   "source": [
    "Next, we can call the `build_model` to create the model. Here we'll have two hidden layers, each with 10 neurons, for the deep part of our model. We can also use `plot_model` to see a diagram of the model we've created."
   ]
  },
  {
   "cell_type": "code",
   "execution_count": 33,
   "metadata": {},
   "outputs": [
    {
     "data": {
      "image/png": "[encoded data removed]",
      "text/plain": [
       "<IPython.core.display.Image object>"
      ]
     },
     "execution_count": 33,
     "metadata": {},
     "output_type": "execute_result"
    }
   ],
   "source": [
    "HIDDEN_UNITS = [10,10]\n",
    "\n",
    "# Calling the build model\n",
    "model = build_model(dnn_hidden_units=HIDDEN_UNITS)\n",
    "\n",
    "# Converts a Keras plot_model to see a diagram of the model that we have created.\n",
    "tf.keras.utils.plot_model(model, show_shapes=False, rankdir='LR')"
   ]
  },
  {
   "cell_type": "markdown",
   "metadata": {},
   "source": [
    "Next, we'll set up our training variables, create our datasets for training and validation, and train our model.\n",
    "\n",
    "(We refer you the the blog post [ML Design Pattern #3: Virtual Epochs](https://medium.com/google-cloud/ml-design-pattern-3-virtual-epochs-f842296de730) for further details on why express the training in terms of `NUM_TRAIN_EXAMPLES` and `NUM_EVALS` and why, in this training code, the number of epochs is really equal to the number of evaluations we perform.)"
   ]
  },
  {
   "cell_type": "code",
   "execution_count": 34,
   "metadata": {},
   "outputs": [],
   "source": [
    "BATCH_SIZE = 1000\n",
    "NUM_TRAIN_EXAMPLES = 10000 * 5  # training dataset will repeat, wrap around\n",
    "NUM_EVALS = 50  # how many times to evaluate\n",
    "NUM_EVAL_EXAMPLES = 10000  # enough to get a reasonable sample\n",
    "\n",
    "trainds = create_dataset(\n",
    "    pattern='../data/taxi-train*',\n",
    "    batch_size=BATCH_SIZE,\n",
    "    mode='train')\n",
    "\n",
    "evalds = create_dataset(\n",
    "    pattern='../data/taxi-valid*',\n",
    "    batch_size=BATCH_SIZE,\n",
    "    mode='eval').take(NUM_EVAL_EXAMPLES//1000)"
   ]
  },
  {
   "cell_type": "code",
   "execution_count": 35,
   "metadata": {},
   "outputs": [
    {
     "name": "stderr",
     "output_type": "stream",
     "text": [
      "2022-02-27 23:47:19.625693: I tensorflow/core/profiler/lib/profiler_session.cc:164] Profiler session started.\n"
     ]
    },
    {
     "name": "stdout",
     "output_type": "stream",
     "text": [
      "Epoch 1/50\n"
     ]
    },
    {
     "name": "stderr",
     "output_type": "stream",
     "text": [
      "2022-02-27 23:47:30.918890: I tensorflow/core/kernels/data/shuffle_dataset_op.cc:172] Filling up shuffle buffer (this may take a while): 600 of 1000\n",
      "2022-02-27 23:47:37.437488: I tensorflow/core/kernels/data/shuffle_dataset_op.cc:221] Shuffle buffer filled.\n"
     ]
    },
    {
     "name": "stdout",
     "output_type": "stream",
     "text": [
      "1/1 [==============================] - 3s 3s/step - loss: 247.6673 - rmse: 15.7374 - mse: 247.6673 - val_loss: 247.0494 - val_rmse: 15.7107 - val_mse: 247.0494\n",
      "Epoch 2/50\n"
     ]
    },
    {
     "name": "stderr",
     "output_type": "stream",
     "text": [
      "2022-02-27 23:47:40.674405: I tensorflow/core/profiler/lib/profiler_session.cc:164] Profiler session started.\n"
     ]
    },
    {
     "name": "stdout",
     "output_type": "stream",
     "text": [
      "1/1 [==============================] - ETA: 0s - loss: 233.2153 - rmse: 15.2714 - mse: 233.2153"
     ]
    },
    {
     "name": "stderr",
     "output_type": "stream",
     "text": [
      "2022-02-27 23:47:41.121947: I tensorflow/core/profiler/rpc/client/save_profile.cc:176] Creating directory: ./taxi_trained/train/plugins/profile/2022_02_27_23_47_41\n",
      "2022-02-27 23:47:41.135235: I tensorflow/core/profiler/rpc/client/save_profile.cc:182] Dumped gzipped tool data for trace.json.gz to ./taxi_trained/train/plugins/profile/2022_02_27_23_47_41/tensorflow-2-6-20220226-215208.trace.json.gz\n",
      "2022-02-27 23:47:41.143828: I tensorflow/core/profiler/rpc/client/save_profile.cc:176] Creating directory: ./taxi_trained/train/plugins/profile/2022_02_27_23_47_41\n",
      "2022-02-27 23:47:41.143944: I tensorflow/core/profiler/rpc/client/save_profile.cc:182] Dumped gzipped tool data for memory_profile.json.gz to ./taxi_trained/train/plugins/profile/2022_02_27_23_47_41/tensorflow-2-6-20220226-215208.memory_profile.json.gz\n",
      "2022-02-27 23:47:41.144365: I tensorflow/python/profiler/internal/profiler_wrapper.cc:111] Creating directory: ./taxi_trained/train/plugins/profile/2022_02_27_23_47_41Dumped tool data for xplane.pb to ./taxi_trained/train/plugins/profile/2022_02_27_23_47_41/tensorflow-2-6-20220226-215208.xplane.pb\n",
      "Dumped tool data for overview_page.pb to ./taxi_trained/train/plugins/profile/2022_02_27_23_47_41/tensorflow-2-6-20220226-215208.overview_page.pb\n",
      "Dumped tool data for input_pipeline.pb to ./taxi_trained/train/plugins/profile/2022_02_27_23_47_41/tensorflow-2-6-20220226-215208.input_pipeline.pb\n",
      "Dumped tool data for tensorflow_stats.pb to ./taxi_trained/train/plugins/profile/2022_02_27_23_47_41/tensorflow-2-6-20220226-215208.tensorflow_stats.pb\n",
      "Dumped tool data for kernel_stats.pb to ./taxi_trained/train/plugins/profile/2022_02_27_23_47_41/tensorflow-2-6-20220226-215208.kernel_stats.pb\n",
      "\n"
     ]
    },
    {
     "name": "stdout",
     "output_type": "stream",
     "text": [
      "1/1 [==============================] - 2s 2s/step - loss: 233.2153 - rmse: 15.2714 - mse: 233.2153 - val_loss: 246.4097 - val_rmse: 15.6840 - val_mse: 246.4097\n",
      "Epoch 3/50\n",
      "1/1 [==============================] - 2s 2s/step - loss: 219.3283 - rmse: 14.8097 - mse: 219.3283 - val_loss: 241.9832 - val_rmse: 15.5471 - val_mse: 241.9832\n",
      "Epoch 4/50\n",
      "1/1 [==============================] - 2s 2s/step - loss: 230.7043 - rmse: 15.1890 - mse: 230.7043 - val_loss: 244.9543 - val_rmse: 15.6376 - val_mse: 244.9543\n",
      "Epoch 5/50\n",
      "1/1 [==============================] - 2s 2s/step - loss: 201.3523 - rmse: 14.1899 - mse: 201.3523 - val_loss: 243.3998 - val_rmse: 15.5836 - val_mse: 243.3998\n",
      "Epoch 6/50\n",
      "1/1 [==============================] - 2s 2s/step - loss: 246.8419 - rmse: 15.7112 - mse: 246.8419 - val_loss: 245.0233 - val_rmse: 15.6400 - val_mse: 245.0233\n",
      "Epoch 7/50\n",
      "1/1 [==============================] - 2s 2s/step - loss: 191.3155 - rmse: 13.8317 - mse: 191.3155 - val_loss: 239.7175 - val_rmse: 15.4676 - val_mse: 239.7175\n",
      "Epoch 8/50\n",
      "1/1 [==============================] - 2s 2s/step - loss: 216.4622 - rmse: 14.7127 - mse: 216.4622 - val_loss: 239.3812 - val_rmse: 15.4601 - val_mse: 239.3812\n",
      "Epoch 9/50\n",
      "1/1 [==============================] - 2s 2s/step - loss: 228.7154 - rmse: 15.1233 - mse: 228.7154 - val_loss: 239.5899 - val_rmse: 15.4673 - val_mse: 239.5899\n",
      "Epoch 10/50\n",
      "1/1 [==============================] - 3s 3s/step - loss: 195.2223 - rmse: 13.9722 - mse: 195.2223 - val_loss: 236.6369 - val_rmse: 15.3733 - val_mse: 236.6369\n",
      "Epoch 11/50\n",
      "1/1 [==============================] - 3s 3s/step - loss: 226.3334 - rmse: 15.0444 - mse: 226.3334 - val_loss: 236.8158 - val_rmse: 15.3846 - val_mse: 236.8158\n",
      "Epoch 12/50\n",
      "1/1 [==============================] - 3s 3s/step - loss: 223.2742 - rmse: 14.9424 - mse: 223.2742 - val_loss: 233.8132 - val_rmse: 15.2847 - val_mse: 233.8132\n",
      "Epoch 13/50\n",
      "1/1 [==============================] - 2s 2s/step - loss: 220.6333 - rmse: 14.8537 - mse: 220.6333 - val_loss: 234.3044 - val_rmse: 15.3031 - val_mse: 234.3044\n",
      "Epoch 14/50\n",
      "1/1 [==============================] - 2s 2s/step - loss: 235.5581 - rmse: 15.3479 - mse: 235.5581 - val_loss: 232.8049 - val_rmse: 15.2452 - val_mse: 232.8049\n",
      "Epoch 15/50\n",
      "1/1 [==============================] - 2s 2s/step - loss: 218.9900 - rmse: 14.7983 - mse: 218.9900 - val_loss: 229.9279 - val_rmse: 15.1563 - val_mse: 229.9279\n",
      "Epoch 16/50\n",
      "1/1 [==============================] - 2s 2s/step - loss: 197.4921 - rmse: 14.0532 - mse: 197.4921 - val_loss: 230.4841 - val_rmse: 15.1763 - val_mse: 230.4841\n",
      "Epoch 17/50\n",
      "1/1 [==============================] - 2s 2s/step - loss: 202.5536 - rmse: 14.2321 - mse: 202.5536 - val_loss: 227.3848 - val_rmse: 15.0732 - val_mse: 227.3848\n",
      "Epoch 18/50\n",
      "1/1 [==============================] - 2s 2s/step - loss: 208.8138 - rmse: 14.4504 - mse: 208.8138 - val_loss: 224.3313 - val_rmse: 14.9673 - val_mse: 224.3313\n",
      "Epoch 19/50\n",
      "1/1 [==============================] - 2s 2s/step - loss: 199.8140 - rmse: 14.1356 - mse: 199.8140 - val_loss: 220.1759 - val_rmse: 14.8299 - val_mse: 220.1759\n",
      "Epoch 20/50\n",
      "1/1 [==============================] - 2s 2s/step - loss: 204.8936 - rmse: 14.3141 - mse: 204.8936 - val_loss: 220.9324 - val_rmse: 14.8510 - val_mse: 220.9324\n",
      "Epoch 21/50\n",
      "1/1 [==============================] - 2s 2s/step - loss: 211.0506 - rmse: 14.5276 - mse: 211.0506 - val_loss: 217.7664 - val_rmse: 14.7482 - val_mse: 217.7664\n",
      "Epoch 22/50\n",
      "1/1 [==============================] - 2s 2s/step - loss: 190.5470 - rmse: 13.8039 - mse: 190.5470 - val_loss: 217.8726 - val_rmse: 14.7503 - val_mse: 217.8726\n",
      "Epoch 23/50\n",
      "1/1 [==============================] - 2s 2s/step - loss: 176.5389 - rmse: 13.2868 - mse: 176.5389 - val_loss: 214.6060 - val_rmse: 14.6461 - val_mse: 214.6060\n",
      "Epoch 24/50\n",
      "1/1 [==============================] - 2s 2s/step - loss: 197.3565 - rmse: 14.0484 - mse: 197.3565 - val_loss: 209.9012 - val_rmse: 14.4760 - val_mse: 209.9012\n",
      "Epoch 25/50\n",
      "1/1 [==============================] - 2s 2s/step - loss: 230.0870 - rmse: 15.1686 - mse: 230.0870 - val_loss: 208.9831 - val_rmse: 14.4389 - val_mse: 208.9831\n",
      "Epoch 26/50\n",
      "1/1 [==============================] - 2s 2s/step - loss: 220.0714 - rmse: 14.8348 - mse: 220.0714 - val_loss: 205.1444 - val_rmse: 14.3073 - val_mse: 205.1444\n",
      "Epoch 27/50\n",
      "1/1 [==============================] - 2s 2s/step - loss: 175.7518 - rmse: 13.2571 - mse: 175.7518 - val_loss: 202.9892 - val_rmse: 14.2397 - val_mse: 202.9892\n",
      "Epoch 28/50\n",
      "1/1 [==============================] - 2s 2s/step - loss: 185.8576 - rmse: 13.6330 - mse: 185.8576 - val_loss: 198.6618 - val_rmse: 14.0818 - val_mse: 198.6618\n",
      "Epoch 29/50\n",
      "1/1 [==============================] - 2s 2s/step - loss: 175.8247 - rmse: 13.2599 - mse: 175.8247 - val_loss: 198.7938 - val_rmse: 14.0893 - val_mse: 198.7938\n",
      "Epoch 30/50\n",
      "1/1 [==============================] - 2s 2s/step - loss: 143.7081 - rmse: 11.9878 - mse: 143.7081 - val_loss: 197.1742 - val_rmse: 14.0355 - val_mse: 197.1742\n",
      "Epoch 31/50\n",
      "1/1 [==============================] - 2s 2s/step - loss: 163.6330 - rmse: 12.7919 - mse: 163.6330 - val_loss: 191.3526 - val_rmse: 13.8219 - val_mse: 191.3526\n",
      "Epoch 32/50\n",
      "1/1 [==============================] - 2s 2s/step - loss: 174.0005 - rmse: 13.1909 - mse: 174.0005 - val_loss: 191.2487 - val_rmse: 13.7978 - val_mse: 191.2487\n",
      "Epoch 33/50\n",
      "1/1 [==============================] - 2s 2s/step - loss: 217.5753 - rmse: 14.7504 - mse: 217.5753 - val_loss: 189.0168 - val_rmse: 13.7384 - val_mse: 189.0168\n",
      "Epoch 34/50\n",
      "1/1 [==============================] - 2s 2s/step - loss: 164.1505 - rmse: 12.8121 - mse: 164.1505 - val_loss: 182.9533 - val_rmse: 13.5009 - val_mse: 182.9533\n",
      "Epoch 35/50\n",
      "1/1 [==============================] - 2s 2s/step - loss: 180.4146 - rmse: 13.4319 - mse: 180.4146 - val_loss: 180.9267 - val_rmse: 13.4375 - val_mse: 180.9267\n",
      "Epoch 36/50\n",
      "1/1 [==============================] - 3s 3s/step - loss: 156.7355 - rmse: 12.5194 - mse: 156.7355 - val_loss: 177.4171 - val_rmse: 13.3152 - val_mse: 177.4171\n",
      "Epoch 37/50\n",
      "1/1 [==============================] - 2s 2s/step - loss: 160.8132 - rmse: 12.6812 - mse: 160.8132 - val_loss: 173.2943 - val_rmse: 13.1608 - val_mse: 173.2943\n",
      "Epoch 38/50\n",
      "1/1 [==============================] - 2s 2s/step - loss: 142.0615 - rmse: 11.9190 - mse: 142.0615 - val_loss: 173.2263 - val_rmse: 13.1496 - val_mse: 173.2263\n",
      "Epoch 39/50\n",
      "1/1 [==============================] - 2s 2s/step - loss: 151.0465 - rmse: 12.2901 - mse: 151.0465 - val_loss: 167.4562 - val_rmse: 12.9293 - val_mse: 167.4562\n",
      "Epoch 40/50\n",
      "1/1 [==============================] - 2s 2s/step - loss: 144.4695 - rmse: 12.0195 - mse: 144.4695 - val_loss: 166.9986 - val_rmse: 12.9030 - val_mse: 166.9986\n",
      "Epoch 41/50\n",
      "1/1 [==============================] - 2s 2s/step - loss: 137.8275 - rmse: 11.7400 - mse: 137.8275 - val_loss: 161.7191 - val_rmse: 12.7153 - val_mse: 161.7191\n",
      "Epoch 42/50\n",
      "1/1 [==============================] - 2s 2s/step - loss: 125.9693 - rmse: 11.2236 - mse: 125.9693 - val_loss: 157.2802 - val_rmse: 12.5123 - val_mse: 157.2802\n",
      "Epoch 43/50\n",
      "1/1 [==============================] - 2s 2s/step - loss: 162.6852 - rmse: 12.7548 - mse: 162.6852 - val_loss: 155.4769 - val_rmse: 12.4457 - val_mse: 155.4769\n",
      "Epoch 44/50\n",
      "1/1 [==============================] - 2s 2s/step - loss: 120.8566 - rmse: 10.9935 - mse: 120.8566 - val_loss: 155.7517 - val_rmse: 12.4573 - val_mse: 155.7517\n",
      "Epoch 45/50\n",
      "1/1 [==============================] - 2s 2s/step - loss: 117.7426 - rmse: 10.8509 - mse: 117.7426 - val_loss: 149.5371 - val_rmse: 12.2147 - val_mse: 149.5371\n",
      "Epoch 46/50\n",
      "1/1 [==============================] - 2s 2s/step - loss: 106.8429 - rmse: 10.3365 - mse: 106.8429 - val_loss: 146.3826 - val_rmse: 12.0560 - val_mse: 146.3826\n",
      "Epoch 47/50\n",
      "1/1 [==============================] - 2s 2s/step - loss: 106.4715 - rmse: 10.3185 - mse: 106.4715 - val_loss: 145.9705 - val_rmse: 12.0722 - val_mse: 145.9705\n",
      "Epoch 48/50\n",
      "1/1 [==============================] - 2s 2s/step - loss: 108.6226 - rmse: 10.4222 - mse: 108.6226 - val_loss: 142.3150 - val_rmse: 11.9118 - val_mse: 142.3150\n",
      "Epoch 49/50\n",
      "1/1 [==============================] - 2s 2s/step - loss: 147.8064 - rmse: 12.1576 - mse: 147.8064 - val_loss: 138.8483 - val_rmse: 11.7633 - val_mse: 138.8483\n",
      "Epoch 50/50\n",
      "1/1 [==============================] - 2s 2s/step - loss: 112.3283 - rmse: 10.5985 - mse: 112.3283 - val_loss: 135.9880 - val_rmse: 11.6503 - val_mse: 135.9880\n",
      "CPU times: user 3min 32s, sys: 4min 17s, total: 7min 49s\n",
      "Wall time: 2min 33s\n"
     ]
    }
   ],
   "source": [
    "%%time\n",
    "# Here, %%time prints the wall time for the entire cell\n",
    "steps_per_epoch = NUM_TRAIN_EXAMPLES // (BATCH_SIZE * NUM_EVALS)\n",
    "\n",
    "OUTDIR = \"./taxi_trained\"\n",
    "shutil.rmtree(path=OUTDIR, ignore_errors=True) # start fresh each time\n",
    "\n",
    "history = model.fit(x=trainds,\n",
    "                    steps_per_epoch=steps_per_epoch,\n",
    "                    epochs=NUM_EVALS,\n",
    "                    validation_data=evalds,\n",
    "                    callbacks=[TensorBoard(OUTDIR)])"
   ]
  },
  {
   "cell_type": "markdown",
   "metadata": {},
   "source": [
    "Just as before, we can examine the history to see how the RMSE changes through training on the train set and validation set. "
   ]
  },
  {
   "cell_type": "code",
   "execution_count": 36,
   "metadata": {},
   "outputs": [
    {
     "data": {
      "text/plain": [
       "<AxesSubplot:>"
      ]
     },
     "execution_count": 36,
     "metadata": {},
     "output_type": "execute_result"
    },
    {
     "data": {
      "image/png": "[encoded data removed]",
      "text/plain": [
       "<Figure size 432x288 with 1 Axes>"
      ]
     },
     "metadata": {
      "needs_background": "light"
     },
     "output_type": "display_data"
    }
   ],
   "source": [
    "RMSE_COLS = ['rmse', 'val_rmse']\n",
    "\n",
    "# Pandas DataFrame is two-dimensional size-mutable, potentially heterogeneous tabular data structure with labeled axes (rows and columns).\n",
    "pd.DataFrame(history.history)[RMSE_COLS].plot()"
   ]
  },
  {
   "cell_type": "code",
   "execution_count": null,
   "metadata": {},
   "outputs": [],
   "source": []
  },
  {
   "cell_type": "code",
   "execution_count": 37,
   "metadata": {},
   "outputs": [
    {
     "data": {
      "text/plain": [
       "array([[6.609981]], dtype=float32)"
      ]
     },
     "execution_count": 37,
     "metadata": {},
     "output_type": "execute_result"
    }
   ],
   "source": [
    "model.predict(\n",
    "    x={\n",
    "        \"pickup_longitude\": tf.convert_to_tensor([-73.982683]),\n",
    "        \"pickup_latitude\": tf.convert_to_tensor([40.742104]),\n",
    "        \"dropoff_longitude\": tf.convert_to_tensor([-73.983766]),\n",
    "        \"dropoff_latitude\": tf.convert_to_tensor([40.755174]),\n",
    "        \"passenger_count\": tf.convert_to_tensor([3.0]),\n",
    "    },\n",
    "    steps=1,\n",
    ")"
   ]
  },
  {
   "cell_type": "code",
   "execution_count": 38,
   "metadata": {},
   "outputs": [],
   "source": [
    "#Export and Deploy YOur Model"
   ]
  },
  {
   "cell_type": "code",
   "execution_count": 39,
   "metadata": {},
   "outputs": [
    {
     "name": "stdout",
     "output_type": "stream",
     "text": [
      "INFO:tensorflow:Assets written to: ./export/savedmodel/20220227234953/assets\n",
      "INFO:tensorflow:Assets written to: ./export/savedmodel/20220227234953/assets\n"
     ]
    }
   ],
   "source": [
    "OUTPUT_DIR = \"./export/savedmodel\"\n",
    "shutil.rmtree(OUTPUT_DIR, ignore_errors=True)\n",
    "TIMESTAMP = datetime.datetime.now().strftime(\"%Y%m%d%H%M%S\")\n",
    "\n",
    "EXPORT_PATH = os.path.join(OUTPUT_DIR, TIMESTAMP)\n",
    "\n",
    "tf.saved_model.save(model, EXPORT_PATH)  # with default serving function"
   ]
  },
  {
   "cell_type": "code",
   "execution_count": 40,
   "metadata": {},
   "outputs": [],
   "source": [
    "#Deploy Model to Vertex AI"
   ]
  },
  {
   "cell_type": "code",
   "execution_count": 41,
   "metadata": {},
   "outputs": [
    {
     "name": "stdout",
     "output_type": "stream",
     "text": [
      "MODEL_DISPLAYNAME: taxifare_keras_functional-20220227234953\n"
     ]
    }
   ],
   "source": [
    "PROJECT = !gcloud config list --format 'value(core.project)' 2>/dev/null\n",
    "PROJECT = PROJECT[0]\n",
    "BUCKET = PROJECT\n",
    "REGION = \"us-central1\"\n",
    "MODEL_DISPLAYNAME = f\"taxifare_keras_functional-{TIMESTAMP}\"\n",
    "\n",
    "print(f\"MODEL_DISPLAYNAME: {MODEL_DISPLAYNAME}\")\n",
    "\n",
    "# from https://cloud.google.com/vertex-ai/docs/predictions/pre-built-containers\n",
    "SERVING_CONTAINER_IMAGE_URI = (\n",
    "    \"us-docker.pkg.dev/vertex-ai/prediction/tf2-cpu.2-3:latest\"\n",
    ")\n",
    "\n",
    "os.environ[\"BUCKET\"] = BUCKET\n",
    "os.environ[\"REGION\"] = REGION"
   ]
  },
  {
   "cell_type": "code",
   "execution_count": 42,
   "metadata": {},
   "outputs": [
    {
     "name": "stdout",
     "output_type": "stream",
     "text": [
      "Bucket exists, let's not recreate it.\n"
     ]
    }
   ],
   "source": [
    "%%bash\n",
    "# Create GCS bucket if it doesn't exist already...\n",
    "exists=$(gsutil ls -d | grep -w gs://${BUCKET}/)\n",
    "\n",
    "if [ -n \"$exists\" ]; then\n",
    "    echo -e \"Bucket exists, let's not recreate it.\"\n",
    "else\n",
    "    echo \"Creating a new GCS bucket.\"\n",
    "    gsutil mb -l ${REGION} gs://${BUCKET}\n",
    "    echo \"\\nHere are your current buckets:\"\n",
    "    gsutil ls\n",
    "fi"
   ]
  },
  {
   "cell_type": "code",
   "execution_count": 43,
   "metadata": {},
   "outputs": [
    {
     "name": "stdout",
     "output_type": "stream",
     "text": [
      "Copying file://./export/savedmodel/20220227234953/saved_model.pb [Content-Type=application/octet-stream]...\n",
      "Copying file://./export/savedmodel/20220227234953/variables/variables.data-00000-of-00001 [Content-Type=application/octet-stream]...\n",
      "Copying file://./export/savedmodel/20220227234953/variables/variables.index [Content-Type=application/octet-stream]...\n",
      "/ [3 files][ 10.4 MiB/ 10.4 MiB]                                                \n",
      "Operation completed over 3 objects/10.4 MiB.                                     \n"
     ]
    }
   ],
   "source": [
    "!gsutil cp -R $EXPORT_PATH gs://$BUCKET/$MODEL_DISPLAYNAME"
   ]
  },
  {
   "cell_type": "code",
   "execution_count": 44,
   "metadata": {},
   "outputs": [
    {
     "name": "stdout",
     "output_type": "stream",
     "text": [
      "INFO:google.cloud.aiplatform.models:Creating Model\n",
      "INFO:google.cloud.aiplatform.models:Create Model backing LRO: projects/333736501253/locations/us-central1/models/5715881565737713664/operations/4273393297315069952\n",
      "INFO:google.cloud.aiplatform.models:Model created. Resource name: projects/333736501253/locations/us-central1/models/5715881565737713664\n",
      "INFO:google.cloud.aiplatform.models:To use this Model in another session:\n",
      "INFO:google.cloud.aiplatform.models:model = aiplatform.Model('projects/333736501253/locations/us-central1/models/5715881565737713664')\n"
     ]
    }
   ],
   "source": [
    "uploaded_model = aiplatform.Model.upload(\n",
    "    display_name=MODEL_DISPLAYNAME,\n",
    "    artifact_uri=f\"gs://{BUCKET}/{MODEL_DISPLAYNAME}\",\n",
    "    serving_container_image_uri=SERVING_CONTAINER_IMAGE_URI,\n",
    ")"
   ]
  },
  {
   "cell_type": "code",
   "execution_count": 45,
   "metadata": {},
   "outputs": [
    {
     "name": "stdout",
     "output_type": "stream",
     "text": [
      "INFO:google.cloud.aiplatform.models:Creating Endpoint\n",
      "INFO:google.cloud.aiplatform.models:Create Endpoint backing LRO: projects/333736501253/locations/us-central1/endpoints/2019063988410646528/operations/999276368216719360\n",
      "INFO:google.cloud.aiplatform.models:Endpoint created. Resource name: projects/333736501253/locations/us-central1/endpoints/2019063988410646528\n",
      "INFO:google.cloud.aiplatform.models:To use this Endpoint in another session:\n",
      "INFO:google.cloud.aiplatform.models:endpoint = aiplatform.Endpoint('projects/333736501253/locations/us-central1/endpoints/2019063988410646528')\n",
      "INFO:google.cloud.aiplatform.models:Deploying model to Endpoint : projects/333736501253/locations/us-central1/endpoints/2019063988410646528\n",
      "INFO:google.cloud.aiplatform.models:Deploy Endpoint model backing LRO: projects/333736501253/locations/us-central1/endpoints/2019063988410646528/operations/7202984854919577600\n",
      "INFO:google.cloud.aiplatform.models:Endpoint model deployed. Resource name: projects/333736501253/locations/us-central1/endpoints/2019063988410646528\n"
     ]
    }
   ],
   "source": [
    "MACHINE_TYPE = \"n1-standard-2\"\n",
    "\n",
    "endpoint = uploaded_model.deploy(\n",
    "    machine_type=MACHINE_TYPE,\n",
    "    accelerator_type=None,\n",
    "    accelerator_count=None,\n",
    ")"
   ]
  },
  {
   "cell_type": "markdown",
   "metadata": {},
   "source": [
    "<img src='assets/taxi_fare_keras_func_model.png' width='80%'>\n",
    "<sup>(image:Your model in Vertex AI)</sup>"
   ]
  },
  {
   "cell_type": "code",
   "execution_count": null,
   "metadata": {},
   "outputs": [],
   "source": []
  },
  {
   "cell_type": "code",
   "execution_count": 46,
   "metadata": {},
   "outputs": [],
   "source": [
    "instance = {\n",
    "    \"pickup_longitude\": -73.982683,\n",
    "    \"pickup_latitude\": 40.742104,\n",
    "    \"dropoff_longitude\": -73.983766,\n",
    "    \"dropoff_latitude\": 40.755174,\n",
    "    \"passenger_count\": 3.0,\n",
    "}"
   ]
  },
  {
   "cell_type": "code",
   "execution_count": 47,
   "metadata": {},
   "outputs": [
    {
     "data": {
      "text/plain": [
       "Prediction(predictions=[[6.60998106]], deployed_model_id='2284336561774395392', explanations=None)"
      ]
     },
     "execution_count": 47,
     "metadata": {},
     "output_type": "execute_result"
    }
   ],
   "source": [
    "endpoint.predict([instance])"
   ]
  },
  {
   "cell_type": "code",
   "execution_count": null,
   "metadata": {},
   "outputs": [],
   "source": []
  },
  {
   "cell_type": "code",
   "execution_count": null,
   "metadata": {},
   "outputs": [],
   "source": []
  },
  {
   "cell_type": "code",
   "execution_count": null,
   "metadata": {},
   "outputs": [],
   "source": []
  },
  {
   "cell_type": "markdown",
   "metadata": {},
   "source": [
    "Copyright 2021 Google Inc. Licensed under the Apache License, Version 2.0 (the \"License\"); you may not use this file except in compliance with the License. You may obtain a copy of the License at http://www.apache.org/licenses/LICENSE-2.0 Unless required by applicable law or agreed to in writing, software distributed under the License is distributed on an \"AS IS\" BASIS, WITHOUT WARRANTIES OR CONDITIONS OF ANY KIND, either express or implied. See the License for the specific language governing permissions and limitations under the License"
   ]
  }
 ],
 "metadata": {
  "environment": {
   "kernel": "python3",
   "name": "tf2-gpu.2-6.m89",
   "type": "gcloud",
   "uri": "gcr.io/deeplearning-platform-release/tf2-gpu.2-6:m89"
  },
  "kernelspec": {
   "display_name": "Python 3",
   "language": "python",
   "name": "python3"
  },
  "language_info": {
   "codemirror_mode": {
    "name": "ipython",
    "version": 3
   },
   "file_extension": ".py",
   "mimetype": "text/x-python",
   "name": "python",
   "nbconvert_exporter": "python",
   "pygments_lexer": "ipython3",
   "version": "3.7.12"
  }
 },
 "nbformat": 4,
 "nbformat_minor": 4
}
