{
 "cells": [
  {
   "cell_type": "markdown",
   "metadata": {},
   "source": [
    "# Teradata to BigQuery SQL Translation"
   ]
  },
  {
   "cell_type": "markdown",
   "metadata": {},
   "source": [
    "## Introduction"
   ]
  },
  {
   "cell_type": "markdown",
   "metadata": {},
   "source": [
    "Both BigQuery and Teradata Database conform to the [ANSI/ISO SQL:2011](https://wikipedia.org/wiki/SQL:2011) standard. In addition, Teradata has created some extensions to the SQL standard to enable Teradata-specific functionalities.\n",
    "\n",
    "In contrast, BigQuery does not support these proprietary extensions. Therefore, some of your queries might need to be refactored during migration from Teradata to BigQuery. Having queries that only use the ANSI/ISO SQL standard that's supported by BigQuery has the added benefit that it helps ensure portability and helps your queries be agnostic to the underlying data warehouse.\n",
    "\n",
    "This notebook addresses some of the challenges you might encounter while migrating SQL queries from Teradata to BigQuery. It explains when these translations should be applied in the context of an end-to-end staged migration."
   ]
  },
  {
   "cell_type": "markdown",
   "metadata": {},
   "source": [
    "* basic replace stuff?\n",
    "* qualify\n",
    "* sub selects?\n",
    "* Multiset?"
   ]
  },
  {
   "cell_type": "markdown",
   "metadata": {},
   "source": [
    "## Teradata SQL differences"
   ]
  },
  {
   "cell_type": "markdown",
   "metadata": {},
   "source": [
    "This notebook discusses notable differences between Teradata SQL and the BigQuery standard SQL, and some strategies for translating between the two dialects. The list of differences presented in this notebook is not exhaustive. For additional information, see the [Teradata-to-BigQuery SQL translation reference](https://cloud.google.com/solutions/migration/dw2bq/td2bq/td-bq-sql-translation-reference-tables)."
   ]
  },
  {
   "cell_type": "markdown",
   "metadata": {},
   "source": [
    "## Data Types"
   ]
  },
  {
   "cell_type": "markdown",
   "metadata": {},
   "source": [
    "BigQuery supports a more concise set of data types than\n",
    "Teradata, with groups of Teradata types mapping into a single standard SQL data\n",
    "type. For instance:\n",
    "\n",
    "-   `INTEGER`, `SMALLINT`, `BYTEINT`, and `BIGINT` all map to `INT64`.\n",
    "-   `CLOB`, `JSON`, `XML`, `UDT` and other types that contain large\n",
    "    character fields map to `STRING`.\n",
    "-   `BLOB`, `BYTE`, and `VARBYTE` types that contain binary information map\n",
    "    to `BYTES`.\n",
    "\n",
    "For dates, the main types (`DATE`, `TIME`, and `TIMESTAMP`) are equivalent in\n",
    "Teradata and BigQuery. However, other specialized date types from\n",
    "Teradata need to be mapped, such as the following:\n",
    "\n",
    "-   `TIME_WITH_TIME_ZONE` to `TIME`.\n",
    "-   `TIMESTAMP_WITH_TIME_ZONE` to `TIMESTAMP`.\n",
    "-   `INTERVAL_HOUR`, `INTERVAL_MINUTE`, and other `INTERVAL_*` types map to\n",
    "    `INT64` in BigQuery.\n",
    "-   `PERIOD(DATE)`,` PERIOD(TIME)`, and other` PERIOD(*)` types map to `STRING`.\n",
    "\n",
    "[Multi-dimensional arrays](https://docs.teradata.com/reader/S0Fw2AVH8ff3MDA0wDOHlQ/D3QuBsLccP9JObIH8f4yJA)\n",
    "are not directly supported in BigQuery. Instead, you create an\n",
    "[array of structs](/bigquery/docs/reference/standard-sql/arrays#building_arrays_of_arrays),\n",
    "with each struct containing a field of type `ARRAY`."
   ]
  },
  {
   "cell_type": "markdown",
   "metadata": {},
   "source": [
    "## Data Types - Exercise"
   ]
  },
  {
   "cell_type": "markdown",
   "metadata": {},
   "source": [
    "In this exercise, you will examine several of the TIMESTAMP and TIME functions and data types available to you. You will be using a public BigQuery dataset that contains rental records from the London bike share program"
   ]
  },
  {
   "cell_type": "markdown",
   "metadata": {},
   "source": [
    "Use the `bq` command line tool to examine the schema of the table.\n",
    "\n",
    "`bq head` or using the `Preview` tab in the BigQuery UI are much more efficient than a `SELECT * LIMIT 1` as this triggers a whole table scan."
   ]
  },
  {
   "cell_type": "code",
   "execution_count": 45,
   "metadata": {},
   "outputs": [
    {
     "name": "stdout",
     "output_type": "stream",
     "text": [
      "+-----------+----------+---------+---------------------+----------------+---------------------+------------------+\n",
      "| rental_id | duration | bike_id |      end_date       | end_station_id |     start_date      | start_station_id |\n",
      "+-----------+----------+---------+---------------------+----------------+---------------------+------------------+\n",
      "|  47469109 |     3180 |    7054 | 2015-09-03 12:45:00 |            111 | 2015-09-03 11:52:00 |              300 |\n",
      "|  46915469 |     7380 |    3792 | 2015-08-16 11:59:00 |            407 | 2015-08-16 09:56:00 |              407 |\n",
      "|  65899423 |     2040 |    3038 | 2017-06-09 18:30:00 |            165 | 2017-06-09 17:56:00 |              579 |\n",
      "|  64280726 |     2280 |   10868 | 2017-04-22 10:14:00 |            553 | 2017-04-22 09:36:00 |              519 |\n",
      "|  59235489 |     2340 |    7183 | 2016-10-09 04:31:00 |            100 | 2016-10-09 03:52:00 |              612 |\n",
      "+-----------+----------+---------+---------------------+----------------+---------------------+------------------+\n"
     ]
    }
   ],
   "source": [
    "!bq head -n 5  --selected_fields rental_id,duration,bike_id,end_date,end_station_id,start_date,start_station_id bigquery-public-data:london_bicycles.cycle_hire"
   ]
  },
  {
   "cell_type": "markdown",
   "metadata": {},
   "source": [
    "We can similarily see table level data, such as number of rows and the schema of the table. Notice the `TIMESTAMP` fields."
   ]
  },
  {
   "cell_type": "code",
   "execution_count": 62,
   "metadata": {},
   "outputs": [
    {
     "name": "stdout",
     "output_type": "stream",
     "text": [
      "Table bigquery-public-data:london_bicycles.cycle_hire\n",
      "\n",
      "   Last modified                      Schema                     Total Rows   Total Bytes   Expiration   Time Partitioning   Clustered Fields   Labels  \n",
      " ----------------- -------------------------------------------- ------------ ------------- ------------ ------------------- ------------------ -------- \n",
      "  08 May 11:21:52   |- rental_id: integer (required)             24369201     2784394803                                                                \n",
      "                    |- duration: integer                                                                                                                \n",
      "                    |- bike_id: integer                                                                                                                 \n",
      "                    |- end_date: timestamp                                                                                                              \n",
      "                    |- end_station_id: integer                                                                                                          \n",
      "                    |- end_station_name: string                                                                                                         \n",
      "                    |- start_date: timestamp                                                                                                            \n",
      "                    |- start_station_id: integer                                                                                                        \n",
      "                    |- start_station_name: string                                                                                                       \n",
      "                    |- end_station_logical_terminal: integer                                                                                            \n",
      "                    |- start_station_logical_terminal: integer                                                                                          \n",
      "                    |- end_station_priority_id: integer                                                                                                 \n",
      "\n"
     ]
    }
   ],
   "source": [
    "!bq show bigquery-public-data:london_bicycles.cycle_hire"
   ]
  },
  {
   "cell_type": "markdown",
   "metadata": {},
   "source": [
    "Run a query to return the most recent 5 rentals by end_date:"
   ]
  },
  {
   "cell_type": "code",
   "execution_count": 63,
   "metadata": {},
   "outputs": [
    {
     "data": {
      "text/html": [
       "<div>\n",
       "<style scoped>\n",
       "    .dataframe tbody tr th:only-of-type {\n",
       "        vertical-align: middle;\n",
       "    }\n",
       "\n",
       "    .dataframe tbody tr th {\n",
       "        vertical-align: top;\n",
       "    }\n",
       "\n",
       "    .dataframe thead th {\n",
       "        text-align: right;\n",
       "    }\n",
       "</style>\n",
       "<table border=\"1\" class=\"dataframe\">\n",
       "  <thead>\n",
       "    <tr style=\"text-align: right;\">\n",
       "      <th></th>\n",
       "      <th>rental_id</th>\n",
       "      <th>duration</th>\n",
       "      <th>bike_id</th>\n",
       "      <th>end_date</th>\n",
       "      <th>end_station_id</th>\n",
       "      <th>end_station_name</th>\n",
       "      <th>start_date</th>\n",
       "      <th>start_station_id</th>\n",
       "      <th>start_station_name</th>\n",
       "    </tr>\n",
       "  </thead>\n",
       "  <tbody>\n",
       "    <tr>\n",
       "      <th>0</th>\n",
       "      <td>66036945</td>\n",
       "      <td>56220</td>\n",
       "      <td>13042</td>\n",
       "      <td>2017-06-14 03:25:00+00:00</td>\n",
       "      <td>501</td>\n",
       "      <td>Cephas Street, Bethnal Green</td>\n",
       "      <td>2017-06-13 11:48:00+00:00</td>\n",
       "      <td>501</td>\n",
       "      <td>Cephas Street, Bethnal Green</td>\n",
       "    </tr>\n",
       "    <tr>\n",
       "      <th>1</th>\n",
       "      <td>66036927</td>\n",
       "      <td>56280</td>\n",
       "      <td>6631</td>\n",
       "      <td>2017-06-14 03:25:00+00:00</td>\n",
       "      <td>501</td>\n",
       "      <td>Cephas Street, Bethnal Green</td>\n",
       "      <td>2017-06-13 11:47:00+00:00</td>\n",
       "      <td>501</td>\n",
       "      <td>Cephas Street, Bethnal Green</td>\n",
       "    </tr>\n",
       "    <tr>\n",
       "      <th>2</th>\n",
       "      <td>66063574</td>\n",
       "      <td>15720</td>\n",
       "      <td>6088</td>\n",
       "      <td>2017-06-14 02:34:00+00:00</td>\n",
       "      <td>556</td>\n",
       "      <td>Heron Quays DLR, Canary Wharf</td>\n",
       "      <td>2017-06-13 22:12:00+00:00</td>\n",
       "      <td>477</td>\n",
       "      <td>Spindrift Avenue, Millwall</td>\n",
       "    </tr>\n",
       "    <tr>\n",
       "      <th>3</th>\n",
       "      <td>66063566</td>\n",
       "      <td>15780</td>\n",
       "      <td>4726</td>\n",
       "      <td>2017-06-14 02:34:00+00:00</td>\n",
       "      <td>556</td>\n",
       "      <td>Heron Quays DLR, Canary Wharf</td>\n",
       "      <td>2017-06-13 22:11:00+00:00</td>\n",
       "      <td>477</td>\n",
       "      <td>Spindrift Avenue, Millwall</td>\n",
       "    </tr>\n",
       "    <tr>\n",
       "      <th>4</th>\n",
       "      <td>66037030</td>\n",
       "      <td>52440</td>\n",
       "      <td>3686</td>\n",
       "      <td>2017-06-14 02:26:00+00:00</td>\n",
       "      <td>523</td>\n",
       "      <td>Langdon Park, Poplar</td>\n",
       "      <td>2017-06-13 11:52:00+00:00</td>\n",
       "      <td>501</td>\n",
       "      <td>Cephas Street, Bethnal Green</td>\n",
       "    </tr>\n",
       "  </tbody>\n",
       "</table>\n",
       "</div>"
      ],
      "text/plain": [
       "   rental_id  duration  bike_id                  end_date  end_station_id  \\\n",
       "0   66036945     56220    13042 2017-06-14 03:25:00+00:00             501   \n",
       "1   66036927     56280     6631 2017-06-14 03:25:00+00:00             501   \n",
       "2   66063574     15720     6088 2017-06-14 02:34:00+00:00             556   \n",
       "3   66063566     15780     4726 2017-06-14 02:34:00+00:00             556   \n",
       "4   66037030     52440     3686 2017-06-14 02:26:00+00:00             523   \n",
       "\n",
       "                end_station_name                start_date  start_station_id  \\\n",
       "0   Cephas Street, Bethnal Green 2017-06-13 11:48:00+00:00               501   \n",
       "1   Cephas Street, Bethnal Green 2017-06-13 11:47:00+00:00               501   \n",
       "2  Heron Quays DLR, Canary Wharf 2017-06-13 22:12:00+00:00               477   \n",
       "3  Heron Quays DLR, Canary Wharf 2017-06-13 22:11:00+00:00               477   \n",
       "4           Langdon Park, Poplar 2017-06-13 11:52:00+00:00               501   \n",
       "\n",
       "             start_station_name  \n",
       "0  Cephas Street, Bethnal Green  \n",
       "1  Cephas Street, Bethnal Green  \n",
       "2    Spindrift Avenue, Millwall  \n",
       "3    Spindrift Avenue, Millwall  \n",
       "4  Cephas Street, Bethnal Green  "
      ]
     },
     "execution_count": 63,
     "metadata": {},
     "output_type": "execute_result"
    }
   ],
   "source": [
    "%%bigquery\n",
    "\n",
    "SELECT\n",
    "  rental_id,\n",
    "  duration,\n",
    "  bike_id,\n",
    "  end_date,\n",
    "  end_station_id,\n",
    "  end_station_name,\n",
    "  start_date,\n",
    "  start_station_id,\n",
    "  start_station_name\n",
    "FROM\n",
    "  `bigquery-public-data`.london_bicycles.cycle_hire\n",
    "ORDER BY\n",
    "  end_date DESC\n",
    "LIMIT\n",
    "  5"
   ]
  },
  {
   "cell_type": "markdown",
   "metadata": {},
   "source": [
    "__#TODO(you):__ Modify this query to print the `end_date` and `start_date` fields in UNIX seconds as well.\n",
    "\n",
    "[Hint: Use UNIX_SECONDS().](https://cloud.google.com/bigquery/docs/reference/standard-sql/timestamp_functions#unix_seconds)"
   ]
  },
  {
   "cell_type": "code",
   "execution_count": 64,
   "metadata": {},
   "outputs": [
    {
     "data": {
      "text/html": [
       "<div>\n",
       "<style scoped>\n",
       "    .dataframe tbody tr th:only-of-type {\n",
       "        vertical-align: middle;\n",
       "    }\n",
       "\n",
       "    .dataframe tbody tr th {\n",
       "        vertical-align: top;\n",
       "    }\n",
       "\n",
       "    .dataframe thead th {\n",
       "        text-align: right;\n",
       "    }\n",
       "</style>\n",
       "<table border=\"1\" class=\"dataframe\">\n",
       "  <thead>\n",
       "    <tr style=\"text-align: right;\">\n",
       "      <th></th>\n",
       "      <th>rental_id</th>\n",
       "      <th>duration</th>\n",
       "      <th>bike_id</th>\n",
       "      <th>end_date</th>\n",
       "      <th>end_date_unix</th>\n",
       "      <th>end_station_id</th>\n",
       "      <th>end_station_name</th>\n",
       "      <th>start_date</th>\n",
       "      <th>start_date_unix</th>\n",
       "      <th>start_station_id</th>\n",
       "      <th>start_station_name</th>\n",
       "    </tr>\n",
       "  </thead>\n",
       "  <tbody>\n",
       "    <tr>\n",
       "      <th>0</th>\n",
       "      <td>66036927</td>\n",
       "      <td>56280</td>\n",
       "      <td>6631</td>\n",
       "      <td>2017-06-14 03:25:00+00:00</td>\n",
       "      <td>1497410700</td>\n",
       "      <td>501</td>\n",
       "      <td>Cephas Street, Bethnal Green</td>\n",
       "      <td>2017-06-13 11:47:00+00:00</td>\n",
       "      <td>1497354420</td>\n",
       "      <td>501</td>\n",
       "      <td>Cephas Street, Bethnal Green</td>\n",
       "    </tr>\n",
       "    <tr>\n",
       "      <th>1</th>\n",
       "      <td>66036945</td>\n",
       "      <td>56220</td>\n",
       "      <td>13042</td>\n",
       "      <td>2017-06-14 03:25:00+00:00</td>\n",
       "      <td>1497410700</td>\n",
       "      <td>501</td>\n",
       "      <td>Cephas Street, Bethnal Green</td>\n",
       "      <td>2017-06-13 11:48:00+00:00</td>\n",
       "      <td>1497354480</td>\n",
       "      <td>501</td>\n",
       "      <td>Cephas Street, Bethnal Green</td>\n",
       "    </tr>\n",
       "    <tr>\n",
       "      <th>2</th>\n",
       "      <td>66063574</td>\n",
       "      <td>15720</td>\n",
       "      <td>6088</td>\n",
       "      <td>2017-06-14 02:34:00+00:00</td>\n",
       "      <td>1497407640</td>\n",
       "      <td>556</td>\n",
       "      <td>Heron Quays DLR, Canary Wharf</td>\n",
       "      <td>2017-06-13 22:12:00+00:00</td>\n",
       "      <td>1497391920</td>\n",
       "      <td>477</td>\n",
       "      <td>Spindrift Avenue, Millwall</td>\n",
       "    </tr>\n",
       "    <tr>\n",
       "      <th>3</th>\n",
       "      <td>66063566</td>\n",
       "      <td>15780</td>\n",
       "      <td>4726</td>\n",
       "      <td>2017-06-14 02:34:00+00:00</td>\n",
       "      <td>1497407640</td>\n",
       "      <td>556</td>\n",
       "      <td>Heron Quays DLR, Canary Wharf</td>\n",
       "      <td>2017-06-13 22:11:00+00:00</td>\n",
       "      <td>1497391860</td>\n",
       "      <td>477</td>\n",
       "      <td>Spindrift Avenue, Millwall</td>\n",
       "    </tr>\n",
       "    <tr>\n",
       "      <th>4</th>\n",
       "      <td>66037030</td>\n",
       "      <td>52440</td>\n",
       "      <td>3686</td>\n",
       "      <td>2017-06-14 02:26:00+00:00</td>\n",
       "      <td>1497407160</td>\n",
       "      <td>523</td>\n",
       "      <td>Langdon Park, Poplar</td>\n",
       "      <td>2017-06-13 11:52:00+00:00</td>\n",
       "      <td>1497354720</td>\n",
       "      <td>501</td>\n",
       "      <td>Cephas Street, Bethnal Green</td>\n",
       "    </tr>\n",
       "  </tbody>\n",
       "</table>\n",
       "</div>"
      ],
      "text/plain": [
       "   rental_id  duration  bike_id                  end_date  end_date_unix  \\\n",
       "0   66036927     56280     6631 2017-06-14 03:25:00+00:00     1497410700   \n",
       "1   66036945     56220    13042 2017-06-14 03:25:00+00:00     1497410700   \n",
       "2   66063574     15720     6088 2017-06-14 02:34:00+00:00     1497407640   \n",
       "3   66063566     15780     4726 2017-06-14 02:34:00+00:00     1497407640   \n",
       "4   66037030     52440     3686 2017-06-14 02:26:00+00:00     1497407160   \n",
       "\n",
       "   end_station_id               end_station_name                start_date  \\\n",
       "0             501   Cephas Street, Bethnal Green 2017-06-13 11:47:00+00:00   \n",
       "1             501   Cephas Street, Bethnal Green 2017-06-13 11:48:00+00:00   \n",
       "2             556  Heron Quays DLR, Canary Wharf 2017-06-13 22:12:00+00:00   \n",
       "3             556  Heron Quays DLR, Canary Wharf 2017-06-13 22:11:00+00:00   \n",
       "4             523           Langdon Park, Poplar 2017-06-13 11:52:00+00:00   \n",
       "\n",
       "   start_date_unix  start_station_id            start_station_name  \n",
       "0       1497354420               501  Cephas Street, Bethnal Green  \n",
       "1       1497354480               501  Cephas Street, Bethnal Green  \n",
       "2       1497391920               477    Spindrift Avenue, Millwall  \n",
       "3       1497391860               477    Spindrift Avenue, Millwall  \n",
       "4       1497354720               501  Cephas Street, Bethnal Green  "
      ]
     },
     "execution_count": 64,
     "metadata": {},
     "output_type": "execute_result"
    }
   ],
   "source": [
    "%%bigquery\n",
    "\n",
    "SELECT\n",
    "  rental_id,\n",
    "  duration,\n",
    "  bike_id,\n",
    "  end_date,\n",
    "  UNIX_SECONDS(end_date) AS end_date_unix,\n",
    "  end_station_id,\n",
    "  end_station_name,\n",
    "  start_date,\n",
    "  UNIX_SECONDS(start_date) AS start_date_unix,\n",
    "  start_station_id,\n",
    "  start_station_name\n",
    "FROM\n",
    "  `bigquery-public-data`.london_bicycles.cycle_hire\n",
    "ORDER BY\n",
    "  end_date DESC\n",
    "LIMIT\n",
    "  5"
   ]
  },
  {
   "cell_type": "markdown",
   "metadata": {},
   "source": [
    "__#TODO(you):__ Modify this query to print the time from the `end_date` and `start_date` fields in formatted PST timezone.\n",
    "\n",
    "[Hint: Use EXTRACT( ... AT TIME ZONE ... ).](https://cloud.google.com/bigquery/docs/reference/standard-sql/timestamp_functions#extract)"
   ]
  },
  {
   "cell_type": "code",
   "execution_count": 65,
   "metadata": {},
   "outputs": [
    {
     "data": {
      "text/html": [
       "<div>\n",
       "<style scoped>\n",
       "    .dataframe tbody tr th:only-of-type {\n",
       "        vertical-align: middle;\n",
       "    }\n",
       "\n",
       "    .dataframe tbody tr th {\n",
       "        vertical-align: top;\n",
       "    }\n",
       "\n",
       "    .dataframe thead th {\n",
       "        text-align: right;\n",
       "    }\n",
       "</style>\n",
       "<table border=\"1\" class=\"dataframe\">\n",
       "  <thead>\n",
       "    <tr style=\"text-align: right;\">\n",
       "      <th></th>\n",
       "      <th>rental_id</th>\n",
       "      <th>duration</th>\n",
       "      <th>bike_id</th>\n",
       "      <th>end_date</th>\n",
       "      <th>end_time_california</th>\n",
       "      <th>end_station_id</th>\n",
       "      <th>end_station_name</th>\n",
       "      <th>start_date</th>\n",
       "      <th>start_time_california</th>\n",
       "      <th>start_station_id</th>\n",
       "      <th>start_station_name</th>\n",
       "    </tr>\n",
       "  </thead>\n",
       "  <tbody>\n",
       "    <tr>\n",
       "      <th>0</th>\n",
       "      <td>66036927</td>\n",
       "      <td>56280</td>\n",
       "      <td>6631</td>\n",
       "      <td>2017-06-14 03:25:00+00:00</td>\n",
       "      <td>20:25:00</td>\n",
       "      <td>501</td>\n",
       "      <td>Cephas Street, Bethnal Green</td>\n",
       "      <td>2017-06-13 11:47:00+00:00</td>\n",
       "      <td>04:47:00</td>\n",
       "      <td>501</td>\n",
       "      <td>Cephas Street, Bethnal Green</td>\n",
       "    </tr>\n",
       "    <tr>\n",
       "      <th>1</th>\n",
       "      <td>66036945</td>\n",
       "      <td>56220</td>\n",
       "      <td>13042</td>\n",
       "      <td>2017-06-14 03:25:00+00:00</td>\n",
       "      <td>20:25:00</td>\n",
       "      <td>501</td>\n",
       "      <td>Cephas Street, Bethnal Green</td>\n",
       "      <td>2017-06-13 11:48:00+00:00</td>\n",
       "      <td>04:48:00</td>\n",
       "      <td>501</td>\n",
       "      <td>Cephas Street, Bethnal Green</td>\n",
       "    </tr>\n",
       "    <tr>\n",
       "      <th>2</th>\n",
       "      <td>66063574</td>\n",
       "      <td>15720</td>\n",
       "      <td>6088</td>\n",
       "      <td>2017-06-14 02:34:00+00:00</td>\n",
       "      <td>19:34:00</td>\n",
       "      <td>556</td>\n",
       "      <td>Heron Quays DLR, Canary Wharf</td>\n",
       "      <td>2017-06-13 22:12:00+00:00</td>\n",
       "      <td>15:12:00</td>\n",
       "      <td>477</td>\n",
       "      <td>Spindrift Avenue, Millwall</td>\n",
       "    </tr>\n",
       "    <tr>\n",
       "      <th>3</th>\n",
       "      <td>66063566</td>\n",
       "      <td>15780</td>\n",
       "      <td>4726</td>\n",
       "      <td>2017-06-14 02:34:00+00:00</td>\n",
       "      <td>19:34:00</td>\n",
       "      <td>556</td>\n",
       "      <td>Heron Quays DLR, Canary Wharf</td>\n",
       "      <td>2017-06-13 22:11:00+00:00</td>\n",
       "      <td>15:11:00</td>\n",
       "      <td>477</td>\n",
       "      <td>Spindrift Avenue, Millwall</td>\n",
       "    </tr>\n",
       "    <tr>\n",
       "      <th>4</th>\n",
       "      <td>66037030</td>\n",
       "      <td>52440</td>\n",
       "      <td>3686</td>\n",
       "      <td>2017-06-14 02:26:00+00:00</td>\n",
       "      <td>19:26:00</td>\n",
       "      <td>523</td>\n",
       "      <td>Langdon Park, Poplar</td>\n",
       "      <td>2017-06-13 11:52:00+00:00</td>\n",
       "      <td>04:52:00</td>\n",
       "      <td>501</td>\n",
       "      <td>Cephas Street, Bethnal Green</td>\n",
       "    </tr>\n",
       "  </tbody>\n",
       "</table>\n",
       "</div>"
      ],
      "text/plain": [
       "   rental_id  duration  bike_id                  end_date end_time_california  \\\n",
       "0   66036927     56280     6631 2017-06-14 03:25:00+00:00            20:25:00   \n",
       "1   66036945     56220    13042 2017-06-14 03:25:00+00:00            20:25:00   \n",
       "2   66063574     15720     6088 2017-06-14 02:34:00+00:00            19:34:00   \n",
       "3   66063566     15780     4726 2017-06-14 02:34:00+00:00            19:34:00   \n",
       "4   66037030     52440     3686 2017-06-14 02:26:00+00:00            19:26:00   \n",
       "\n",
       "   end_station_id               end_station_name                start_date  \\\n",
       "0             501   Cephas Street, Bethnal Green 2017-06-13 11:47:00+00:00   \n",
       "1             501   Cephas Street, Bethnal Green 2017-06-13 11:48:00+00:00   \n",
       "2             556  Heron Quays DLR, Canary Wharf 2017-06-13 22:12:00+00:00   \n",
       "3             556  Heron Quays DLR, Canary Wharf 2017-06-13 22:11:00+00:00   \n",
       "4             523           Langdon Park, Poplar 2017-06-13 11:52:00+00:00   \n",
       "\n",
       "  start_time_california  start_station_id            start_station_name  \n",
       "0              04:47:00               501  Cephas Street, Bethnal Green  \n",
       "1              04:48:00               501  Cephas Street, Bethnal Green  \n",
       "2              15:12:00               477    Spindrift Avenue, Millwall  \n",
       "3              15:11:00               477    Spindrift Avenue, Millwall  \n",
       "4              04:52:00               501  Cephas Street, Bethnal Green  "
      ]
     },
     "execution_count": 65,
     "metadata": {},
     "output_type": "execute_result"
    }
   ],
   "source": [
    "%%bigquery\n",
    "\n",
    "SELECT\n",
    "  rental_id,\n",
    "  duration,\n",
    "  bike_id,\n",
    "  end_date,\n",
    "  EXTRACT(TIME FROM end_date AT TIME ZONE \"America/Los_Angeles\") AS end_time_california,\n",
    "  end_station_id,\n",
    "  end_station_name,\n",
    "  start_date,\n",
    "  EXTRACT(TIME FROM start_date AT TIME ZONE \"America/Los_Angeles\") AS start_time_california,\n",
    "  start_station_id,\n",
    "  start_station_name\n",
    "FROM\n",
    "  `bigquery-public-data`.london_bicycles.cycle_hire\n",
    "ORDER BY\n",
    "  end_date DESC\n",
    "LIMIT\n",
    "  5"
   ]
  },
  {
   "cell_type": "markdown",
   "metadata": {},
   "source": [
    "## The SELECT Statement\n",
    "\n",
    "\n",
    "The syntax of the `SELECT` statement is generally compatible between Teradata and\n",
    "BigQuery. This section notes differences that often must be\n",
    "addressed during migration."
   ]
  },
  {
   "cell_type": "markdown",
   "metadata": {},
   "source": [
    "### Identifiers\n",
    "\n",
    "BigQuery lets you use the following as\n",
    "[identifiers](https://cloud.google.com/bigquery/docs/reference/standard-sql/lexical#identifiers): projects;datasets; tables or views; columns.\n",
    "\n",
    "As a serverless product, BigQuery does not have a concept of a\n",
    "cluster or environment or fixed endpoint, therefore the project specifies the dataset's\n",
    "[resource hierarchy](https://cloud.google.com/resource-manager/docs/cloud-platform-resource-hierarchy).\n"
   ]
  },
  {
   "cell_type": "markdown",
   "metadata": {},
   "source": [
    "In a `SELECT` statement in Teradata, fully qualified column names can be used.\n",
    "BigQuery always references column names from tables or aliases,\n",
    "and never from projects or datasets."
   ]
  },
  {
   "cell_type": "markdown",
   "metadata": {},
   "source": [
    "For example, here are some options to address identifiers in BigQuery.\n",
    "\n",
    "Columns implicitly inferred from the table:\n",
    "\n",
    "```sql\n",
    "SELECT\n",
    " c\n",
    "FROM\n",
    " project.dataset.table\n",
    "```\n",
    "\n",
    "\n",
    "\n",
    "\n"
   ]
  },
  {
   "cell_type": "markdown",
   "metadata": {},
   "source": [
    "Or by using an explicit table reference:\n",
    "\n",
    "```sql\n",
    "SELECT\n",
    " table.c\n",
    "FROM\n",
    " project.dataset.table\n",
    "```"
   ]
  },
  {
   "cell_type": "markdown",
   "metadata": {},
   "source": [
    "Or by using an explicit table alias:\n",
    "\n",
    "```sql\n",
    "SELECT\n",
    " t.c\n",
    "FROM\n",
    " project.dataset.table t\n",
    "```"
   ]
  },
  {
   "cell_type": "markdown",
   "metadata": {},
   "source": [
    "__#TODO(you):__ Run the following queries showing the different indentifier options."
   ]
  },
  {
   "cell_type": "code",
   "execution_count": 75,
   "metadata": {},
   "outputs": [
    {
     "data": {
      "text/html": [
       "<div>\n",
       "<style scoped>\n",
       "    .dataframe tbody tr th:only-of-type {\n",
       "        vertical-align: middle;\n",
       "    }\n",
       "\n",
       "    .dataframe tbody tr th {\n",
       "        vertical-align: top;\n",
       "    }\n",
       "\n",
       "    .dataframe thead th {\n",
       "        text-align: right;\n",
       "    }\n",
       "</style>\n",
       "<table border=\"1\" class=\"dataframe\">\n",
       "  <thead>\n",
       "    <tr style=\"text-align: right;\">\n",
       "      <th></th>\n",
       "      <th>rental_id</th>\n",
       "      <th>duration</th>\n",
       "      <th>bike_id</th>\n",
       "    </tr>\n",
       "  </thead>\n",
       "  <tbody>\n",
       "    <tr>\n",
       "      <th>0</th>\n",
       "      <td>47469109</td>\n",
       "      <td>3180</td>\n",
       "      <td>7054</td>\n",
       "    </tr>\n",
       "  </tbody>\n",
       "</table>\n",
       "</div>"
      ],
      "text/plain": [
       "   rental_id  duration  bike_id\n",
       "0   47469109      3180     7054"
      ]
     },
     "execution_count": 75,
     "metadata": {},
     "output_type": "execute_result"
    }
   ],
   "source": [
    "%%bigquery\n",
    "\n",
    "SELECT\n",
    "  rental_id,\n",
    "  duration,\n",
    "  bike_id\n",
    "FROM\n",
    "  `bigquery-public-data`.london_bicycles.cycle_hire\n",
    "LIMIT\n",
    "  1"
   ]
  },
  {
   "cell_type": "code",
   "execution_count": 76,
   "metadata": {},
   "outputs": [
    {
     "data": {
      "text/html": [
       "<div>\n",
       "<style scoped>\n",
       "    .dataframe tbody tr th:only-of-type {\n",
       "        vertical-align: middle;\n",
       "    }\n",
       "\n",
       "    .dataframe tbody tr th {\n",
       "        vertical-align: top;\n",
       "    }\n",
       "\n",
       "    .dataframe thead th {\n",
       "        text-align: right;\n",
       "    }\n",
       "</style>\n",
       "<table border=\"1\" class=\"dataframe\">\n",
       "  <thead>\n",
       "    <tr style=\"text-align: right;\">\n",
       "      <th></th>\n",
       "      <th>rental_id</th>\n",
       "      <th>duration</th>\n",
       "      <th>bike_id</th>\n",
       "    </tr>\n",
       "  </thead>\n",
       "  <tbody>\n",
       "    <tr>\n",
       "      <th>0</th>\n",
       "      <td>47469109</td>\n",
       "      <td>3180</td>\n",
       "      <td>7054</td>\n",
       "    </tr>\n",
       "  </tbody>\n",
       "</table>\n",
       "</div>"
      ],
      "text/plain": [
       "   rental_id  duration  bike_id\n",
       "0   47469109      3180     7054"
      ]
     },
     "execution_count": 76,
     "metadata": {},
     "output_type": "execute_result"
    }
   ],
   "source": [
    "%%bigquery\n",
    "\n",
    "SELECT\n",
    "  cycle_hire.rental_id,\n",
    "  cycle_hire.duration,\n",
    "  cycle_hire.bike_id\n",
    "FROM\n",
    "  `bigquery-public-data`.london_bicycles.cycle_hire\n",
    "LIMIT\n",
    "  1"
   ]
  },
  {
   "cell_type": "code",
   "execution_count": 77,
   "metadata": {},
   "outputs": [
    {
     "data": {
      "text/html": [
       "<div>\n",
       "<style scoped>\n",
       "    .dataframe tbody tr th:only-of-type {\n",
       "        vertical-align: middle;\n",
       "    }\n",
       "\n",
       "    .dataframe tbody tr th {\n",
       "        vertical-align: top;\n",
       "    }\n",
       "\n",
       "    .dataframe thead th {\n",
       "        text-align: right;\n",
       "    }\n",
       "</style>\n",
       "<table border=\"1\" class=\"dataframe\">\n",
       "  <thead>\n",
       "    <tr style=\"text-align: right;\">\n",
       "      <th></th>\n",
       "      <th>rental_id</th>\n",
       "      <th>duration</th>\n",
       "      <th>bike_id</th>\n",
       "    </tr>\n",
       "  </thead>\n",
       "  <tbody>\n",
       "    <tr>\n",
       "      <th>0</th>\n",
       "      <td>58406630</td>\n",
       "      <td>1020</td>\n",
       "      <td>8168</td>\n",
       "    </tr>\n",
       "  </tbody>\n",
       "</table>\n",
       "</div>"
      ],
      "text/plain": [
       "   rental_id  duration  bike_id\n",
       "0   58406630      1020     8168"
      ]
     },
     "execution_count": 77,
     "metadata": {},
     "output_type": "execute_result"
    }
   ],
   "source": [
    "%%bigquery\n",
    "\n",
    "SELECT\n",
    "  r.rental_id,\n",
    "  r.duration,\n",
    "  r.bike_id\n",
    "FROM\n",
    "  `bigquery-public-data`.london_bicycles.cycle_hire r\n",
    "LIMIT\n",
    "  1"
   ]
  },
  {
   "cell_type": "markdown",
   "metadata": {},
   "source": [
    "### Alias references\n",
    "\n",
    "In a `SELECT` statement in Teradata, aliases can be defined and referenced\n",
    "within the same query. For instance, in the following snippet, `flag` is defined\n",
    "as a column alias, and then immediately referred to in the enclosed `CASE`\n",
    "statement.\n",
    "\n",
    "```sql\n",
    "SELECT\n",
    " F AS flag,\n",
    " CASE WHEN flag = 1 THEN ...\n",
    "```\n",
    "\n"
   ]
  },
  {
   "cell_type": "markdown",
   "metadata": {},
   "source": [
    "\n",
    "In standard SQL, references between columns *within the same query* are not\n",
    "allowed. To translate, you move the logic into a nested query:\n",
    "\n",
    "```sql\n",
    "SELECT\n",
    " q.*,\n",
    " CASE WHEN q.flag = 1 THEN ...\n",
    "FROM (\n",
    " SELECT\n",
    "   F AS flag,\n",
    "   ...\n",
    ") AS q\n",
    "```\n",
    "\n",
    "The sample placeholder `F` could itself be a nested query that returns a single\n",
    "column.\n"
   ]
  },
  {
   "cell_type": "markdown",
   "metadata": {},
   "source": [
    "__#TODO(you):__ Run the following query, notice the syntax error, and rewrite it with a nested query to conform to standard SQL.\n",
    "\n",
    "_Note:_ You could just move the EXTRACT() function but for the purposes of the exercise use a nested query."
   ]
  },
  {
   "cell_type": "code",
   "execution_count": 87,
   "metadata": {},
   "outputs": [
    {
     "name": "stdout",
     "output_type": "stream",
     "text": [
      "Executing query with job ID: 13132f61-d9c0-4896-8df6-fec241e38898\n",
      "Query executing: 0.43s"
     ]
    },
    {
     "name": "stderr",
     "output_type": "stream",
     "text": [
      "\n",
      "ERROR:\n",
      " 400 Unrecognized name: start_hour; Did you mean start_date? at [9:10]\n",
      "\n",
      "(job ID: 13132f61-d9c0-4896-8df6-fec241e38898)\n",
      "\n",
      "            -----Query Job SQL Follows-----             \n",
      "\n",
      "    |    .    |    .    |    .    |    .    |    .    |\n",
      "   1:-- Query should fail\n",
      "   2:SELECT\n",
      "   3:  rental_id,\n",
      "   4:  duration,\n",
      "   5:  bike_id,\n",
      "   6:  start_date,\n",
      "   7:  EXTRACT(HOUR FROM start_date) AS start_hour,\n",
      "   8:  CASE\n",
      "   9:    WHEN start_hour <= 12 THEN TRUE\n",
      "  10:  ELSE FALSE\n",
      "  11:END\n",
      "  12:  AS morning_ride\n",
      "  13:FROM\n",
      "  14:  `bigquery-public-data`.london_bicycles.cycle_hire\n",
      "  15:LIMIT\n",
      "  16:  1\n",
      "    |    .    |    .    |    .    |    .    |    .    |\n"
     ]
    }
   ],
   "source": [
    "%%bigquery\n",
    "-- Query should fail\n",
    "\n",
    "SELECT\n",
    "  rental_id,\n",
    "  duration,\n",
    "  bike_id,\n",
    "  start_date,\n",
    "  EXTRACT(HOUR FROM start_date) AS start_hour,\n",
    "  CASE\n",
    "    WHEN start_hour <= 12 THEN TRUE\n",
    "  ELSE FALSE\n",
    "END\n",
    "  AS morning_ride\n",
    "FROM\n",
    "  `bigquery-public-data`.london_bicycles.cycle_hire\n",
    "LIMIT\n",
    "  1"
   ]
  },
  {
   "cell_type": "code",
   "execution_count": 88,
   "metadata": {},
   "outputs": [
    {
     "data": {
      "text/html": [
       "<div>\n",
       "<style scoped>\n",
       "    .dataframe tbody tr th:only-of-type {\n",
       "        vertical-align: middle;\n",
       "    }\n",
       "\n",
       "    .dataframe tbody tr th {\n",
       "        vertical-align: top;\n",
       "    }\n",
       "\n",
       "    .dataframe thead th {\n",
       "        text-align: right;\n",
       "    }\n",
       "</style>\n",
       "<table border=\"1\" class=\"dataframe\">\n",
       "  <thead>\n",
       "    <tr style=\"text-align: right;\">\n",
       "      <th></th>\n",
       "      <th>rental_id</th>\n",
       "      <th>duration</th>\n",
       "      <th>bike_id</th>\n",
       "      <th>start_date</th>\n",
       "      <th>start_hour</th>\n",
       "      <th>morning_ride</th>\n",
       "    </tr>\n",
       "  </thead>\n",
       "  <tbody>\n",
       "    <tr>\n",
       "      <th>0</th>\n",
       "      <td>58406630</td>\n",
       "      <td>1020</td>\n",
       "      <td>8168</td>\n",
       "      <td>2016-09-15 10:09:00+00:00</td>\n",
       "      <td>10</td>\n",
       "      <td>True</td>\n",
       "    </tr>\n",
       "  </tbody>\n",
       "</table>\n",
       "</div>"
      ],
      "text/plain": [
       "   rental_id  duration  bike_id                start_date  start_hour  \\\n",
       "0   58406630      1020     8168 2016-09-15 10:09:00+00:00          10   \n",
       "\n",
       "   morning_ride  \n",
       "0          True  "
      ]
     },
     "execution_count": 88,
     "metadata": {},
     "output_type": "execute_result"
    }
   ],
   "source": [
    "%%bigquery\n",
    "-- Query should succeed\n",
    "\n",
    "SELECT\n",
    "  *,\n",
    "  CASE\n",
    "    WHEN start_hour <= 12 THEN TRUE\n",
    "  ELSE FALSE\n",
    "END\n",
    "  AS morning_ride\n",
    "FROM (\n",
    "  SELECT\n",
    "    rental_id,\n",
    "    duration,\n",
    "    bike_id,\n",
    "    start_date,\n",
    "    EXTRACT(HOUR\n",
    "    FROM\n",
    "      start_date) AS start_hour\n",
    "  FROM\n",
    "    `bigquery-public-data`.london_bicycles.cycle_hire ) AS rentals\n",
    "LIMIT\n",
    "  1"
   ]
  },
  {
   "cell_type": "markdown",
   "metadata": {},
   "source": [
    "### Filtering with LIKE\n",
    "\n",
    "In Teradata, the `LIKE ANY` operator is used to filter the results to a given\n",
    "set of possible options. For example:\n",
    "\n",
    "```sql\n",
    "SELECT*\n",
    "FROM t1\n",
    "WHERE a LIKE ANY ('string1', 'string2')\n",
    "```\n",
    "\n",
    "To translate statements that have this operator to standard SQL, you can split\n",
    "the list after `ANY` into several `OR` predicates:\n",
    "\n",
    "```sql\n",
    "SELECT*\n",
    "FROM t1\n",
    "WHERE a LIKE 'string1' OR a LIKE 'string2'\n",
    "```"
   ]
  },
  {
   "cell_type": "markdown",
   "metadata": {},
   "source": [
    "__#TODO(you):__ Rewrite this query with OR predicate so that it succeeds."
   ]
  },
  {
   "cell_type": "code",
   "execution_count": 92,
   "metadata": {},
   "outputs": [
    {
     "name": "stdout",
     "output_type": "stream",
     "text": [
      "Executing query with job ID: c6bb6e3b-06c1-4456-99dd-53214a1f9b69\n",
      "Query executing: 0.38s"
     ]
    },
    {
     "name": "stderr",
     "output_type": "stream",
     "text": [
      "\n",
      "ERROR:\n",
      " 400 Syntax error: Unexpected keyword ANY at [11:27]\n",
      "\n",
      "(job ID: c6bb6e3b-06c1-4456-99dd-53214a1f9b69)\n",
      "\n",
      "              -----Query Job SQL Follows-----               \n",
      "\n",
      "    |    .    |    .    |    .    |    .    |    .    |\n",
      "   1:-- Query should fail\n",
      "   2:SELECT\n",
      "   3:  rental_id,\n",
      "   4:  duration,\n",
      "   5:  bike_id,\n",
      "   6:  start_date,\n",
      "   7:  start_station_name\n",
      "   8:FROM\n",
      "   9:  `bigquery-public-data`.london_bicycles.cycle_hire\n",
      "  10:WHERE\n",
      "  11:  start_station_name LIKE ANY ('%Hyde Park%', '%Soho%')\n",
      "  12:LIMIT\n",
      "  13:  5\n",
      "    |    .    |    .    |    .    |    .    |    .    |\n"
     ]
    }
   ],
   "source": [
    "%%bigquery\n",
    "-- Query should fail\n",
    "\n",
    "SELECT\n",
    "  rental_id,\n",
    "  duration,\n",
    "  bike_id,\n",
    "  start_date,\n",
    "  start_station_name\n",
    "FROM\n",
    "  `bigquery-public-data`.london_bicycles.cycle_hire\n",
    "WHERE\n",
    "  start_station_name LIKE ANY ('%Hyde Park%', '%Soho%')\n",
    "LIMIT\n",
    "  5"
   ]
  },
  {
   "cell_type": "code",
   "execution_count": 93,
   "metadata": {},
   "outputs": [
    {
     "data": {
      "text/html": [
       "<div>\n",
       "<style scoped>\n",
       "    .dataframe tbody tr th:only-of-type {\n",
       "        vertical-align: middle;\n",
       "    }\n",
       "\n",
       "    .dataframe tbody tr th {\n",
       "        vertical-align: top;\n",
       "    }\n",
       "\n",
       "    .dataframe thead th {\n",
       "        text-align: right;\n",
       "    }\n",
       "</style>\n",
       "<table border=\"1\" class=\"dataframe\">\n",
       "  <thead>\n",
       "    <tr style=\"text-align: right;\">\n",
       "      <th></th>\n",
       "      <th>rental_id</th>\n",
       "      <th>duration</th>\n",
       "      <th>bike_id</th>\n",
       "      <th>start_date</th>\n",
       "      <th>start_station_name</th>\n",
       "    </tr>\n",
       "  </thead>\n",
       "  <tbody>\n",
       "    <tr>\n",
       "      <th>0</th>\n",
       "      <td>47469109</td>\n",
       "      <td>3180</td>\n",
       "      <td>7054</td>\n",
       "      <td>2015-09-03 11:52:00+00:00</td>\n",
       "      <td>Serpentine Car Park, Hyde Park</td>\n",
       "    </tr>\n",
       "    <tr>\n",
       "      <th>1</th>\n",
       "      <td>46915469</td>\n",
       "      <td>7380</td>\n",
       "      <td>3792</td>\n",
       "      <td>2015-08-16 09:56:00+00:00</td>\n",
       "      <td>Speakers' Corner 1, Hyde Park</td>\n",
       "    </tr>\n",
       "    <tr>\n",
       "      <th>2</th>\n",
       "      <td>47150505</td>\n",
       "      <td>2400</td>\n",
       "      <td>6748</td>\n",
       "      <td>2015-08-22 16:35:00+00:00</td>\n",
       "      <td>Triangle Car Park, Hyde Park</td>\n",
       "    </tr>\n",
       "    <tr>\n",
       "      <th>3</th>\n",
       "      <td>57635395</td>\n",
       "      <td>6060</td>\n",
       "      <td>1532</td>\n",
       "      <td>2016-08-25 16:04:00+00:00</td>\n",
       "      <td>Broadwick Street, Soho</td>\n",
       "    </tr>\n",
       "    <tr>\n",
       "      <th>4</th>\n",
       "      <td>63440296</td>\n",
       "      <td>2280</td>\n",
       "      <td>8998</td>\n",
       "      <td>2017-03-27 17:14:00+00:00</td>\n",
       "      <td>Park Lane , Hyde Park</td>\n",
       "    </tr>\n",
       "  </tbody>\n",
       "</table>\n",
       "</div>"
      ],
      "text/plain": [
       "   rental_id  duration  bike_id                start_date  \\\n",
       "0   47469109      3180     7054 2015-09-03 11:52:00+00:00   \n",
       "1   46915469      7380     3792 2015-08-16 09:56:00+00:00   \n",
       "2   47150505      2400     6748 2015-08-22 16:35:00+00:00   \n",
       "3   57635395      6060     1532 2016-08-25 16:04:00+00:00   \n",
       "4   63440296      2280     8998 2017-03-27 17:14:00+00:00   \n",
       "\n",
       "               start_station_name  \n",
       "0  Serpentine Car Park, Hyde Park  \n",
       "1   Speakers' Corner 1, Hyde Park  \n",
       "2    Triangle Car Park, Hyde Park  \n",
       "3          Broadwick Street, Soho  \n",
       "4           Park Lane , Hyde Park  "
      ]
     },
     "execution_count": 93,
     "metadata": {},
     "output_type": "execute_result"
    }
   ],
   "source": [
    "%%bigquery\n",
    "-- Query should fail\n",
    "\n",
    "SELECT\n",
    "  rental_id,\n",
    "  duration,\n",
    "  bike_id,\n",
    "  start_date,\n",
    "  start_station_name\n",
    "FROM\n",
    "  `bigquery-public-data`.london_bicycles.cycle_hire\n",
    "WHERE\n",
    "  start_station_name LIKE '%Hyde Park%'\n",
    "  OR start_station_name LIKE '%Soho%'\n",
    "LIMIT\n",
    "  5"
   ]
  },
  {
   "cell_type": "markdown",
   "metadata": {},
   "source": [
    "### The QUALIFY clause\n"
   ]
  },
  {
   "cell_type": "markdown",
   "metadata": {},
   "source": [
    "\n",
    "Teradata's\n",
    "[QUALIFY](https://docs.teradata.com/reader/2_MC9vCtAJRlKle2Rpb0mA/19NnI91neorAi7LX6SJXBw) clause is a conditional clause in the `SELECT` statement that filters results of a previously computed, ordered [analytic function](https://cloud.google.com/bigquery/docs/reference/standard-sql/analytic-function-concepts) according to user‑specified search conditions. Its syntax consists of the `QUALIFY` clause followed by the analytic function, such as [`ROW_NUMBER`](https://docs.teradata.com/reader/kmuOwjp1zEYg98JsB8fu_A/8AEiTSe3nkHWox93XxcLrg) or [`RANK`](https://docs.teradata.com/reader/kmuOwjp1zEYg98JsB8fu_A/8Ex9CS5XErnUTmh7zcrOPg), and the values you want to find:\n",
    "\n",
    "```sql\n",
    "SELECT a, b\n",
    "FROM t1\n",
    "QUALIFY ROW_NUMBER() OVER (PARTITION BY a ORDER BY b) = 1\n",
    "```\n"
   ]
  },
  {
   "cell_type": "markdown",
   "metadata": {},
   "source": [
    "\n",
    "Teradata users commonly use this function as a shorthand way to rank and\n",
    "return results without the need for an additional subquery.\n",
    "\n",
    "The `QUALIFY` clause is translated to BigQuery by adding a\n",
    "`WHERE` condition to an enclosing query:\n",
    "\n",
    "```sql\n",
    "SELECT a, b\n",
    "FROM (\n",
    " SELECT a, b,\n",
    " ROW_NUMBER() OVER (PARTITION BY A ORDER BY B) row_num\n",
    " FROM t1\n",
    ") WHERE row_num = 1\n",
    "```"
   ]
  },
  {
   "cell_type": "markdown",
   "metadata": {},
   "source": [
    "__#TODO(you):__ Rewrite this query such that it succeeds without a QUALIFY clause\n",
    "\n",
    "This query is returning the very first completed rental for each unique `bike_id`, ordered by end_date."
   ]
  },
  {
   "cell_type": "code",
   "execution_count": 101,
   "metadata": {},
   "outputs": [
    {
     "name": "stdout",
     "output_type": "stream",
     "text": [
      "Executing query with job ID: 32d93aec-454b-425f-956e-b198b4ba939a\n",
      "Query executing: 0.22s"
     ]
    },
    {
     "name": "stderr",
     "output_type": "stream",
     "text": [
      "\n",
      "ERROR:\n",
      " 400 Syntax error: Expected end of input but got identifier \"ROW_NUMBER\" at [10:11]\n",
      "\n",
      "(job ID: 32d93aec-454b-425f-956e-b198b4ba939a)\n",
      "\n",
      "                         -----Query Job SQL Follows-----                         \n",
      "\n",
      "    |    .    |    .    |    .    |    .    |    .    |    .    |    .    |\n",
      "   1:-- Query should fail\n",
      "   2:\n",
      "   3:SELECT\n",
      "   4:  rental_id,\n",
      "   5:  duration,\n",
      "   6:  bike_id,\n",
      "   7:  end_date\n",
      "   8:FROM\n",
      "   9:  `bigquery-public-data`.london_bicycles.cycle_hire\n",
      "  10:  QUALIFY ROW_NUMBER() OVER (PARTITION BY bike_id ORDER BY end_date ASC) = 1\n",
      "  11:LIMIT\n",
      "  12:  5\n",
      "    |    .    |    .    |    .    |    .    |    .    |    .    |    .    |\n"
     ]
    }
   ],
   "source": [
    "%%bigquery\n",
    "-- Query should fail\n",
    "\n",
    "SELECT\n",
    "  rental_id,\n",
    "  duration,\n",
    "  bike_id,\n",
    "  end_date\n",
    "FROM\n",
    "  `bigquery-public-data`.london_bicycles.cycle_hire\n",
    "  QUALIFY ROW_NUMBER() OVER (PARTITION BY bike_id ORDER BY end_date ASC) = 1\n",
    "LIMIT\n",
    "  5"
   ]
  },
  {
   "cell_type": "code",
   "execution_count": 104,
   "metadata": {},
   "outputs": [
    {
     "data": {
      "text/html": [
       "<div>\n",
       "<style scoped>\n",
       "    .dataframe tbody tr th:only-of-type {\n",
       "        vertical-align: middle;\n",
       "    }\n",
       "\n",
       "    .dataframe tbody tr th {\n",
       "        vertical-align: top;\n",
       "    }\n",
       "\n",
       "    .dataframe thead th {\n",
       "        text-align: right;\n",
       "    }\n",
       "</style>\n",
       "<table border=\"1\" class=\"dataframe\">\n",
       "  <thead>\n",
       "    <tr style=\"text-align: right;\">\n",
       "      <th></th>\n",
       "      <th>rental_id</th>\n",
       "      <th>duration</th>\n",
       "      <th>bike_id</th>\n",
       "      <th>end_date</th>\n",
       "    </tr>\n",
       "  </thead>\n",
       "  <tbody>\n",
       "    <tr>\n",
       "      <th>0</th>\n",
       "      <td>40352695</td>\n",
       "      <td>660</td>\n",
       "      <td>285</td>\n",
       "      <td>2015-01-04 15:40:00+00:00</td>\n",
       "    </tr>\n",
       "    <tr>\n",
       "      <th>1</th>\n",
       "      <td>40384822</td>\n",
       "      <td>360</td>\n",
       "      <td>351</td>\n",
       "      <td>2015-01-06 09:12:00+00:00</td>\n",
       "    </tr>\n",
       "    <tr>\n",
       "      <th>2</th>\n",
       "      <td>40570295</td>\n",
       "      <td>300</td>\n",
       "      <td>813</td>\n",
       "      <td>2015-01-15 09:07:00+00:00</td>\n",
       "    </tr>\n",
       "    <tr>\n",
       "      <th>3</th>\n",
       "      <td>40347059</td>\n",
       "      <td>1860</td>\n",
       "      <td>983</td>\n",
       "      <td>2015-01-04 04:21:00+00:00</td>\n",
       "    </tr>\n",
       "    <tr>\n",
       "      <th>4</th>\n",
       "      <td>50501327</td>\n",
       "      <td>1920</td>\n",
       "      <td>1177</td>\n",
       "      <td>2015-12-24 22:03:00+00:00</td>\n",
       "    </tr>\n",
       "  </tbody>\n",
       "</table>\n",
       "</div>"
      ],
      "text/plain": [
       "   rental_id  duration  bike_id                  end_date\n",
       "0   40352695       660      285 2015-01-04 15:40:00+00:00\n",
       "1   40384822       360      351 2015-01-06 09:12:00+00:00\n",
       "2   40570295       300      813 2015-01-15 09:07:00+00:00\n",
       "3   40347059      1860      983 2015-01-04 04:21:00+00:00\n",
       "4   50501327      1920     1177 2015-12-24 22:03:00+00:00"
      ]
     },
     "execution_count": 104,
     "metadata": {},
     "output_type": "execute_result"
    }
   ],
   "source": [
    "%%bigquery\n",
    "-- Query should succeed\n",
    "\n",
    "SELECT\n",
    "  rental_id,\n",
    "  duration,\n",
    "  bike_id,\n",
    "  end_date\n",
    "FROM (\n",
    "  SELECT\n",
    "    rental_id,\n",
    "    duration,\n",
    "    bike_id,\n",
    "    end_date,\n",
    "    ROW_NUMBER() OVER (PARTITION BY bike_id ORDER BY end_date ASC) rental_num\n",
    "  FROM\n",
    "    `bigquery-public-data`.london_bicycles.cycle_hire )\n",
    "WHERE\n",
    "  rental_num = 1\n",
    "LIMIT\n",
    "  5"
   ]
  },
  {
   "cell_type": "markdown",
   "metadata": {},
   "source": [
    "### Notes on Scalable Analytic and Aggregate Functions\n"
   ]
  },
  {
   "cell_type": "markdown",
   "metadata": {},
   "source": [
    "Many of the Analytic Functions and Aggregate Functions in BigQuery have been implemented in a distributed, scalable manner, meaning it is now harder to overload a single worker. If you have highly skewed data (for example a single `bike_id` accounts for 95% of rides) or you are sorting a very large dataset, this used to be processed on a single BigQuery worker.\n",
    "\n",
    "That said, it is still important to utilize BigQuery best-pratcies wherever possible. For example filtering early and often and applying `LIMIT` clauses on aggregate functions like `ARRAY_AGG()`."
   ]
  },
  {
   "cell_type": "markdown",
   "metadata": {},
   "source": [
    "The 'latest record' use-case has a particularly fast implementation using `ARRAY_AGG(.... LIMIT 1)[offset(0)]` which allows can run more efficiently because the `ORDER BY` is allowed to drop everything except the top record on each `GROUP BY`"
   ]
  },
  {
   "cell_type": "markdown",
   "metadata": {},
   "source": [
    "In this example query, we are no longer grouping by `bike_id`, so we are asking BigQuery to sort the entire dataset _and_ assign a row_number to all 24 million rows  before only picking the first one:"
   ]
  },
  {
   "cell_type": "code",
   "execution_count": 112,
   "metadata": {},
   "outputs": [
    {
     "name": "stdout",
     "output_type": "stream",
     "text": [
      "Executing query with job ID: 4eb1698e-5e8b-44f4-b687-99a622777e3b\n",
      "Query executing: 15.22s\n",
      "Query complete after 15.88s\n"
     ]
    },
    {
     "data": {
      "text/html": [
       "<div>\n",
       "<style scoped>\n",
       "    .dataframe tbody tr th:only-of-type {\n",
       "        vertical-align: middle;\n",
       "    }\n",
       "\n",
       "    .dataframe tbody tr th {\n",
       "        vertical-align: top;\n",
       "    }\n",
       "\n",
       "    .dataframe thead th {\n",
       "        text-align: right;\n",
       "    }\n",
       "</style>\n",
       "<table border=\"1\" class=\"dataframe\">\n",
       "  <thead>\n",
       "    <tr style=\"text-align: right;\">\n",
       "      <th></th>\n",
       "      <th>rental_id</th>\n",
       "      <th>duration</th>\n",
       "      <th>bike_id</th>\n",
       "      <th>end_date</th>\n",
       "    </tr>\n",
       "  </thead>\n",
       "  <tbody>\n",
       "    <tr>\n",
       "      <th>0</th>\n",
       "      <td>40346512</td>\n",
       "      <td>120</td>\n",
       "      <td>7793</td>\n",
       "      <td>2015-01-04 00:03:00+00:00</td>\n",
       "    </tr>\n",
       "  </tbody>\n",
       "</table>\n",
       "</div>"
      ],
      "text/plain": [
       "   rental_id  duration  bike_id                  end_date\n",
       "0   40346512       120     7793 2015-01-04 00:03:00+00:00"
      ]
     },
     "execution_count": 112,
     "metadata": {},
     "output_type": "execute_result"
    }
   ],
   "source": [
    "%%bigquery --verbose\n",
    "-- Query should succeed, but will take a bit\n",
    "\n",
    "SELECT\n",
    "  rental_id,\n",
    "  duration,\n",
    "  bike_id,\n",
    "  end_date\n",
    "FROM (\n",
    "  SELECT\n",
    "    rental_id,\n",
    "    duration,\n",
    "    bike_id,\n",
    "    end_date,\n",
    "    \n",
    "    -- NOTE: we removed the 'PARTITION BY bike_id' clause\n",
    "    ROW_NUMBER() OVER (ORDER BY end_date ASC) rental_num\n",
    "    \n",
    "  FROM\n",
    "    `bigquery-public-data`.london_bicycles.cycle_hire )\n",
    "WHERE\n",
    "  rental_num = 1"
   ]
  },
  {
   "cell_type": "markdown",
   "metadata": {},
   "source": [
    "We can apply the `ARRAY_AGG(.... LIMIT 1)[offset(0)]` trick to this query to speed it up greatly."
   ]
  },
  {
   "cell_type": "code",
   "execution_count": 113,
   "metadata": {},
   "outputs": [
    {
     "name": "stdout",
     "output_type": "stream",
     "text": [
      "Executing query with job ID: 99b4a883-d739-4112-8f5f-57c5e336265a\n",
      "Query executing: 2.21s\n",
      "Query complete after 2.85s\n"
     ]
    },
    {
     "data": {
      "text/html": [
       "<div>\n",
       "<style scoped>\n",
       "    .dataframe tbody tr th:only-of-type {\n",
       "        vertical-align: middle;\n",
       "    }\n",
       "\n",
       "    .dataframe tbody tr th {\n",
       "        vertical-align: top;\n",
       "    }\n",
       "\n",
       "    .dataframe thead th {\n",
       "        text-align: right;\n",
       "    }\n",
       "</style>\n",
       "<table border=\"1\" class=\"dataframe\">\n",
       "  <thead>\n",
       "    <tr style=\"text-align: right;\">\n",
       "      <th></th>\n",
       "      <th>rental_id</th>\n",
       "      <th>duration</th>\n",
       "      <th>bike_id</th>\n",
       "      <th>end_date</th>\n",
       "    </tr>\n",
       "  </thead>\n",
       "  <tbody>\n",
       "    <tr>\n",
       "      <th>0</th>\n",
       "      <td>40346512</td>\n",
       "      <td>120</td>\n",
       "      <td>7793</td>\n",
       "      <td>2015-01-04 00:03:00+00:00</td>\n",
       "    </tr>\n",
       "  </tbody>\n",
       "</table>\n",
       "</div>"
      ],
      "text/plain": [
       "   rental_id  duration  bike_id                  end_date\n",
       "0   40346512       120     7793 2015-01-04 00:03:00+00:00"
      ]
     },
     "execution_count": 113,
     "metadata": {},
     "output_type": "execute_result"
    }
   ],
   "source": [
    "%%bigquery --verbose\n",
    "-- Query should succeed more quickly\n",
    "\n",
    "SELECT\n",
    "  rental.*\n",
    "FROM (\n",
    "  SELECT\n",
    "    ARRAY_AGG( rentals\n",
    "    ORDER BY rentals.end_date ASC LIMIT 1)[OFFSET(0)] rental\n",
    "  FROM (\n",
    "    SELECT\n",
    "      rental_id,\n",
    "      duration,\n",
    "      bike_id,\n",
    "      end_date\n",
    "    FROM\n",
    "      `bigquery-public-data`.london_bicycles.cycle_hire) rentals )\n",
    "LIMIT\n",
    "  5"
   ]
  },
  {
   "cell_type": "markdown",
   "metadata": {},
   "source": [
    "The first rule of BigQuery optimization is if your query runs in an acceptable amount of time and with acceptable resources, don't fix it! BigQuery has lots of intelligent (and brute-force) tricks under the hood to optimize your query for you.\n",
    "\n",
    "For example, applying this ARRAY_AGG() trick to the original query where we had a `GROUP BY bike_id` class will greatly slow it down, mostly because this dataset is too small to benefit from this trick.\n",
    "\n",
    "__Bonus:__ Try this trick on the previous query and see if it's faster or slower"
   ]
  },
  {
   "cell_type": "markdown",
   "metadata": {},
   "source": [
    "## Data Definition Language (DDL)"
   ]
  },
  {
   "cell_type": "markdown",
   "metadata": {},
   "source": [
    "## Data Manipulation Language (DML)"
   ]
  },
  {
   "cell_type": "markdown",
   "metadata": {},
   "source": [
    "The [Data Manipulation Language (DML)](https://wikipedia.org/wiki/Data_manipulation_language) is used to list, add, delete, and modify data in a database. It includes the\n",
    "`SELECT`, `INSERT`, `DELETE`, and `UPDATE` statements.\n",
    "\n",
    "While the basic forms of these statements are the same between Teradata SQL and\n",
    "standard SQL, Teradata includes additional, non-standard clauses and special\n",
    "statement constructs that you need to convert when you migrate. The following\n",
    "sections present a non-exhaustive list of the most common statements, the main\n",
    "differences, and the recommended translations."
   ]
  },
  {
   "cell_type": "markdown",
   "metadata": {},
   "source": [
    "### The INSERT statement\n",
    "\n",
    "BigQuery is an enterprise data warehouse that focuses on Online\n",
    "Analytical Processing (OLAP). Using point-specific DML statements, such as\n",
    "executing a script with many `INSERT` statements, is an attempt to treat\n",
    "BigQuery like an Online Transaction Processing (OLTP) system,\n",
    "which is not a correct approach.\n"
   ]
  },
  {
   "cell_type": "markdown",
   "metadata": {},
   "source": [
    "\n",
    "BigQuery DML statements are intended for bulk updates, therefore\n",
    "each DML statement that modifies data\n",
    "[initiates an implicit transaction](https://cloud.google.com/bigquery/docs/reference/standard-sql/data-manipulation-language#limitations).\n",
    "You should group your DML statements whenever possible to avoid unnecessary\n",
    "transaction overhead.\n",
    "\n",
    "As an example, if you have the following set of statements from Teradata,\n",
    "running them as is in BigQuery is an anti-pattern:\n",
    "\n",
    "```sql\n",
    "INSERT INTO t1 (...) VALUES (...);\n",
    "INSERT INTO t1 (...) VALUES (...);\n",
    "```\n",
    "\n",
    "You can translate the previous script into a single `INSERT` statement, which\n",
    "performs a bulk operation instead:\n",
    "\n",
    "```sql\n",
    "INSERT INTO t1 VALUES (...), (...)\n",
    "```\n"
   ]
  },
  {
   "cell_type": "markdown",
   "metadata": {},
   "source": [
    "\n",
    "A typical scenario where a large number of `INSERT` statements is used is when\n",
    "you create a new table from an existing  table. In BigQuery,\n",
    "instead of using multiple `INSERT` statements, create a new table and insert all\n",
    "the rows in one operation using the\n",
    "[`CREATE TABLE ... AS SELECT`](https://cloud.google.com/bigquery/docs/reference/standard-sql/data-definition-language#creating_a_new_table_from_an_existing_table)\n",
    "statement.\n"
   ]
  },
  {
   "cell_type": "markdown",
   "metadata": {},
   "source": [
    "For the next example we first create a local copy of the data so that we have Write permissions:"
   ]
  },
  {
   "cell_type": "code",
   "execution_count": 140,
   "metadata": {},
   "outputs": [
    {
     "name": "stdout",
     "output_type": "stream",
     "text": [
      "BigQuery error in mk operation: Dataset 'dhodun1:my_london_bicycles_dataset'\n",
      "already exists.\n",
      "cp: replace dhodun1:my_london_bicycles_dataset.cycle_hire? (y/N) cp: replace dhodun1:my_london_bicycles_dataset.cycle_hire? (y/N) \n",
      "Got EOF; exiting. Is your input from a terminal?\n"
     ]
    },
    {
     "ename": "CalledProcessError",
     "evalue": "Command 'b'\\n# Create a dataset in your project\\nbq mk --location eu my_london_bicycles_dataset\\n\\n# Copy the public dataset to your project\\nbq cp bigquery-public-data:london_bicycles.cycle_hire my_london_bicycles_dataset.cycle_hire\\nbq cp bigquery-public-data:london_bicycles.cycle_stations my_london_bicycles_dataset.cycle_stations\\n'' returned non-zero exit status 1.",
     "output_type": "error",
     "traceback": [
      "\u001b[0;31m---------------------------------------------------------------------------\u001b[0m",
      "\u001b[0;31mCalledProcessError\u001b[0m                        Traceback (most recent call last)",
      "\u001b[0;32m<ipython-input-140-47a1da378bda>\u001b[0m in \u001b[0;36m<module>\u001b[0;34m\u001b[0m\n\u001b[0;32m----> 1\u001b[0;31m \u001b[0mget_ipython\u001b[0m\u001b[0;34m(\u001b[0m\u001b[0;34m)\u001b[0m\u001b[0;34m.\u001b[0m\u001b[0mrun_cell_magic\u001b[0m\u001b[0;34m(\u001b[0m\u001b[0;34m'bash'\u001b[0m\u001b[0;34m,\u001b[0m \u001b[0;34m''\u001b[0m\u001b[0;34m,\u001b[0m \u001b[0;34m'\\n# Create a dataset in your project\\nbq mk --location eu my_london_bicycles_dataset\\n\\n# Copy the public dataset to your project\\nbq cp bigquery-public-data:london_bicycles.cycle_hire my_london_bicycles_dataset.cycle_hire\\nbq cp bigquery-public-data:london_bicycles.cycle_stations my_london_bicycles_dataset.cycle_stations\\n'\u001b[0m\u001b[0;34m)\u001b[0m\u001b[0;34m\u001b[0m\u001b[0;34m\u001b[0m\u001b[0m\n\u001b[0m",
      "\u001b[0;32m/opt/conda/lib/python3.7/site-packages/IPython/core/interactiveshell.py\u001b[0m in \u001b[0;36mrun_cell_magic\u001b[0;34m(self, magic_name, line, cell)\u001b[0m\n\u001b[1;32m   2360\u001b[0m             \u001b[0;32mwith\u001b[0m \u001b[0mself\u001b[0m\u001b[0;34m.\u001b[0m\u001b[0mbuiltin_trap\u001b[0m\u001b[0;34m:\u001b[0m\u001b[0;34m\u001b[0m\u001b[0;34m\u001b[0m\u001b[0m\n\u001b[1;32m   2361\u001b[0m                 \u001b[0margs\u001b[0m \u001b[0;34m=\u001b[0m \u001b[0;34m(\u001b[0m\u001b[0mmagic_arg_s\u001b[0m\u001b[0;34m,\u001b[0m \u001b[0mcell\u001b[0m\u001b[0;34m)\u001b[0m\u001b[0;34m\u001b[0m\u001b[0;34m\u001b[0m\u001b[0m\n\u001b[0;32m-> 2362\u001b[0;31m                 \u001b[0mresult\u001b[0m \u001b[0;34m=\u001b[0m \u001b[0mfn\u001b[0m\u001b[0;34m(\u001b[0m\u001b[0;34m*\u001b[0m\u001b[0margs\u001b[0m\u001b[0;34m,\u001b[0m \u001b[0;34m**\u001b[0m\u001b[0mkwargs\u001b[0m\u001b[0;34m)\u001b[0m\u001b[0;34m\u001b[0m\u001b[0;34m\u001b[0m\u001b[0m\n\u001b[0m\u001b[1;32m   2363\u001b[0m             \u001b[0;32mreturn\u001b[0m \u001b[0mresult\u001b[0m\u001b[0;34m\u001b[0m\u001b[0;34m\u001b[0m\u001b[0m\n\u001b[1;32m   2364\u001b[0m \u001b[0;34m\u001b[0m\u001b[0m\n",
      "\u001b[0;32m/opt/conda/lib/python3.7/site-packages/IPython/core/magics/script.py\u001b[0m in \u001b[0;36mnamed_script_magic\u001b[0;34m(line, cell)\u001b[0m\n\u001b[1;32m    140\u001b[0m             \u001b[0;32melse\u001b[0m\u001b[0;34m:\u001b[0m\u001b[0;34m\u001b[0m\u001b[0;34m\u001b[0m\u001b[0m\n\u001b[1;32m    141\u001b[0m                 \u001b[0mline\u001b[0m \u001b[0;34m=\u001b[0m \u001b[0mscript\u001b[0m\u001b[0;34m\u001b[0m\u001b[0;34m\u001b[0m\u001b[0m\n\u001b[0;32m--> 142\u001b[0;31m             \u001b[0;32mreturn\u001b[0m \u001b[0mself\u001b[0m\u001b[0;34m.\u001b[0m\u001b[0mshebang\u001b[0m\u001b[0;34m(\u001b[0m\u001b[0mline\u001b[0m\u001b[0;34m,\u001b[0m \u001b[0mcell\u001b[0m\u001b[0;34m)\u001b[0m\u001b[0;34m\u001b[0m\u001b[0;34m\u001b[0m\u001b[0m\n\u001b[0m\u001b[1;32m    143\u001b[0m \u001b[0;34m\u001b[0m\u001b[0m\n\u001b[1;32m    144\u001b[0m         \u001b[0;31m# write a basic docstring:\u001b[0m\u001b[0;34m\u001b[0m\u001b[0;34m\u001b[0m\u001b[0;34m\u001b[0m\u001b[0m\n",
      "\u001b[0;32m<decorator-gen-110>\u001b[0m in \u001b[0;36mshebang\u001b[0;34m(self, line, cell)\u001b[0m\n",
      "\u001b[0;32m/opt/conda/lib/python3.7/site-packages/IPython/core/magic.py\u001b[0m in \u001b[0;36m<lambda>\u001b[0;34m(f, *a, **k)\u001b[0m\n\u001b[1;32m    185\u001b[0m     \u001b[0;31m# but it's overkill for just that one bit of state.\u001b[0m\u001b[0;34m\u001b[0m\u001b[0;34m\u001b[0m\u001b[0;34m\u001b[0m\u001b[0m\n\u001b[1;32m    186\u001b[0m     \u001b[0;32mdef\u001b[0m \u001b[0mmagic_deco\u001b[0m\u001b[0;34m(\u001b[0m\u001b[0marg\u001b[0m\u001b[0;34m)\u001b[0m\u001b[0;34m:\u001b[0m\u001b[0;34m\u001b[0m\u001b[0;34m\u001b[0m\u001b[0m\n\u001b[0;32m--> 187\u001b[0;31m         \u001b[0mcall\u001b[0m \u001b[0;34m=\u001b[0m \u001b[0;32mlambda\u001b[0m \u001b[0mf\u001b[0m\u001b[0;34m,\u001b[0m \u001b[0;34m*\u001b[0m\u001b[0ma\u001b[0m\u001b[0;34m,\u001b[0m \u001b[0;34m**\u001b[0m\u001b[0mk\u001b[0m\u001b[0;34m:\u001b[0m \u001b[0mf\u001b[0m\u001b[0;34m(\u001b[0m\u001b[0;34m*\u001b[0m\u001b[0ma\u001b[0m\u001b[0;34m,\u001b[0m \u001b[0;34m**\u001b[0m\u001b[0mk\u001b[0m\u001b[0;34m)\u001b[0m\u001b[0;34m\u001b[0m\u001b[0;34m\u001b[0m\u001b[0m\n\u001b[0m\u001b[1;32m    188\u001b[0m \u001b[0;34m\u001b[0m\u001b[0m\n\u001b[1;32m    189\u001b[0m         \u001b[0;32mif\u001b[0m \u001b[0mcallable\u001b[0m\u001b[0;34m(\u001b[0m\u001b[0marg\u001b[0m\u001b[0;34m)\u001b[0m\u001b[0;34m:\u001b[0m\u001b[0;34m\u001b[0m\u001b[0;34m\u001b[0m\u001b[0m\n",
      "\u001b[0;32m/opt/conda/lib/python3.7/site-packages/IPython/core/magics/script.py\u001b[0m in \u001b[0;36mshebang\u001b[0;34m(self, line, cell)\u001b[0m\n\u001b[1;32m    243\u001b[0m             \u001b[0msys\u001b[0m\u001b[0;34m.\u001b[0m\u001b[0mstderr\u001b[0m\u001b[0;34m.\u001b[0m\u001b[0mflush\u001b[0m\u001b[0;34m(\u001b[0m\u001b[0;34m)\u001b[0m\u001b[0;34m\u001b[0m\u001b[0;34m\u001b[0m\u001b[0m\n\u001b[1;32m    244\u001b[0m         \u001b[0;32mif\u001b[0m \u001b[0margs\u001b[0m\u001b[0;34m.\u001b[0m\u001b[0mraise_error\u001b[0m \u001b[0;32mand\u001b[0m \u001b[0mp\u001b[0m\u001b[0;34m.\u001b[0m\u001b[0mreturncode\u001b[0m\u001b[0;34m!=\u001b[0m\u001b[0;36m0\u001b[0m\u001b[0;34m:\u001b[0m\u001b[0;34m\u001b[0m\u001b[0;34m\u001b[0m\u001b[0m\n\u001b[0;32m--> 245\u001b[0;31m             \u001b[0;32mraise\u001b[0m \u001b[0mCalledProcessError\u001b[0m\u001b[0;34m(\u001b[0m\u001b[0mp\u001b[0m\u001b[0;34m.\u001b[0m\u001b[0mreturncode\u001b[0m\u001b[0;34m,\u001b[0m \u001b[0mcell\u001b[0m\u001b[0;34m,\u001b[0m \u001b[0moutput\u001b[0m\u001b[0;34m=\u001b[0m\u001b[0mout\u001b[0m\u001b[0;34m,\u001b[0m \u001b[0mstderr\u001b[0m\u001b[0;34m=\u001b[0m\u001b[0merr\u001b[0m\u001b[0;34m)\u001b[0m\u001b[0;34m\u001b[0m\u001b[0;34m\u001b[0m\u001b[0m\n\u001b[0m\u001b[1;32m    246\u001b[0m \u001b[0;34m\u001b[0m\u001b[0m\n\u001b[1;32m    247\u001b[0m     \u001b[0;32mdef\u001b[0m \u001b[0m_run_script\u001b[0m\u001b[0;34m(\u001b[0m\u001b[0mself\u001b[0m\u001b[0;34m,\u001b[0m \u001b[0mp\u001b[0m\u001b[0;34m,\u001b[0m \u001b[0mcell\u001b[0m\u001b[0;34m,\u001b[0m \u001b[0mto_close\u001b[0m\u001b[0;34m)\u001b[0m\u001b[0;34m:\u001b[0m\u001b[0;34m\u001b[0m\u001b[0;34m\u001b[0m\u001b[0m\n",
      "\u001b[0;31mCalledProcessError\u001b[0m: Command 'b'\\n# Create a dataset in your project\\nbq mk --location eu my_london_bicycles_dataset\\n\\n# Copy the public dataset to your project\\nbq cp bigquery-public-data:london_bicycles.cycle_hire my_london_bicycles_dataset.cycle_hire\\nbq cp bigquery-public-data:london_bicycles.cycle_stations my_london_bicycles_dataset.cycle_stations\\n'' returned non-zero exit status 1."
     ]
    }
   ],
   "source": [
    "%%bash\n",
    "\n",
    "# Create a dataset in your project\n",
    "bq mk --location eu my_london_bicycles_dataset\n",
    "\n",
    "# Copy the public dataset to your project\n",
    "bq cp bigquery-public-data:london_bicycles.cycle_hire my_london_bicycles_dataset.cycle_hire\n",
    "bq cp bigquery-public-data:london_bicycles.cycle_stations my_london_bicycles_dataset.cycle_stations"
   ]
  },
  {
   "cell_type": "code",
   "execution_count": 126,
   "metadata": {},
   "outputs": [
    {
     "name": "stdout",
     "output_type": "stream",
     "text": [
      "Table dhodun1:my_london_bicycles_dataset.cycle_hire\n",
      "\n",
      "   Last modified                      Schema                     Total Rows   Total Bytes   Expiration   Time Partitioning   Clustered Fields   Labels  \n",
      " ----------------- -------------------------------------------- ------------ ------------- ------------ ------------------- ------------------ -------- \n",
      "  24 Nov 16:35:05   |- rental_id: integer (required)             24369201     2784394803                                                                \n",
      "                    |- duration: integer                                                                                                                \n",
      "                    |- bike_id: integer                                                                                                                 \n",
      "                    |- end_date: timestamp                                                                                                              \n",
      "                    |- end_station_id: integer                                                                                                          \n",
      "                    |- end_station_name: string                                                                                                         \n",
      "                    |- start_date: timestamp                                                                                                            \n",
      "                    |- start_station_id: integer                                                                                                        \n",
      "                    |- start_station_name: string                                                                                                       \n",
      "                    |- end_station_logical_terminal: integer                                                                                            \n",
      "                    |- start_station_logical_terminal: integer                                                                                          \n",
      "                    |- end_station_priority_id: integer                                                                                                 \n",
      "\n"
     ]
    }
   ],
   "source": [
    "%%bash\n",
    "\n",
    "# Examine your local table\n",
    "bq show my_london_bicycles_dataset.cycle_hire"
   ]
  },
  {
   "cell_type": "markdown",
   "metadata": {},
   "source": [
    "__#TODO(you):__ Rewrite this `INSERT INTO` query so that it only executes one DML transaction"
   ]
  },
  {
   "cell_type": "code",
   "execution_count": 129,
   "metadata": {},
   "outputs": [
    {
     "data": {
      "text/html": [
       "<div>\n",
       "<style scoped>\n",
       "    .dataframe tbody tr th:only-of-type {\n",
       "        vertical-align: middle;\n",
       "    }\n",
       "\n",
       "    .dataframe tbody tr th {\n",
       "        vertical-align: top;\n",
       "    }\n",
       "\n",
       "    .dataframe thead th {\n",
       "        text-align: right;\n",
       "    }\n",
       "</style>\n",
       "<table border=\"1\" class=\"dataframe\">\n",
       "  <thead>\n",
       "    <tr style=\"text-align: right;\">\n",
       "      <th></th>\n",
       "      <th>f0_</th>\n",
       "    </tr>\n",
       "  </thead>\n",
       "  <tbody>\n",
       "    <tr>\n",
       "      <th>0</th>\n",
       "      <td>24369202</td>\n",
       "    </tr>\n",
       "  </tbody>\n",
       "</table>\n",
       "</div>"
      ],
      "text/plain": [
       "        f0_\n",
       "0  24369202"
      ]
     },
     "execution_count": 129,
     "metadata": {},
     "output_type": "execute_result"
    }
   ],
   "source": [
    "%%bigquery\n",
    "-- Rows before\n",
    "\n",
    "SELECT COUNT(*) FROM my_london_bicycles_dataset.cycle_hire"
   ]
  },
  {
   "cell_type": "code",
   "execution_count": 134,
   "metadata": {},
   "outputs": [
    {
     "data": {
      "text/html": [
       "<div>\n",
       "<style scoped>\n",
       "    .dataframe tbody tr th:only-of-type {\n",
       "        vertical-align: middle;\n",
       "    }\n",
       "\n",
       "    .dataframe tbody tr th {\n",
       "        vertical-align: top;\n",
       "    }\n",
       "\n",
       "    .dataframe thead th {\n",
       "        text-align: right;\n",
       "    }\n",
       "</style>\n",
       "<table border=\"1\" class=\"dataframe\">\n",
       "  <thead>\n",
       "    <tr style=\"text-align: right;\">\n",
       "      <th></th>\n",
       "    </tr>\n",
       "  </thead>\n",
       "  <tbody>\n",
       "  </tbody>\n",
       "</table>\n",
       "</div>"
      ],
      "text/plain": [
       "Empty DataFrame\n",
       "Columns: []\n",
       "Index: []"
      ]
     },
     "execution_count": 134,
     "metadata": {},
     "output_type": "execute_result"
    }
   ],
   "source": [
    "%%bigquery\n",
    "-- Query to be edited\n",
    "INSERT INTO\n",
    "  my_london_bicycles_dataset.cycle_hire\n",
    "VALUES\n",
    "  (47469109, 3180, 7054, '2015-09-03 12:45:00 UTC', 111, 'Park Lane, Hyde Park', '2015-09-03 11:52:00 UTC', 300, 'Serpentine Car Park, Hyde Park', NULL, NULL, NULL);\n",
    "INSERT INTO\n",
    "  my_london_bicycles_dataset.cycle_hire\n",
    "VALUES\n",
    "  (46915469, 7380, 3792, '2015-08-16 11:59:00 UTC', 407, 'Speakers\\' Corner 1, Hyde Park', '2015-08-16 09:56:00 UTC', 407, 'Speakers\\' Corner 1, Hyde Park', NULL, NULL, NULL);"
   ]
  },
  {
   "cell_type": "code",
   "execution_count": null,
   "metadata": {},
   "outputs": [],
   "source": [
    "%%bigquery\n",
    "-- Fixed query\n",
    "INSERT INTO\n",
    "  my_london_bicycles_dataset.cycle_hire\n",
    "VALUES\n",
    "  (47469109, 3180, 7054, '2015-09-03 12:45:00 UTC', 111, 'Park Lane, Hyde Park', '2015-09-03 11:52:00 UTC', 300, 'Serpentine Car Park, Hyde Park', NULL, NULL, NULL),\n",
    "  (46915469, 7380, 3792, '2015-08-16 11:59:00 UTC', 407, 'Speakers\\' Corner 1, Hyde Park', '2015-08-16 09:56:00 UTC', 407, 'Speakers\\' Corner 1, Hyde Park', NULL, NULL, NULL);"
   ]
  },
  {
   "cell_type": "code",
   "execution_count": 133,
   "metadata": {},
   "outputs": [
    {
     "data": {
      "text/html": [
       "<div>\n",
       "<style scoped>\n",
       "    .dataframe tbody tr th:only-of-type {\n",
       "        vertical-align: middle;\n",
       "    }\n",
       "\n",
       "    .dataframe tbody tr th {\n",
       "        vertical-align: top;\n",
       "    }\n",
       "\n",
       "    .dataframe thead th {\n",
       "        text-align: right;\n",
       "    }\n",
       "</style>\n",
       "<table border=\"1\" class=\"dataframe\">\n",
       "  <thead>\n",
       "    <tr style=\"text-align: right;\">\n",
       "      <th></th>\n",
       "      <th>f0_</th>\n",
       "    </tr>\n",
       "  </thead>\n",
       "  <tbody>\n",
       "    <tr>\n",
       "      <th>0</th>\n",
       "      <td>24369205</td>\n",
       "    </tr>\n",
       "  </tbody>\n",
       "</table>\n",
       "</div>"
      ],
      "text/plain": [
       "        f0_\n",
       "0  24369205"
      ]
     },
     "execution_count": 133,
     "metadata": {},
     "output_type": "execute_result"
    }
   ],
   "source": [
    "%%bigquery\n",
    "-- Rows after\n",
    "\n",
    "SELECT COUNT(*) FROM my_london_bicycles_dataset.cycle_hire"
   ]
  },
  {
   "cell_type": "markdown",
   "metadata": {},
   "source": [
    "### The UPDATE statement\n",
    "\n",
    "`UPDATE` statements in Teradata are similar to `UPDATE` statements in standard\n",
    "SQL. The important differences are:\n",
    "\n",
    "-   The order of the `SET` and `FROM` clauses is reversed.\n",
    "-   Any\n",
    "    [Teradata correlation names](https://docs.teradata.com/reader/huc7AEHyHSROUkrYABqNIg/k6fC7ozmhIZZXa315VjJAw)\n",
    "    used as table aliases in the `UPDATE` must be removed.\n",
    "-   In Standard SQL, each `UPDATE` statement must include the `WHERE` keyword,\n",
    "    followed by a condition. To update all rows in the table, use `WHERE true`.\n",
    "\n",
    "The following example shows an `UPDATE` statement from Teradata that uses\n",
    "joins:\n",
    "\n",
    "```sql\n",
    "UPDATE t1\n",
    "FROM t1, t2\n",
    "SET\n",
    " b = t2.b\n",
    "WHERE a = t2.a;\n",
    "```\n",
    "\n",
    "The equivalent statement in standard SQL is the following:\n",
    "\n",
    "```sql\n",
    "UPDATE t1\n",
    "SET\n",
    " b = t2.b\n",
    "FROM t2\n",
    "WHERE a = t2.a;\n",
    "```\n",
    "\n",
    "The considerations from the previous section about executing large numbers of\n",
    "DML statements in BigQuery also apply in this case. We recommend\n",
    "using a single\n",
    "[`MERGE`](https://cloud.google.com/bigquery/docs/reference/standard-sql/dml-syntax#merge_statement)\n",
    "statement instead of multiple `UPDATE` statements.\n"
   ]
  },
  {
   "cell_type": "markdown",
   "metadata": {},
   "source": [
    "__#TODO(you):__ Rewrite this UPDATE statement so that it executes in BigQuery"
   ]
  },
  {
   "cell_type": "code",
   "execution_count": 146,
   "metadata": {},
   "outputs": [
    {
     "name": "stdout",
     "output_type": "stream",
     "text": [
      "Executing query with job ID: b4cedc82-5022-478b-b2dd-fbb060d5c4a7\n",
      "Query executing: 0.29s"
     ]
    },
    {
     "name": "stderr",
     "output_type": "stream",
     "text": [
      "\n",
      "ERROR:\n",
      " 400 Syntax error: Unexpected keyword FROM at [4:1]\n",
      "\n",
      "(job ID: b4cedc82-5022-478b-b2dd-fbb060d5c4a7)\n",
      "\n",
      "                                     -----Query Job SQL Follows-----                                     \n",
      "\n",
      "    |    .    |    .    |    .    |    .    |    .    |    .    |    .    |    .    |    .    |    .    |\n",
      "   1:-- Query will fail\n",
      "   2:UPDATE\n",
      "   3:  my_london_bicycles_dataset.cycle_hire\n",
      "   4:FROM my_london_bicycles_dataset.cycle_hire t1, `bigquery-public-data`.london_bicycles.cycle_hire t2 \n",
      "   5:SET\n",
      "   6:  bike_id = t2.bike_id \n",
      "   7:WHERE\n",
      "   8:  t1.rental_id = t2.rental_id\n",
      "    |    .    |    .    |    .    |    .    |    .    |    .    |    .    |    .    |    .    |    .    |\n"
     ]
    }
   ],
   "source": [
    "%%bigquery --verbose\n",
    "-- Query will fail\n",
    "UPDATE\n",
    "  my_london_bicycles_dataset.cycle_hire\n",
    "FROM my_london_bicycles_dataset.cycle_hire t1, `bigquery-public-data`.london_bicycles.cycle_hire t2 \n",
    "SET\n",
    "  bike_id = t2.bike_id \n",
    "WHERE\n",
    "  t1.rental_id = t2.rental_id"
   ]
  },
  {
   "cell_type": "code",
   "execution_count": 143,
   "metadata": {},
   "outputs": [
    {
     "name": "stdout",
     "output_type": "stream",
     "text": [
      "Executing query with job ID: 58889cf8-5eca-4993-b7cf-edb800462aae\n",
      "Query executing: 47.41s\n",
      "Query complete after 48.42s\n"
     ]
    },
    {
     "data": {
      "text/html": [
       "<div>\n",
       "<style scoped>\n",
       "    .dataframe tbody tr th:only-of-type {\n",
       "        vertical-align: middle;\n",
       "    }\n",
       "\n",
       "    .dataframe tbody tr th {\n",
       "        vertical-align: top;\n",
       "    }\n",
       "\n",
       "    .dataframe thead th {\n",
       "        text-align: right;\n",
       "    }\n",
       "</style>\n",
       "<table border=\"1\" class=\"dataframe\">\n",
       "  <thead>\n",
       "    <tr style=\"text-align: right;\">\n",
       "      <th></th>\n",
       "    </tr>\n",
       "  </thead>\n",
       "  <tbody>\n",
       "  </tbody>\n",
       "</table>\n",
       "</div>"
      ],
      "text/plain": [
       "Empty DataFrame\n",
       "Columns: []\n",
       "Index: []"
      ]
     },
     "execution_count": 143,
     "metadata": {},
     "output_type": "execute_result"
    }
   ],
   "source": [
    "%%bigquery --verbose\n",
    "-- Query will succeed but take a bit of time\n",
    "UPDATE\n",
    "  my_london_bicycles_dataset.cycle_hire t1\n",
    "SET\n",
    "  bike_id = t2.bike_id\n",
    "FROM\n",
    "  `bigquery-public-data`.london_bicycles.cycle_hire t2\n",
    "WHERE\n",
    "  t1.rental_id = t2.rental_id"
   ]
  },
  {
   "cell_type": "markdown",
   "metadata": {},
   "source": [
    "### The DELETE statement\n",
    "\n",
    "Standard SQL requires `DELETE` statements to have a `WHERE` clause. In\n",
    "Teradata, `WHERE` clauses are\n",
    "[optional in `DELETE` statements](https://docs.teradata.com/reader/huc7AEHyHSROUkrYABqNIg/z8eO9bdxtjFRveHdDwwYPQ)\n",
    "if you're deleting all the rows in a table. (If specific rows are being deleted,\n",
    "the Teradata DML also requires a `WHERE` clause.) During translation, any\n",
    "missing `WHERE` clauses must be added to scripts. This change is necessary only\n",
    "when all the rows in a table will be deleted.\n",
    "\n",
    "For instance, the following statement in Teradata SQL deletes all the rows from\n",
    "a table. The `ALL` clause is optional:\n",
    "\n",
    "```sql\n",
    "DELETE t1 ALL;\n",
    "```\n",
    "\n",
    "The translation into standard SQL is as follows:\n",
    "\n",
    "```sql\n",
    "DELETE FROM t1 WHERE TRUE;\n",
    "```"
   ]
  },
  {
   "cell_type": "markdown",
   "metadata": {},
   "source": [
    "__#TODO(you):__ Rewrite this UPDATE statement so that it executes in BigQuery"
   ]
  },
  {
   "cell_type": "code",
   "execution_count": 148,
   "metadata": {},
   "outputs": [
    {
     "name": "stdout",
     "output_type": "stream",
     "text": [
      "Executing query with job ID: ae44c518-de4f-403e-bda3-7102b7e829bc\n",
      "Query executing: 0.25s"
     ]
    },
    {
     "name": "stderr",
     "output_type": "stream",
     "text": [
      "\n",
      "ERROR:\n",
      " 400 Syntax error: Unexpected keyword ALL at [3:46]\n",
      "\n",
      "(job ID: ae44c518-de4f-403e-bda3-7102b7e829bc)\n",
      "\n",
      "           -----Query Job SQL Follows-----            \n",
      "\n",
      "    |    .    |    .    |    .    |    .    |\n",
      "   1:--Query will fail\n",
      "   2:\n",
      "   3:DELETE my_london_bicycles_dataset.cycle_hire ALL;\n",
      "    |    .    |    .    |    .    |    .    |\n"
     ]
    }
   ],
   "source": [
    "%%bigquery\n",
    "--Query will fail\n",
    "\n",
    "DELETE my_london_bicycles_dataset.cycle_hire ALL;"
   ]
  },
  {
   "cell_type": "code",
   "execution_count": 149,
   "metadata": {},
   "outputs": [
    {
     "data": {
      "text/html": [
       "<div>\n",
       "<style scoped>\n",
       "    .dataframe tbody tr th:only-of-type {\n",
       "        vertical-align: middle;\n",
       "    }\n",
       "\n",
       "    .dataframe tbody tr th {\n",
       "        vertical-align: top;\n",
       "    }\n",
       "\n",
       "    .dataframe thead th {\n",
       "        text-align: right;\n",
       "    }\n",
       "</style>\n",
       "<table border=\"1\" class=\"dataframe\">\n",
       "  <thead>\n",
       "    <tr style=\"text-align: right;\">\n",
       "      <th></th>\n",
       "    </tr>\n",
       "  </thead>\n",
       "  <tbody>\n",
       "  </tbody>\n",
       "</table>\n",
       "</div>"
      ],
      "text/plain": [
       "Empty DataFrame\n",
       "Columns: []\n",
       "Index: []"
      ]
     },
     "execution_count": 149,
     "metadata": {},
     "output_type": "execute_result"
    }
   ],
   "source": [
    "%%bigquery\n",
    "--Query will succeed\n",
    "\n",
    "DELETE my_london_bicycles_dataset.cycle_hire WHERE TRUE;"
   ]
  },
  {
   "cell_type": "markdown",
   "metadata": {},
   "source": [
    "## Stored Procedures"
   ]
  },
  {
   "cell_type": "code",
   "execution_count": null,
   "metadata": {},
   "outputs": [],
   "source": []
  }
 ],
 "metadata": {
  "environment": {
   "name": "tf2-gpu.2-1.m49",
   "type": "gcloud",
   "uri": "gcr.io/deeplearning-platform-release/tf2-gpu.2-1:m49"
  },
  "kernelspec": {
   "display_name": "Python 3",
   "language": "python",
   "name": "python3"
  },
  "language_info": {
   "codemirror_mode": {
    "name": "ipython",
    "version": 3
   },
   "file_extension": ".py",
   "mimetype": "text/x-python",
   "name": "python",
   "nbconvert_exporter": "python",
   "pygments_lexer": "ipython3",
   "version": "3.7.6"
  }
 },
 "nbformat": 4,
 "nbformat_minor": 4
}
